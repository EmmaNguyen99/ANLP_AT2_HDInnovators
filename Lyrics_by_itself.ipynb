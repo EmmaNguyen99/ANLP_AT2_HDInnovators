{
 "cells": [
  {
   "cell_type": "code",
   "execution_count": 1,
   "metadata": {},
   "outputs": [],
   "source": [
    "import pandas as pd\n",
    "import itertools\n",
    "\n",
    "import seaborn as sns\n",
    "import matplotlib.pyplot as plt\n",
    "\n",
    "from sklearn import preprocessing\n",
    "from sklearn.model_selection import train_test_split, GridSearchCV\n",
    "from sklearn.pipeline import Pipeline\n",
    "\n",
    "#sci-kit learn classifiers\n",
    "from sklearn.neighbors import KNeighborsClassifier\n",
    "from sklearn.tree import DecisionTreeClassifier\n",
    "from sklearn.ensemble import RandomForestClassifier\n",
    "from sklearn import svm\n",
    "\n",
    "#text/NLP \n",
    "from sklearn.feature_extraction.text import CountVectorizer, TfidfVectorizer\n",
    "from sklearn.linear_model import LogisticRegressionCV, LogisticRegression\n",
    "\n",
    "from sklearn.metrics import (confusion_matrix,accuracy_score, roc_auc_score, recall_score,\n",
    "    precision_score, roc_curve, auc)\n",
    "from sklearn.metrics import ConfusionMatrixDisplay\n",
    "\n",
    "\n",
    "#for oversampling \n",
    "from imblearn.over_sampling import RandomOverSampler"
   ]
  },
  {
   "cell_type": "code",
   "execution_count": 2,
   "metadata": {},
   "outputs": [],
   "source": [
    "df_lyrics = pd.read_csv('lyrics_all_combined.csv')\n",
    "df_lyrics.head(3)\n",
    "\n",
    "df_lyrics=df_lyrics.dropna(subset=['lyrics'])\n"
   ]
  },
  {
   "cell_type": "code",
   "execution_count": 3,
   "metadata": {},
   "outputs": [
    {
     "name": "stdout",
     "output_type": "stream",
     "text": [
      "<class 'pandas.core.frame.DataFrame'>\n",
      "Int64Index: 8025 entries, 0 to 8024\n",
      "Data columns (total 5 columns):\n",
      " #   Column        Non-Null Count  Dtype \n",
      "---  ------        --------------  ----- \n",
      " 0   artist_name   8025 non-null   object\n",
      " 1   track_name    8025 non-null   object\n",
      " 2   lyrics        8025 non-null   object\n",
      " 3   release_date  8025 non-null   int64 \n",
      " 4   genre         8025 non-null   object\n",
      "dtypes: int64(1), object(4)\n",
      "memory usage: 376.2+ KB\n"
     ]
    }
   ],
   "source": [
    "df_lyrics.info()"
   ]
  },
  {
   "cell_type": "code",
   "execution_count": 4,
   "metadata": {},
   "outputs": [
    {
     "data": {
      "text/html": [
       "<div>\n",
       "<style scoped>\n",
       "    .dataframe tbody tr th:only-of-type {\n",
       "        vertical-align: middle;\n",
       "    }\n",
       "\n",
       "    .dataframe tbody tr th {\n",
       "        vertical-align: top;\n",
       "    }\n",
       "\n",
       "    .dataframe thead th {\n",
       "        text-align: right;\n",
       "    }\n",
       "</style>\n",
       "<table border=\"1\" class=\"dataframe\">\n",
       "  <thead>\n",
       "    <tr style=\"text-align: right;\">\n",
       "      <th></th>\n",
       "      <th>artist_name</th>\n",
       "      <th>track_name</th>\n",
       "      <th>lyrics</th>\n",
       "      <th>release_date</th>\n",
       "      <th>genre</th>\n",
       "      <th>tokenized</th>\n",
       "    </tr>\n",
       "  </thead>\n",
       "  <tbody>\n",
       "    <tr>\n",
       "      <th>1057</th>\n",
       "      <td>morphine</td>\n",
       "      <td>mary</td>\n",
       "      <td>cross finger knock pray cross cannonball write...</td>\n",
       "      <td>2000</td>\n",
       "      <td>blues</td>\n",
       "      <td>[cross, finger, knock, pray, cross, cannonball...</td>\n",
       "    </tr>\n",
       "    <tr>\n",
       "      <th>7517</th>\n",
       "      <td>kutless</td>\n",
       "      <td>strong tower</td>\n",
       "      <td>wander desert long home dream go astray strand...</td>\n",
       "      <td>2005</td>\n",
       "      <td>rock</td>\n",
       "      <td>[wander, desert, long, home, dream, go, astray...</td>\n",
       "    </tr>\n",
       "    <tr>\n",
       "      <th>5116</th>\n",
       "      <td>hirie</td>\n",
       "      <td>i wanna be</td>\n",
       "      <td>wanna wanna tell wrong tell right tell butterf...</td>\n",
       "      <td>2015</td>\n",
       "      <td>reggae</td>\n",
       "      <td>[wan, na, wan, na, tell, wrong, tell, right, t...</td>\n",
       "    </tr>\n",
       "    <tr>\n",
       "      <th>6651</th>\n",
       "      <td>judas priest</td>\n",
       "      <td>some heads are gonna roll</td>\n",
       "      <td>look leave look right live danger tonight enem...</td>\n",
       "      <td>1984</td>\n",
       "      <td>rock</td>\n",
       "      <td>[look, leave, look, right, live, danger, tonig...</td>\n",
       "    </tr>\n",
       "    <tr>\n",
       "      <th>912</th>\n",
       "      <td>santana</td>\n",
       "      <td>changes</td>\n",
       "      <td>feel change acoming time break wall silence li...</td>\n",
       "      <td>1981</td>\n",
       "      <td>blues</td>\n",
       "      <td>[feel, change, acoming, time, break, wall, sil...</td>\n",
       "    </tr>\n",
       "    <tr>\n",
       "      <th>6577</th>\n",
       "      <td>quiet riot</td>\n",
       "      <td>love's a bitch</td>\n",
       "      <td>know runnin know give crack lie breath time mi...</td>\n",
       "      <td>1983</td>\n",
       "      <td>rock</td>\n",
       "      <td>[know, runnin, know, give, crack, lie, breath,...</td>\n",
       "    </tr>\n",
       "    <tr>\n",
       "      <th>3175</th>\n",
       "      <td>lucinda williams</td>\n",
       "      <td>six blocks away</td>\n",
       "      <td>sleep second street roof head food hardly caus...</td>\n",
       "      <td>1992</td>\n",
       "      <td>country</td>\n",
       "      <td>[sleep, second, street, roof, head, food, hard...</td>\n",
       "    </tr>\n",
       "    <tr>\n",
       "      <th>3243</th>\n",
       "      <td>molly hatchet</td>\n",
       "      <td>both sides</td>\n",
       "      <td>ridin streetcar name desire fate seal comin li...</td>\n",
       "      <td>1983</td>\n",
       "      <td>country</td>\n",
       "      <td>[ridin, streetcar, name, desire, fate, seal, c...</td>\n",
       "    </tr>\n",
       "    <tr>\n",
       "      <th>5166</th>\n",
       "      <td>clinton fearon</td>\n",
       "      <td>stop the hate</td>\n",
       "      <td>stop hate stop hate stop hate stop hate brothe...</td>\n",
       "      <td>2004</td>\n",
       "      <td>reggae</td>\n",
       "      <td>[stop, hate, stop, hate, stop, hate, stop, hat...</td>\n",
       "    </tr>\n",
       "    <tr>\n",
       "      <th>3772</th>\n",
       "      <td>robert earl keen</td>\n",
       "      <td>sing one for sister</td>\n",
       "      <td>summer sunday even home place play guitar sist...</td>\n",
       "      <td>1989</td>\n",
       "      <td>country</td>\n",
       "      <td>[summer, sunday, even, home, place, play, guit...</td>\n",
       "    </tr>\n",
       "  </tbody>\n",
       "</table>\n",
       "</div>"
      ],
      "text/plain": [
       "           artist_name                 track_name  \\\n",
       "1057          morphine                       mary   \n",
       "7517           kutless               strong tower   \n",
       "5116             hirie                 i wanna be   \n",
       "6651      judas priest  some heads are gonna roll   \n",
       "912            santana                    changes   \n",
       "6577        quiet riot             love's a bitch   \n",
       "3175  lucinda williams            six blocks away   \n",
       "3243     molly hatchet                 both sides   \n",
       "5166    clinton fearon              stop the hate   \n",
       "3772  robert earl keen        sing one for sister   \n",
       "\n",
       "                                                 lyrics  release_date  \\\n",
       "1057  cross finger knock pray cross cannonball write...          2000   \n",
       "7517  wander desert long home dream go astray strand...          2005   \n",
       "5116  wanna wanna tell wrong tell right tell butterf...          2015   \n",
       "6651  look leave look right live danger tonight enem...          1984   \n",
       "912   feel change acoming time break wall silence li...          1981   \n",
       "6577  know runnin know give crack lie breath time mi...          1983   \n",
       "3175  sleep second street roof head food hardly caus...          1992   \n",
       "3243  ridin streetcar name desire fate seal comin li...          1983   \n",
       "5166  stop hate stop hate stop hate stop hate brothe...          2004   \n",
       "3772  summer sunday even home place play guitar sist...          1989   \n",
       "\n",
       "        genre                                          tokenized  \n",
       "1057    blues  [cross, finger, knock, pray, cross, cannonball...  \n",
       "7517     rock  [wander, desert, long, home, dream, go, astray...  \n",
       "5116   reggae  [wan, na, wan, na, tell, wrong, tell, right, t...  \n",
       "6651     rock  [look, leave, look, right, live, danger, tonig...  \n",
       "912     blues  [feel, change, acoming, time, break, wall, sil...  \n",
       "6577     rock  [know, runnin, know, give, crack, lie, breath,...  \n",
       "3175  country  [sleep, second, street, roof, head, food, hard...  \n",
       "3243  country  [ridin, streetcar, name, desire, fate, seal, c...  \n",
       "5166   reggae  [stop, hate, stop, hate, stop, hate, stop, hat...  \n",
       "3772  country  [summer, sunday, even, home, place, play, guit...  "
      ]
     },
     "execution_count": 4,
     "metadata": {},
     "output_type": "execute_result"
    }
   ],
   "source": [
    "import pandas as pd\n",
    "import nltk\n",
    "import string\n",
    "from nltk.tokenize import word_tokenize\n",
    "from nltk.corpus import stopwords, wordnet\n",
    "from nltk.stem import WordNetLemmatizer\n",
    "\n",
    "df_lyrics['lyrics'] = df_lyrics['lyrics'].apply(str)\n",
    "\n",
    "# Convert all string of lyrics to lowercase.\n",
    "df_lyrics['lyrics'] = df_lyrics['lyrics'].str.lower()\n",
    "\n",
    "# Tokenize text from lyrics. \n",
    "df_lyrics['tokenized'] = df_lyrics['lyrics'].apply(word_tokenize)\n",
    "\n",
    "# Remove punctuations.\n",
    "punc_marks = list(string.punctuation)\n",
    "df_lyrics['tokenized'] = df_lyrics['tokenized'].apply(lambda x: [word for word in x if word not in punc_marks])\n",
    "                                                                       \n",
    "# Display smaple data. \n",
    "df_lyrics.sample(10)"
   ]
  },
  {
   "cell_type": "code",
   "execution_count": 5,
   "metadata": {},
   "outputs": [
    {
     "data": {
      "text/html": [
       "<div>\n",
       "<style scoped>\n",
       "    .dataframe tbody tr th:only-of-type {\n",
       "        vertical-align: middle;\n",
       "    }\n",
       "\n",
       "    .dataframe tbody tr th {\n",
       "        vertical-align: top;\n",
       "    }\n",
       "\n",
       "    .dataframe thead th {\n",
       "        text-align: right;\n",
       "    }\n",
       "</style>\n",
       "<table border=\"1\" class=\"dataframe\">\n",
       "  <thead>\n",
       "    <tr style=\"text-align: right;\">\n",
       "      <th></th>\n",
       "      <th>artist_name</th>\n",
       "      <th>track_name</th>\n",
       "      <th>lyrics</th>\n",
       "      <th>release_date</th>\n",
       "      <th>genre</th>\n",
       "      <th>tokenized</th>\n",
       "      <th>cleaned_stopwords</th>\n",
       "    </tr>\n",
       "  </thead>\n",
       "  <tbody>\n",
       "    <tr>\n",
       "      <th>0</th>\n",
       "      <td>jd mcpherson</td>\n",
       "      <td>i can't complain</td>\n",
       "      <td>heart gang little catch couple fish water swis...</td>\n",
       "      <td>2011</td>\n",
       "      <td>blues</td>\n",
       "      <td>[heart, gang, little, catch, couple, fish, wat...</td>\n",
       "      <td>[heart, gang, little, catch, couple, fish, wat...</td>\n",
       "    </tr>\n",
       "    <tr>\n",
       "      <th>1</th>\n",
       "      <td>the marshall tucker band</td>\n",
       "      <td>change is gonna come</td>\n",
       "      <td>time dream money fear grow time come think lea...</td>\n",
       "      <td>1978</td>\n",
       "      <td>blues</td>\n",
       "      <td>[time, dream, money, fear, grow, time, come, t...</td>\n",
       "      <td>[time, dream, money, fear, grow, time, come, t...</td>\n",
       "    </tr>\n",
       "    <tr>\n",
       "      <th>2</th>\n",
       "      <td>dinah washington</td>\n",
       "      <td>blue gardenia</td>\n",
       "      <td>blue gardenia blue toss aside like gardenia ne...</td>\n",
       "      <td>1955</td>\n",
       "      <td>blues</td>\n",
       "      <td>[blue, gardenia, blue, toss, aside, like, gard...</td>\n",
       "      <td>[blue, gardenia, blue, toss, aside, like, gard...</td>\n",
       "    </tr>\n",
       "  </tbody>\n",
       "</table>\n",
       "</div>"
      ],
      "text/plain": [
       "                artist_name            track_name  \\\n",
       "0              jd mcpherson      i can't complain   \n",
       "1  the marshall tucker band  change is gonna come   \n",
       "2          dinah washington         blue gardenia   \n",
       "\n",
       "                                              lyrics  release_date  genre  \\\n",
       "0  heart gang little catch couple fish water swis...          2011  blues   \n",
       "1  time dream money fear grow time come think lea...          1978  blues   \n",
       "2  blue gardenia blue toss aside like gardenia ne...          1955  blues   \n",
       "\n",
       "                                           tokenized  \\\n",
       "0  [heart, gang, little, catch, couple, fish, wat...   \n",
       "1  [time, dream, money, fear, grow, time, come, t...   \n",
       "2  [blue, gardenia, blue, toss, aside, like, gard...   \n",
       "\n",
       "                                   cleaned_stopwords  \n",
       "0  [heart, gang, little, catch, couple, fish, wat...  \n",
       "1  [time, dream, money, fear, grow, time, come, t...  \n",
       "2  [blue, gardenia, blue, toss, aside, like, gard...  "
      ]
     },
     "execution_count": 5,
     "metadata": {},
     "output_type": "execute_result"
    }
   ],
   "source": [
    "stopwords = nltk.corpus.stopwords.words('english')\n",
    "\n",
    "# Add personalised list of stop words.\n",
    "stopwords.extend([\"'m\", \"'s\", \"'d\", \"hi\", \"im\", \"wa\", \"n't\",'wan','na','u','gon' ,'ahah','ayo',\"'get\", \"'ll\", \"'re\", \"'ve\", \"get\", \"still\", \"mmm\", \"ooh\", \"oooh\", \"yah\", \"yeh\",\"mmm\", \"hmm\",\"i'm\"])\n",
    "\n",
    "# Remove the stop words from the dataset. \n",
    "df_lyrics['cleaned_stopwords'] = df_lyrics['tokenized'].apply(lambda x: [word for word in x if word not in stopwords])\n",
    "\n",
    "# Check first few rows. \n",
    "df_lyrics.head(3)"
   ]
  },
  {
   "cell_type": "code",
   "execution_count": 6,
   "metadata": {},
   "outputs": [
    {
     "data": {
      "text/html": [
       "<div>\n",
       "<style scoped>\n",
       "    .dataframe tbody tr th:only-of-type {\n",
       "        vertical-align: middle;\n",
       "    }\n",
       "\n",
       "    .dataframe tbody tr th {\n",
       "        vertical-align: top;\n",
       "    }\n",
       "\n",
       "    .dataframe thead th {\n",
       "        text-align: right;\n",
       "    }\n",
       "</style>\n",
       "<table border=\"1\" class=\"dataframe\">\n",
       "  <thead>\n",
       "    <tr style=\"text-align: right;\">\n",
       "      <th></th>\n",
       "      <th>artist_name</th>\n",
       "      <th>track_name</th>\n",
       "      <th>lyrics</th>\n",
       "      <th>release_date</th>\n",
       "      <th>genre</th>\n",
       "      <th>tokenized</th>\n",
       "      <th>cleaned_stopwords</th>\n",
       "      <th>pos_tags</th>\n",
       "      <th>lyrics_lemmatized</th>\n",
       "    </tr>\n",
       "  </thead>\n",
       "  <tbody>\n",
       "    <tr>\n",
       "      <th>0</th>\n",
       "      <td>jd mcpherson</td>\n",
       "      <td>i can't complain</td>\n",
       "      <td>heart gang little catch couple fish water swis...</td>\n",
       "      <td>2011</td>\n",
       "      <td>blues</td>\n",
       "      <td>[heart, gang, little, catch, couple, fish, wat...</td>\n",
       "      <td>[heart, gang, little, catch, couple, fish, wat...</td>\n",
       "      <td>[(heart, n), (gang, n), (little, a), (catch, a...</td>\n",
       "      <td>heart gang little catch couple fish water swis...</td>\n",
       "    </tr>\n",
       "    <tr>\n",
       "      <th>1</th>\n",
       "      <td>the marshall tucker band</td>\n",
       "      <td>change is gonna come</td>\n",
       "      <td>time dream money fear grow time come think lea...</td>\n",
       "      <td>1978</td>\n",
       "      <td>blues</td>\n",
       "      <td>[time, dream, money, fear, grow, time, come, t...</td>\n",
       "      <td>[time, dream, money, fear, grow, time, come, t...</td>\n",
       "      <td>[(time, n), (dream, n), (money, n), (fear, n),...</td>\n",
       "      <td>time dream money fear grow time come think lea...</td>\n",
       "    </tr>\n",
       "    <tr>\n",
       "      <th>2</th>\n",
       "      <td>dinah washington</td>\n",
       "      <td>blue gardenia</td>\n",
       "      <td>blue gardenia blue toss aside like gardenia ne...</td>\n",
       "      <td>1955</td>\n",
       "      <td>blues</td>\n",
       "      <td>[blue, gardenia, blue, toss, aside, like, gard...</td>\n",
       "      <td>[blue, gardenia, blue, toss, aside, like, gard...</td>\n",
       "      <td>[(blue, a), (gardenia, n), (blue, n), (toss, n...</td>\n",
       "      <td>blue gardenia blue toss aside like gardenia ne...</td>\n",
       "    </tr>\n",
       "  </tbody>\n",
       "</table>\n",
       "</div>"
      ],
      "text/plain": [
       "                artist_name            track_name  \\\n",
       "0              jd mcpherson      i can't complain   \n",
       "1  the marshall tucker band  change is gonna come   \n",
       "2          dinah washington         blue gardenia   \n",
       "\n",
       "                                              lyrics  release_date  genre  \\\n",
       "0  heart gang little catch couple fish water swis...          2011  blues   \n",
       "1  time dream money fear grow time come think lea...          1978  blues   \n",
       "2  blue gardenia blue toss aside like gardenia ne...          1955  blues   \n",
       "\n",
       "                                           tokenized  \\\n",
       "0  [heart, gang, little, catch, couple, fish, wat...   \n",
       "1  [time, dream, money, fear, grow, time, come, t...   \n",
       "2  [blue, gardenia, blue, toss, aside, like, gard...   \n",
       "\n",
       "                                   cleaned_stopwords  \\\n",
       "0  [heart, gang, little, catch, couple, fish, wat...   \n",
       "1  [time, dream, money, fear, grow, time, come, t...   \n",
       "2  [blue, gardenia, blue, toss, aside, like, gard...   \n",
       "\n",
       "                                            pos_tags  \\\n",
       "0  [(heart, n), (gang, n), (little, a), (catch, a...   \n",
       "1  [(time, n), (dream, n), (money, n), (fear, n),...   \n",
       "2  [(blue, a), (gardenia, n), (blue, n), (toss, n...   \n",
       "\n",
       "                                   lyrics_lemmatized  \n",
       "0  heart gang little catch couple fish water swis...  \n",
       "1  time dream money fear grow time come think lea...  \n",
       "2  blue gardenia blue toss aside like gardenia ne...  "
      ]
     },
     "execution_count": 6,
     "metadata": {},
     "output_type": "execute_result"
    }
   ],
   "source": [
    "def determine_wordnet_speech(word_tag):\n",
    "    if word_tag.startswith('J'):\n",
    "        return wordnet.ADJ\n",
    "    elif word_tag.startswith('V'):\n",
    "        return wordnet.VERB\n",
    "    elif word_tag.startswith('N'):\n",
    "        return wordnet.NOUN\n",
    "    elif word_tag.startswith('R'):\n",
    "        return wordnet.ADV\n",
    "    else:\n",
    "        return wordnet.NOUN\n",
    "    \n",
    "# Add part of speech tags.\n",
    "df_lyrics['pos_tags'] = df_lyrics['cleaned_stopwords'].apply(nltk.tag.pos_tag)\n",
    "\n",
    "# Function to get part of speech in WordNet format.\n",
    "df_lyrics['pos_tags'] = df_lyrics['pos_tags'].apply(lambda x: [(word, determine_wordnet_speech(pos_tag)) for (word, pos_tag) in x])\n",
    "\n",
    "word_lemmatizer = WordNetLemmatizer()\n",
    "df_lyrics['lyrics_lemmatized'] = df_lyrics['pos_tags'].apply(lambda x: [word_lemmatizer.lemmatize(word, tag) for word, tag in x])\n",
    "\n",
    "# Convert list to string datatype. \n",
    "df_lyrics['lyrics_lemmatized'] = [' '.join(map(str,l)) for l in df_lyrics['lyrics_lemmatized']]\n",
    "\n",
    "# Check few rows.\n",
    "df_lyrics.head(3)"
   ]
  },
  {
   "cell_type": "code",
   "execution_count": null,
   "metadata": {},
   "outputs": [],
   "source": []
  },
  {
   "cell_type": "code",
   "execution_count": 7,
   "metadata": {},
   "outputs": [],
   "source": [
    "df_lyrics.to_csv('lyrics_processed.csv')\n",
    "df_lyrics['lyrics']=df_lyrics['lyrics_lemmatized']"
   ]
  },
  {
   "cell_type": "code",
   "execution_count": 8,
   "metadata": {},
   "outputs": [
    {
     "data": {
      "text/html": [
       "<div>\n",
       "<style scoped>\n",
       "    .dataframe tbody tr th:only-of-type {\n",
       "        vertical-align: middle;\n",
       "    }\n",
       "\n",
       "    .dataframe tbody tr th {\n",
       "        vertical-align: top;\n",
       "    }\n",
       "\n",
       "    .dataframe thead th {\n",
       "        text-align: right;\n",
       "    }\n",
       "</style>\n",
       "<table border=\"1\" class=\"dataframe\">\n",
       "  <thead>\n",
       "    <tr style=\"text-align: right;\">\n",
       "      <th></th>\n",
       "      <th>artist_name</th>\n",
       "      <th>track_name</th>\n",
       "      <th>lyrics</th>\n",
       "      <th>release_date</th>\n",
       "      <th>genre</th>\n",
       "      <th>tokenized</th>\n",
       "      <th>cleaned_stopwords</th>\n",
       "      <th>pos_tags</th>\n",
       "      <th>lyrics_lemmatized</th>\n",
       "    </tr>\n",
       "  </thead>\n",
       "  <tbody>\n",
       "    <tr>\n",
       "      <th>0</th>\n",
       "      <td>jd mcpherson</td>\n",
       "      <td>i can't complain</td>\n",
       "      <td>heart gang little catch couple fish water swis...</td>\n",
       "      <td>2011</td>\n",
       "      <td>blues</td>\n",
       "      <td>[heart, gang, little, catch, couple, fish, wat...</td>\n",
       "      <td>[heart, gang, little, catch, couple, fish, wat...</td>\n",
       "      <td>[(heart, n), (gang, n), (little, a), (catch, a...</td>\n",
       "      <td>heart gang little catch couple fish water swis...</td>\n",
       "    </tr>\n",
       "    <tr>\n",
       "      <th>1</th>\n",
       "      <td>the marshall tucker band</td>\n",
       "      <td>change is gonna come</td>\n",
       "      <td>time dream money fear grow time come think lea...</td>\n",
       "      <td>1978</td>\n",
       "      <td>blues</td>\n",
       "      <td>[time, dream, money, fear, grow, time, come, t...</td>\n",
       "      <td>[time, dream, money, fear, grow, time, come, t...</td>\n",
       "      <td>[(time, n), (dream, n), (money, n), (fear, n),...</td>\n",
       "      <td>time dream money fear grow time come think lea...</td>\n",
       "    </tr>\n",
       "    <tr>\n",
       "      <th>2</th>\n",
       "      <td>dinah washington</td>\n",
       "      <td>blue gardenia</td>\n",
       "      <td>blue gardenia blue toss aside like gardenia ne...</td>\n",
       "      <td>1955</td>\n",
       "      <td>blues</td>\n",
       "      <td>[blue, gardenia, blue, toss, aside, like, gard...</td>\n",
       "      <td>[blue, gardenia, blue, toss, aside, like, gard...</td>\n",
       "      <td>[(blue, a), (gardenia, n), (blue, n), (toss, n...</td>\n",
       "      <td>blue gardenia blue toss aside like gardenia ne...</td>\n",
       "    </tr>\n",
       "    <tr>\n",
       "      <th>3</th>\n",
       "      <td>jimi hendrix</td>\n",
       "      <td>burning of the midnight lamp</td>\n",
       "      <td>morning dead leave lead moon loneliness felt t...</td>\n",
       "      <td>1968</td>\n",
       "      <td>blues</td>\n",
       "      <td>[morning, dead, leave, lead, moon, loneliness,...</td>\n",
       "      <td>[morning, dead, leave, lead, moon, loneliness,...</td>\n",
       "      <td>[(morning, n), (dead, a), (leave, v), (lead, a...</td>\n",
       "      <td>morning dead leave lead moon loneliness felt t...</td>\n",
       "    </tr>\n",
       "    <tr>\n",
       "      <th>4</th>\n",
       "      <td>graveyard</td>\n",
       "      <td>ungrateful are the dead</td>\n",
       "      <td>bury darkness free thought happiness reach usu...</td>\n",
       "      <td>2011</td>\n",
       "      <td>blues</td>\n",
       "      <td>[bury, darkness, free, thoughts, happiness, re...</td>\n",
       "      <td>[bury, darkness, free, thoughts, happiness, re...</td>\n",
       "      <td>[(bury, n), (darkness, n), (free, a), (thought...</td>\n",
       "      <td>bury darkness free thought happiness reach usu...</td>\n",
       "    </tr>\n",
       "  </tbody>\n",
       "</table>\n",
       "</div>"
      ],
      "text/plain": [
       "                artist_name                    track_name  \\\n",
       "0              jd mcpherson              i can't complain   \n",
       "1  the marshall tucker band          change is gonna come   \n",
       "2          dinah washington                 blue gardenia   \n",
       "3              jimi hendrix  burning of the midnight lamp   \n",
       "4                 graveyard       ungrateful are the dead   \n",
       "\n",
       "                                              lyrics  release_date  genre  \\\n",
       "0  heart gang little catch couple fish water swis...          2011  blues   \n",
       "1  time dream money fear grow time come think lea...          1978  blues   \n",
       "2  blue gardenia blue toss aside like gardenia ne...          1955  blues   \n",
       "3  morning dead leave lead moon loneliness felt t...          1968  blues   \n",
       "4  bury darkness free thought happiness reach usu...          2011  blues   \n",
       "\n",
       "                                           tokenized  \\\n",
       "0  [heart, gang, little, catch, couple, fish, wat...   \n",
       "1  [time, dream, money, fear, grow, time, come, t...   \n",
       "2  [blue, gardenia, blue, toss, aside, like, gard...   \n",
       "3  [morning, dead, leave, lead, moon, loneliness,...   \n",
       "4  [bury, darkness, free, thoughts, happiness, re...   \n",
       "\n",
       "                                   cleaned_stopwords  \\\n",
       "0  [heart, gang, little, catch, couple, fish, wat...   \n",
       "1  [time, dream, money, fear, grow, time, come, t...   \n",
       "2  [blue, gardenia, blue, toss, aside, like, gard...   \n",
       "3  [morning, dead, leave, lead, moon, loneliness,...   \n",
       "4  [bury, darkness, free, thoughts, happiness, re...   \n",
       "\n",
       "                                            pos_tags  \\\n",
       "0  [(heart, n), (gang, n), (little, a), (catch, a...   \n",
       "1  [(time, n), (dream, n), (money, n), (fear, n),...   \n",
       "2  [(blue, a), (gardenia, n), (blue, n), (toss, n...   \n",
       "3  [(morning, n), (dead, a), (leave, v), (lead, a...   \n",
       "4  [(bury, n), (darkness, n), (free, a), (thought...   \n",
       "\n",
       "                                   lyrics_lemmatized  \n",
       "0  heart gang little catch couple fish water swis...  \n",
       "1  time dream money fear grow time come think lea...  \n",
       "2  blue gardenia blue toss aside like gardenia ne...  \n",
       "3  morning dead leave lead moon loneliness felt t...  \n",
       "4  bury darkness free thought happiness reach usu...  "
      ]
     },
     "execution_count": 8,
     "metadata": {},
     "output_type": "execute_result"
    }
   ],
   "source": [
    "df_lyrics.head()"
   ]
  },
  {
   "cell_type": "code",
   "execution_count": 9,
   "metadata": {},
   "outputs": [],
   "source": [
    "#print(df_lyrics[df_lyrics['genre']=='Alternative Rock'])\n",
    "#df_lyrics['genre'] = df_lyrics['genre'].replace(['Alternative Rock'],'alt_rock')\n"
   ]
  },
  {
   "cell_type": "code",
   "execution_count": 10,
   "metadata": {},
   "outputs": [],
   "source": [
    "X = df_lyrics['lyrics']\n",
    "y = df_lyrics['genre']"
   ]
  },
  {
   "cell_type": "code",
   "execution_count": 11,
   "metadata": {},
   "outputs": [
    {
     "data": {
      "text/plain": [
       "0    heart gang little catch couple fish water swis...\n",
       "1    time dream money fear grow time come think lea...\n",
       "2    blue gardenia blue toss aside like gardenia ne...\n",
       "3    morning dead leave lead moon loneliness felt t...\n",
       "4    bury darkness free thought happiness reach usu...\n",
       "Name: lyrics, dtype: object"
      ]
     },
     "execution_count": 11,
     "metadata": {},
     "output_type": "execute_result"
    }
   ],
   "source": [
    "X.head()"
   ]
  },
  {
   "cell_type": "code",
   "execution_count": 12,
   "metadata": {},
   "outputs": [
    {
     "data": {
      "text/plain": [
       "array(['blues', 'country', 'reggae', 'rock'], dtype=object)"
      ]
     },
     "execution_count": 12,
     "metadata": {},
     "output_type": "execute_result"
    }
   ],
   "source": [
    "y.unique()"
   ]
  },
  {
   "cell_type": "code",
   "execution_count": 13,
   "metadata": {},
   "outputs": [],
   "source": [
    "X_train, X_test, y_train, y_test = train_test_split(X, y, test_size=0.20, random_state=42, stratify=y)"
   ]
  },
  {
   "cell_type": "code",
   "execution_count": 14,
   "metadata": {},
   "outputs": [
    {
     "data": {
      "text/plain": [
       "country    0.252648\n",
       "reggae     0.249221\n",
       "rock       0.249221\n",
       "blues      0.248910\n",
       "Name: genre, dtype: float64"
      ]
     },
     "execution_count": 14,
     "metadata": {},
     "output_type": "execute_result"
    }
   ],
   "source": [
    "y_train.value_counts(normalize=True)"
   ]
  },
  {
   "cell_type": "code",
   "execution_count": 15,
   "metadata": {},
   "outputs": [],
   "source": [
    "def get_metrics(model_name, model, X, y, over=False):\n",
    "    #create labels and empty df\n",
    "    labels = ['blues', 'rock', 'country', 'reggae']\n",
    "    #set up model\n",
    "    X_train, X_test, y_train, y_test = train_test_split(X, y, test_size=0.20, random_state=42, stratify=y)\n",
    "    #if oversampling is False, fit on regular X_train, y_train splot\n",
    "    if over==False:\n",
    "        model.fit(X_train,y_train)\n",
    "        preds = model.predict(X_test)\n",
    "        train_score = model.score(X_train,y_train)\n",
    "    #if oversampling is True, use RandomOverSample to balance classes for training data\n",
    "    elif over==True:\n",
    "        oversample = RandomOverSampler(sampling_strategy='auto', random_state=42)\n",
    "        X_over, y_over = oversample.fit_resample(pd.DataFrame(X_train), y_train)\n",
    "        X_over = X_over.squeeze()\n",
    "        model.fit(X_over,y_over)\n",
    "        preds = model.predict(X_test)\n",
    "        train_score = model.score(X_over, y_over)\n",
    "    #store results\n",
    "    data = confusion_matrix(y_test, preds)\n",
    "    results = {labels[i] : data[i][i]/sum(data[i]) for i in range(0, len(data))}\n",
    "    result_df = pd.DataFrame(results, index=[0])\n",
    "    result_df['model'] = model_name\n",
    "    result_df['oversampling'] = over\n",
    "    result_df['train_accuracy'] = train_score\n",
    "    result_df['accuracy'] = model.score(X_test,y_test)\n",
    "    return result_df[['model','oversampling','train_accuracy','accuracy'] + labels]"
   ]
  },
  {
   "cell_type": "code",
   "execution_count": 16,
   "metadata": {},
   "outputs": [
    {
     "data": {
      "text/plain": [
       "(0.9998442367601246, 0.5177570093457944)"
      ]
     },
     "execution_count": 16,
     "metadata": {},
     "output_type": "execute_result"
    }
   ],
   "source": [
    "pipe_cv_rfc = Pipeline([\n",
    "    ('cv', CountVectorizer()),\n",
    "    ('rfc', RandomForestClassifier(random_state=42))\n",
    "])\n",
    "\n",
    "#fit\n",
    "pipe_cv_rfc.fit(X_train,y_train)\n",
    "pipe_cv_rfc.score(X_train, y_train), pipe_cv_rfc.score(X_test,y_test)"
   ]
  },
  {
   "cell_type": "code",
   "execution_count": 17,
   "metadata": {},
   "outputs": [
    {
     "data": {
      "image/png": "[encoded data removed]",
      "text/plain": [
       "<Figure size 432x288 with 2 Axes>"
      ]
     },
     "metadata": {
      "needs_background": "light"
     },
     "output_type": "display_data"
    }
   ],
   "source": [
    "ConfusionMatrixDisplay.from_estimator(pipe_cv_rfc, X_test, y_test, cmap=\"Blues\", normalize='true')\n",
    "plt.title(\"RFC with Count Vectorizer\");"
   ]
  },
  {
   "cell_type": "code",
   "execution_count": 18,
   "metadata": {},
   "outputs": [
    {
     "data": {
      "text/plain": [
       "(0.9998442367601246, 0.5383177570093458)"
      ]
     },
     "execution_count": 18,
     "metadata": {},
     "output_type": "execute_result"
    }
   ],
   "source": [
    "pipe_tfv_rfc = Pipeline([\n",
    "    ('tfv',TfidfVectorizer()),\n",
    "    ('rfc', RandomForestClassifier())\n",
    "])\n",
    "\n",
    "#fit\n",
    "pipe_tfv_rfc.fit(X_train,y_train)\n",
    "pipe_tfv_rfc.score(X_train, y_train), pipe_tfv_rfc.score(X_test,y_test)"
   ]
  },
  {
   "cell_type": "code",
   "execution_count": 19,
   "metadata": {},
   "outputs": [
    {
     "data": {
      "image/png": "[encoded data removed]",
      "text/plain": [
       "<Figure size 432x288 with 2 Axes>"
      ]
     },
     "metadata": {
      "needs_background": "light"
     },
     "output_type": "display_data"
    }
   ],
   "source": [
    "ConfusionMatrixDisplay.from_estimator(pipe_tfv_rfc, X_test, y_test, cmap=\"Blues\", normalize='true')\n",
    "plt.title(\"RFC with TFID\");"
   ]
  },
  {
   "cell_type": "code",
   "execution_count": 20,
   "metadata": {},
   "outputs": [],
   "source": [
    "pipe_cv_svm = Pipeline([\n",
    "    ('cv',CountVectorizer()),\n",
    "    ('svm', svm.SVC(C=1.0, kernel='linear', random_state=42))]\n",
    ")\n",
    "\n",
    "pipe_cv_svm.fit(X_train,y_train)\n",
    "pipe_cv_svm.score(X_train,y_train), pipe_cv_svm.score(X_test,y_test)"
   ]
  },
  {
   "cell_type": "code",
   "execution_count": null,
   "metadata": {},
   "outputs": [
    {
     "data": {
      "image/png": "[encoded data removed]",
      "text/plain": [
       "<Figure size 432x288 with 2 Axes>"
      ]
     },
     "metadata": {
      "needs_background": "light"
     },
     "output_type": "display_data"
    }
   ],
   "source": [
    "ConfusionMatrixDisplay.from_estimator(pipe_cv_svm, X_test, y_test, cmap=\"Blues\", normalize='true')\n",
    "plt.title(\"SVM with CV\");"
   ]
  },
  {
   "cell_type": "code",
   "execution_count": null,
   "metadata": {},
   "outputs": [
    {
     "data": {
      "text/plain": [
       "(0.886758439855785, 0.7123197903014417)"
      ]
     },
     "execution_count": 171,
     "metadata": {},
     "output_type": "execute_result"
    }
   ],
   "source": [
    "pipe_tfv_svm = Pipeline([\n",
    "    ('cv',TfidfVectorizer()),\n",
    "    ('svm', svm.SVC(C=1.0, kernel='linear', random_state=42))]\n",
    ")\n",
    "\n",
    "pipe_tfv_svm.fit(X_train,y_train)\n",
    "pipe_tfv_svm.score(X_train,y_train), pipe_tfv_svm.score(X_test,y_test)"
   ]
  },
  {
   "cell_type": "code",
   "execution_count": null,
   "metadata": {},
   "outputs": [
    {
     "data": {
      "text/plain": [
       "(1.0, 0.59043250327654)"
      ]
     },
     "execution_count": 172,
     "metadata": {},
     "output_type": "execute_result"
    }
   ],
   "source": [
    "pipe_cv_dtc = Pipeline([\n",
    "    ('cv',CountVectorizer()),\n",
    "    ('dtc', DecisionTreeClassifier(random_state=42))]\n",
    ")\n",
    "\n",
    "pipe_cv_dtc.fit(X_train,y_train)\n",
    "pipe_cv_dtc.score(X_train,y_train), pipe_cv_dtc.score(X_test,y_test)"
   ]
  },
  {
   "cell_type": "code",
   "execution_count": null,
   "metadata": {},
   "outputs": [
    {
     "data": {
      "image/png": "[encoded data removed]",
      "text/plain": [
       "<Figure size 432x288 with 2 Axes>"
      ]
     },
     "metadata": {
      "needs_background": "light"
     },
     "output_type": "display_data"
    }
   ],
   "source": [
    "ConfusionMatrixDisplay.from_estimator(pipe_cv_dtc, X_test, y_test, cmap=\"Blues\", normalize='true')\n",
    "plt.title(\"Decision Tree with CV\");"
   ]
  },
  {
   "cell_type": "code",
   "execution_count": null,
   "metadata": {},
   "outputs": [
    {
     "data": {
      "text/plain": [
       "(1.0, 0.5923984272608126)"
      ]
     },
     "execution_count": 174,
     "metadata": {},
     "output_type": "execute_result"
    }
   ],
   "source": [
    "pipe_tfid_dtc = Pipeline([\n",
    "    ('tfid', TfidfVectorizer()),\n",
    "    ('dtc', DecisionTreeClassifier(random_state=42))]\n",
    ")\n",
    "\n",
    "pipe_tfid_dtc.fit(X_train,y_train)\n",
    "pipe_tfid_dtc.score(X_train,y_train), pipe_tfid_dtc.score(X_test,y_test)"
   ]
  },
  {
   "cell_type": "code",
   "execution_count": null,
   "metadata": {},
   "outputs": [
    {
     "data": {
      "image/png": "[encoded data removed]",
      "text/plain": [
       "<Figure size 432x288 with 2 Axes>"
      ]
     },
     "metadata": {
      "needs_background": "light"
     },
     "output_type": "display_data"
    }
   ],
   "source": [
    "ConfusionMatrixDisplay.from_estimator(pipe_tfid_dtc, X_test, y_test, cmap=\"Blues\", normalize='true')\n",
    "plt.title(\"Decision Tree with TFID\");"
   ]
  }
 ],
 "metadata": {
  "kernelspec": {
   "display_name": "base",
   "language": "python",
   "name": "python3"
  },
  "language_info": {
   "codemirror_mode": {
    "name": "ipython",
    "version": 3
   },
   "file_extension": ".py",
   "mimetype": "text/x-python",
   "name": "python",
   "nbconvert_exporter": "python",
   "pygments_lexer": "ipython3",
   "version": "3.8.5"
  },
  "orig_nbformat": 4
 },
 "nbformat": 4,
 "nbformat_minor": 2
}
