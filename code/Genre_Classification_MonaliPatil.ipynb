{
 "cells": [
  {
   "attachments": {},
   "cell_type": "markdown",
   "metadata": {},
   "source": [
    "## 36118: Applied Natural Language Processing (ANLP)\n",
    "\n",
    "### AT2 Part B\n",
    "\n",
    "### Group 27: HD Innovators\n",
    "\n",
    "## Genre Classification\n",
    "\n",
    "Contents:\n",
    "\n",
    "1. Load and explore the data\n",
    "2. Data preparation\n",
    "3. Split data\n",
    "4. Genre Classification Models\n",
    "\n",
    "   4.1 Multinomial Naive Bayes\n",
    "   \n",
    "   4.2 CatBoost Classifier\n",
    "5. Model Evaluation"
   ]
  },
  {
   "cell_type": "code",
   "execution_count": 52,
   "metadata": {},
   "outputs": [],
   "source": [
    "# Import packages\n",
    "# Python packages\n",
    "import pandas as pd\n",
    "import numpy as np\n",
    "\n",
    "# NLTK packages\n",
    "import nltk\n",
    "import string\n",
    "from nltk.tokenize import word_tokenize\n",
    "from nltk.corpus import stopwords, wordnet\n",
    "from nltk.stem import WordNetLemmatizer\n",
    "\n",
    "# Vectorisation package \n",
    "from sklearn.feature_extraction.text import TfidfVectorizer\n",
    "from sklearn.feature_extraction.text import CountVectorizer\n",
    "\n",
    "# Split data package\n",
    "from sklearn.model_selection import train_test_split\n",
    "\n",
    "# Naive Bayes model\n",
    "from sklearn.naive_bayes import MultinomialNB\n",
    "\n",
    "# CatBoost Classifier model\n",
    "from catboost import Pool, CatBoostClassifier\n",
    "\n",
    "# Evaluation package\n",
    "from sklearn.metrics import accuracy_score, confusion_matrix, classification_report\n",
    "\n",
    "# Hyperparameters Tuning package\n",
    "from sklearn.pipeline import Pipeline\n",
    "from scipy.stats import randint as sp_randint\n",
    "from sklearn.model_selection import GridSearchCV\n",
    "from sklearn.model_selection import RandomizedSearchCV\n",
    "\n",
    "# Data visualisation package\n",
    "import seaborn as sns\n",
    "import matplotlib.pyplot as plt"
   ]
  },
  {
   "attachments": {},
   "cell_type": "markdown",
   "metadata": {},
   "source": [
    "### 1. Load and explore the data"
   ]
  },
  {
   "cell_type": "code",
   "execution_count": 53,
   "metadata": {},
   "outputs": [],
   "source": [
    "# Import data.\n",
    "df_lyrics = pd.read_csv('/Users/monalipatil/ANLP/AT2/data/data_filtered.csv')"
   ]
  },
  {
   "cell_type": "code",
   "execution_count": 54,
   "metadata": {},
   "outputs": [
    {
     "name": "stdout",
     "output_type": "stream",
     "text": [
      "<class 'pandas.core.frame.DataFrame'>\n",
      "RangeIndex: 11978 entries, 0 to 11977\n",
      "Data columns (total 8 columns):\n",
      " #   Column        Non-Null Count  Dtype  \n",
      "---  ------        --------------  -----  \n",
      " 0   Unnamed: 0    11978 non-null  int64  \n",
      " 1   artist_name   11978 non-null  object \n",
      " 2   track_name    11978 non-null  object \n",
      " 3   release_date  11978 non-null  int64  \n",
      " 4   genre         11978 non-null  object \n",
      " 5   lyrics        11978 non-null  object \n",
      " 6   len           11978 non-null  int64  \n",
      " 7   valence       11978 non-null  float64\n",
      "dtypes: float64(1), int64(3), object(4)\n",
      "memory usage: 748.8+ KB\n"
     ]
    }
   ],
   "source": [
    "# Check summary information.\n",
    "df_lyrics.info()"
   ]
  },
  {
   "cell_type": "code",
   "execution_count": 55,
   "metadata": {},
   "outputs": [
    {
     "data": {
      "text/html": [
       "<div>\n",
       "<style scoped>\n",
       "    .dataframe tbody tr th:only-of-type {\n",
       "        vertical-align: middle;\n",
       "    }\n",
       "\n",
       "    .dataframe tbody tr th {\n",
       "        vertical-align: top;\n",
       "    }\n",
       "\n",
       "    .dataframe thead th {\n",
       "        text-align: right;\n",
       "    }\n",
       "</style>\n",
       "<table border=\"1\" class=\"dataframe\">\n",
       "  <thead>\n",
       "    <tr style=\"text-align: right;\">\n",
       "      <th></th>\n",
       "      <th>Unnamed: 0</th>\n",
       "      <th>release_date</th>\n",
       "      <th>len</th>\n",
       "      <th>valence</th>\n",
       "    </tr>\n",
       "  </thead>\n",
       "  <tbody>\n",
       "    <tr>\n",
       "      <th>count</th>\n",
       "      <td>11978.000000</td>\n",
       "      <td>11978.000000</td>\n",
       "      <td>11978.000000</td>\n",
       "      <td>11978.000000</td>\n",
       "    </tr>\n",
       "    <tr>\n",
       "      <th>mean</th>\n",
       "      <td>16153.030473</td>\n",
       "      <td>1994.581232</td>\n",
       "      <td>106.949324</td>\n",
       "      <td>0.568380</td>\n",
       "    </tr>\n",
       "    <tr>\n",
       "      <th>std</th>\n",
       "      <td>7169.281975</td>\n",
       "      <td>17.132621</td>\n",
       "      <td>37.214055</td>\n",
       "      <td>0.245457</td>\n",
       "    </tr>\n",
       "    <tr>\n",
       "      <th>min</th>\n",
       "      <td>5.000000</td>\n",
       "      <td>1950.000000</td>\n",
       "      <td>56.000000</td>\n",
       "      <td>0.000000</td>\n",
       "    </tr>\n",
       "    <tr>\n",
       "      <th>25%</th>\n",
       "      <td>10682.500000</td>\n",
       "      <td>1982.000000</td>\n",
       "      <td>76.000000</td>\n",
       "      <td>0.375515</td>\n",
       "    </tr>\n",
       "    <tr>\n",
       "      <th>50%</th>\n",
       "      <td>17074.000000</td>\n",
       "      <td>1996.000000</td>\n",
       "      <td>98.000000</td>\n",
       "      <td>0.586768</td>\n",
       "    </tr>\n",
       "    <tr>\n",
       "      <th>75%</th>\n",
       "      <td>22211.750000</td>\n",
       "      <td>2010.000000</td>\n",
       "      <td>130.000000</td>\n",
       "      <td>0.767879</td>\n",
       "    </tr>\n",
       "    <tr>\n",
       "      <th>max</th>\n",
       "      <td>27467.000000</td>\n",
       "      <td>2019.000000</td>\n",
       "      <td>199.000000</td>\n",
       "      <td>1.000000</td>\n",
       "    </tr>\n",
       "  </tbody>\n",
       "</table>\n",
       "</div>"
      ],
      "text/plain": [
       "         Unnamed: 0  release_date           len       valence\n",
       "count  11978.000000  11978.000000  11978.000000  11978.000000\n",
       "mean   16153.030473   1994.581232    106.949324      0.568380\n",
       "std     7169.281975     17.132621     37.214055      0.245457\n",
       "min        5.000000   1950.000000     56.000000      0.000000\n",
       "25%    10682.500000   1982.000000     76.000000      0.375515\n",
       "50%    17074.000000   1996.000000     98.000000      0.586768\n",
       "75%    22211.750000   2010.000000    130.000000      0.767879\n",
       "max    27467.000000   2019.000000    199.000000      1.000000"
      ]
     },
     "execution_count": 55,
     "metadata": {},
     "output_type": "execute_result"
    }
   ],
   "source": [
    "# Describe summary statistics.\n",
    "df_lyrics.describe()"
   ]
  },
  {
   "cell_type": "code",
   "execution_count": 56,
   "metadata": {},
   "outputs": [
    {
     "data": {
      "text/html": [
       "<div>\n",
       "<style scoped>\n",
       "    .dataframe tbody tr th:only-of-type {\n",
       "        vertical-align: middle;\n",
       "    }\n",
       "\n",
       "    .dataframe tbody tr th {\n",
       "        vertical-align: top;\n",
       "    }\n",
       "\n",
       "    .dataframe thead th {\n",
       "        text-align: right;\n",
       "    }\n",
       "</style>\n",
       "<table border=\"1\" class=\"dataframe\">\n",
       "  <thead>\n",
       "    <tr style=\"text-align: right;\">\n",
       "      <th></th>\n",
       "      <th>Unnamed: 0</th>\n",
       "      <th>artist_name</th>\n",
       "      <th>track_name</th>\n",
       "      <th>release_date</th>\n",
       "      <th>genre</th>\n",
       "      <th>lyrics</th>\n",
       "      <th>len</th>\n",
       "      <th>valence</th>\n",
       "    </tr>\n",
       "  </thead>\n",
       "  <tbody>\n",
       "    <tr>\n",
       "      <th>count</th>\n",
       "      <td>11978.000000</td>\n",
       "      <td>11978</td>\n",
       "      <td>11978</td>\n",
       "      <td>11978.000000</td>\n",
       "      <td>11978</td>\n",
       "      <td>11978</td>\n",
       "      <td>11978.000000</td>\n",
       "      <td>11978.000000</td>\n",
       "    </tr>\n",
       "    <tr>\n",
       "      <th>unique</th>\n",
       "      <td>NaN</td>\n",
       "      <td>3622</td>\n",
       "      <td>10981</td>\n",
       "      <td>NaN</td>\n",
       "      <td>6</td>\n",
       "      <td>11978</td>\n",
       "      <td>NaN</td>\n",
       "      <td>NaN</td>\n",
       "    </tr>\n",
       "    <tr>\n",
       "      <th>top</th>\n",
       "      <td>NaN</td>\n",
       "      <td>ella fitzgerald</td>\n",
       "      <td>fever</td>\n",
       "      <td>NaN</td>\n",
       "      <td>blues</td>\n",
       "      <td>cold chamber smoke kush gettin higher plane sw...</td>\n",
       "      <td>NaN</td>\n",
       "      <td>NaN</td>\n",
       "    </tr>\n",
       "    <tr>\n",
       "      <th>freq</th>\n",
       "      <td>NaN</td>\n",
       "      <td>49</td>\n",
       "      <td>11</td>\n",
       "      <td>NaN</td>\n",
       "      <td>2000</td>\n",
       "      <td>1</td>\n",
       "      <td>NaN</td>\n",
       "      <td>NaN</td>\n",
       "    </tr>\n",
       "    <tr>\n",
       "      <th>mean</th>\n",
       "      <td>16153.030473</td>\n",
       "      <td>NaN</td>\n",
       "      <td>NaN</td>\n",
       "      <td>1994.581232</td>\n",
       "      <td>NaN</td>\n",
       "      <td>NaN</td>\n",
       "      <td>106.949324</td>\n",
       "      <td>0.568380</td>\n",
       "    </tr>\n",
       "    <tr>\n",
       "      <th>std</th>\n",
       "      <td>7169.281975</td>\n",
       "      <td>NaN</td>\n",
       "      <td>NaN</td>\n",
       "      <td>17.132621</td>\n",
       "      <td>NaN</td>\n",
       "      <td>NaN</td>\n",
       "      <td>37.214055</td>\n",
       "      <td>0.245457</td>\n",
       "    </tr>\n",
       "    <tr>\n",
       "      <th>min</th>\n",
       "      <td>5.000000</td>\n",
       "      <td>NaN</td>\n",
       "      <td>NaN</td>\n",
       "      <td>1950.000000</td>\n",
       "      <td>NaN</td>\n",
       "      <td>NaN</td>\n",
       "      <td>56.000000</td>\n",
       "      <td>0.000000</td>\n",
       "    </tr>\n",
       "    <tr>\n",
       "      <th>25%</th>\n",
       "      <td>10682.500000</td>\n",
       "      <td>NaN</td>\n",
       "      <td>NaN</td>\n",
       "      <td>1982.000000</td>\n",
       "      <td>NaN</td>\n",
       "      <td>NaN</td>\n",
       "      <td>76.000000</td>\n",
       "      <td>0.375515</td>\n",
       "    </tr>\n",
       "    <tr>\n",
       "      <th>50%</th>\n",
       "      <td>17074.000000</td>\n",
       "      <td>NaN</td>\n",
       "      <td>NaN</td>\n",
       "      <td>1996.000000</td>\n",
       "      <td>NaN</td>\n",
       "      <td>NaN</td>\n",
       "      <td>98.000000</td>\n",
       "      <td>0.586768</td>\n",
       "    </tr>\n",
       "    <tr>\n",
       "      <th>75%</th>\n",
       "      <td>22211.750000</td>\n",
       "      <td>NaN</td>\n",
       "      <td>NaN</td>\n",
       "      <td>2010.000000</td>\n",
       "      <td>NaN</td>\n",
       "      <td>NaN</td>\n",
       "      <td>130.000000</td>\n",
       "      <td>0.767879</td>\n",
       "    </tr>\n",
       "    <tr>\n",
       "      <th>max</th>\n",
       "      <td>27467.000000</td>\n",
       "      <td>NaN</td>\n",
       "      <td>NaN</td>\n",
       "      <td>2019.000000</td>\n",
       "      <td>NaN</td>\n",
       "      <td>NaN</td>\n",
       "      <td>199.000000</td>\n",
       "      <td>1.000000</td>\n",
       "    </tr>\n",
       "  </tbody>\n",
       "</table>\n",
       "</div>"
      ],
      "text/plain": [
       "          Unnamed: 0      artist_name track_name  release_date  genre  \\\n",
       "count   11978.000000            11978      11978  11978.000000  11978   \n",
       "unique           NaN             3622      10981           NaN      6   \n",
       "top              NaN  ella fitzgerald      fever           NaN  blues   \n",
       "freq             NaN               49         11           NaN   2000   \n",
       "mean    16153.030473              NaN        NaN   1994.581232    NaN   \n",
       "std      7169.281975              NaN        NaN     17.132621    NaN   \n",
       "min         5.000000              NaN        NaN   1950.000000    NaN   \n",
       "25%     10682.500000              NaN        NaN   1982.000000    NaN   \n",
       "50%     17074.000000              NaN        NaN   1996.000000    NaN   \n",
       "75%     22211.750000              NaN        NaN   2010.000000    NaN   \n",
       "max     27467.000000              NaN        NaN   2019.000000    NaN   \n",
       "\n",
       "                                                   lyrics           len  \\\n",
       "count                                               11978  11978.000000   \n",
       "unique                                              11978           NaN   \n",
       "top     cold chamber smoke kush gettin higher plane sw...           NaN   \n",
       "freq                                                    1           NaN   \n",
       "mean                                                  NaN    106.949324   \n",
       "std                                                   NaN     37.214055   \n",
       "min                                                   NaN     56.000000   \n",
       "25%                                                   NaN     76.000000   \n",
       "50%                                                   NaN     98.000000   \n",
       "75%                                                   NaN    130.000000   \n",
       "max                                                   NaN    199.000000   \n",
       "\n",
       "             valence  \n",
       "count   11978.000000  \n",
       "unique           NaN  \n",
       "top              NaN  \n",
       "freq             NaN  \n",
       "mean        0.568380  \n",
       "std         0.245457  \n",
       "min         0.000000  \n",
       "25%         0.375515  \n",
       "50%         0.586768  \n",
       "75%         0.767879  \n",
       "max         1.000000  "
      ]
     },
     "execution_count": 56,
     "metadata": {},
     "output_type": "execute_result"
    }
   ],
   "source": [
    "# Describe summary statistics for all datatype.\n",
    "df_lyrics.describe(include='all')"
   ]
  },
  {
   "cell_type": "code",
   "execution_count": 57,
   "metadata": {},
   "outputs": [
    {
     "data": {
      "text/plain": [
       "Index(['Unnamed: 0', 'artist_name', 'track_name', 'release_date', 'genre',\n",
       "       'lyrics', 'len', 'valence'],\n",
       "      dtype='object')"
      ]
     },
     "execution_count": 57,
     "metadata": {},
     "output_type": "execute_result"
    }
   ],
   "source": [
    "# Check columns.\n",
    "df_lyrics.columns"
   ]
  },
  {
   "cell_type": "code",
   "execution_count": 58,
   "metadata": {},
   "outputs": [
    {
     "name": "stdout",
     "output_type": "stream",
     "text": [
      "Unnamed: 0 0\n",
      "artist_name 0\n",
      "track_name 0\n",
      "release_date 0\n",
      "genre 0\n",
      "lyrics 0\n",
      "len 0\n",
      "valence 0\n"
     ]
    }
   ],
   "source": [
    "# Check if any missing values.\n",
    "for column in df_lyrics.columns:\n",
    "    print(column, df_lyrics[column].isnull().sum())"
   ]
  },
  {
   "cell_type": "code",
   "execution_count": 59,
   "metadata": {},
   "outputs": [
    {
     "data": {
      "text/html": [
       "<div>\n",
       "<style scoped>\n",
       "    .dataframe tbody tr th:only-of-type {\n",
       "        vertical-align: middle;\n",
       "    }\n",
       "\n",
       "    .dataframe tbody tr th {\n",
       "        vertical-align: top;\n",
       "    }\n",
       "\n",
       "    .dataframe thead th {\n",
       "        text-align: right;\n",
       "    }\n",
       "</style>\n",
       "<table border=\"1\" class=\"dataframe\">\n",
       "  <thead>\n",
       "    <tr style=\"text-align: right;\">\n",
       "      <th></th>\n",
       "      <th>Unnamed: 0</th>\n",
       "      <th>artist_name</th>\n",
       "      <th>track_name</th>\n",
       "      <th>release_date</th>\n",
       "      <th>genre</th>\n",
       "      <th>lyrics</th>\n",
       "      <th>len</th>\n",
       "      <th>valence</th>\n",
       "    </tr>\n",
       "  </thead>\n",
       "  <tbody>\n",
       "    <tr>\n",
       "      <th>0</th>\n",
       "      <td>13923</td>\n",
       "      <td>santana</td>\n",
       "      <td>wham!</td>\n",
       "      <td>1978</td>\n",
       "      <td>blues</td>\n",
       "      <td>cold chamber smoke kush gettin higher plane sw...</td>\n",
       "      <td>198</td>\n",
       "      <td>0.857791</td>\n",
       "    </tr>\n",
       "    <tr>\n",
       "      <th>1</th>\n",
       "      <td>14958</td>\n",
       "      <td>marvin sease</td>\n",
       "      <td>show me what you got</td>\n",
       "      <td>1991</td>\n",
       "      <td>blues</td>\n",
       "      <td>public service announcement weezy baby best ra...</td>\n",
       "      <td>198</td>\n",
       "      <td>0.794930</td>\n",
       "    </tr>\n",
       "    <tr>\n",
       "      <th>2</th>\n",
       "      <td>15045</td>\n",
       "      <td>the robert cray band</td>\n",
       "      <td>1040 blues</td>\n",
       "      <td>1993</td>\n",
       "      <td>blues</td>\n",
       "      <td>gotta rapper today forget fuck smokin brain ce...</td>\n",
       "      <td>198</td>\n",
       "      <td>0.613561</td>\n",
       "    </tr>\n",
       "    <tr>\n",
       "      <th>3</th>\n",
       "      <td>15691</td>\n",
       "      <td>carl sims</td>\n",
       "      <td>it's just a party</td>\n",
       "      <td>2004</td>\n",
       "      <td>blues</td>\n",
       "      <td>girls knock ghetto ballin real thugs unngghhhh...</td>\n",
       "      <td>198</td>\n",
       "      <td>0.705276</td>\n",
       "    </tr>\n",
       "    <tr>\n",
       "      <th>4</th>\n",
       "      <td>16322</td>\n",
       "      <td>rufus thomas</td>\n",
       "      <td>sixty minute man</td>\n",
       "      <td>2011</td>\n",
       "      <td>blues</td>\n",
       "      <td>diddle devil yabba double walk feel body feel ...</td>\n",
       "      <td>198</td>\n",
       "      <td>0.651690</td>\n",
       "    </tr>\n",
       "  </tbody>\n",
       "</table>\n",
       "</div>"
      ],
      "text/plain": [
       "   Unnamed: 0           artist_name            track_name  release_date  \\\n",
       "0       13923               santana                 wham!          1978   \n",
       "1       14958          marvin sease  show me what you got          1991   \n",
       "2       15045  the robert cray band            1040 blues          1993   \n",
       "3       15691             carl sims     it's just a party          2004   \n",
       "4       16322          rufus thomas      sixty minute man          2011   \n",
       "\n",
       "   genre                                             lyrics  len   valence  \n",
       "0  blues  cold chamber smoke kush gettin higher plane sw...  198  0.857791  \n",
       "1  blues  public service announcement weezy baby best ra...  198  0.794930  \n",
       "2  blues  gotta rapper today forget fuck smokin brain ce...  198  0.613561  \n",
       "3  blues  girls knock ghetto ballin real thugs unngghhhh...  198  0.705276  \n",
       "4  blues  diddle devil yabba double walk feel body feel ...  198  0.651690  "
      ]
     },
     "execution_count": 59,
     "metadata": {},
     "output_type": "execute_result"
    }
   ],
   "source": [
    "# Check first few rows. \n",
    "df_lyrics.head()"
   ]
  },
  {
   "attachments": {},
   "cell_type": "markdown",
   "metadata": {},
   "source": [
    "### 2. Data preparation"
   ]
  },
  {
   "cell_type": "code",
   "execution_count": 60,
   "metadata": {},
   "outputs": [],
   "source": [
    "# Remove 'Unnamed: 0' column. \n",
    "df_lyrics.drop(['Unnamed: 0'], axis=1, inplace=True) "
   ]
  },
  {
   "attachments": {},
   "cell_type": "markdown",
   "metadata": {},
   "source": [
    "Tokenise & Remove Punctuations"
   ]
  },
  {
   "cell_type": "code",
   "execution_count": 61,
   "metadata": {},
   "outputs": [
    {
     "data": {
      "text/html": [
       "<div>\n",
       "<style scoped>\n",
       "    .dataframe tbody tr th:only-of-type {\n",
       "        vertical-align: middle;\n",
       "    }\n",
       "\n",
       "    .dataframe tbody tr th {\n",
       "        vertical-align: top;\n",
       "    }\n",
       "\n",
       "    .dataframe thead th {\n",
       "        text-align: right;\n",
       "    }\n",
       "</style>\n",
       "<table border=\"1\" class=\"dataframe\">\n",
       "  <thead>\n",
       "    <tr style=\"text-align: right;\">\n",
       "      <th></th>\n",
       "      <th>artist_name</th>\n",
       "      <th>track_name</th>\n",
       "      <th>release_date</th>\n",
       "      <th>genre</th>\n",
       "      <th>lyrics</th>\n",
       "      <th>len</th>\n",
       "      <th>valence</th>\n",
       "      <th>tokenized</th>\n",
       "    </tr>\n",
       "  </thead>\n",
       "  <tbody>\n",
       "    <tr>\n",
       "      <th>7735</th>\n",
       "      <td>the cranberries</td>\n",
       "      <td>promises</td>\n",
       "      <td>1999</td>\n",
       "      <td>pop</td>\n",
       "      <td>better believe come better believe better hold...</td>\n",
       "      <td>103</td>\n",
       "      <td>0.258038</td>\n",
       "      <td>[better, believe, come, better, believe, bette...</td>\n",
       "    </tr>\n",
       "    <tr>\n",
       "      <th>2949</th>\n",
       "      <td>eddie money</td>\n",
       "      <td>calm before the storm</td>\n",
       "      <td>1986</td>\n",
       "      <td>country</td>\n",
       "      <td>whoa believe heaven knock hit listen tell stop...</td>\n",
       "      <td>89</td>\n",
       "      <td>0.335326</td>\n",
       "      <td>[whoa, believe, heaven, knock, hit, listen, te...</td>\n",
       "    </tr>\n",
       "    <tr>\n",
       "      <th>9120</th>\n",
       "      <td>alborosie</td>\n",
       "      <td>kingdom of zion</td>\n",
       "      <td>2008</td>\n",
       "      <td>reggae</td>\n",
       "      <td>wicked enter kingdom zion stand blaze fiyah ri...</td>\n",
       "      <td>97</td>\n",
       "      <td>0.738252</td>\n",
       "      <td>[wicked, enter, kingdom, zion, stand, blaze, f...</td>\n",
       "    </tr>\n",
       "    <tr>\n",
       "      <th>6875</th>\n",
       "      <td>fall out boy</td>\n",
       "      <td>thnks fr th mmrs</td>\n",
       "      <td>2007</td>\n",
       "      <td>pop</td>\n",
       "      <td>go bend break send wing prayer good time roll ...</td>\n",
       "      <td>137</td>\n",
       "      <td>0.562036</td>\n",
       "      <td>[go, bend, break, send, wing, prayer, good, ti...</td>\n",
       "    </tr>\n",
       "    <tr>\n",
       "      <th>2550</th>\n",
       "      <td>jelly roll</td>\n",
       "      <td>only</td>\n",
       "      <td>2017</td>\n",
       "      <td>country</td>\n",
       "      <td>miss finally take control drug finally take to...</td>\n",
       "      <td>105</td>\n",
       "      <td>0.474444</td>\n",
       "      <td>[miss, finally, take, control, drug, finally, ...</td>\n",
       "    </tr>\n",
       "  </tbody>\n",
       "</table>\n",
       "</div>"
      ],
      "text/plain": [
       "          artist_name             track_name  release_date    genre  \\\n",
       "7735  the cranberries               promises          1999      pop   \n",
       "2949      eddie money  calm before the storm          1986  country   \n",
       "9120        alborosie        kingdom of zion          2008   reggae   \n",
       "6875     fall out boy       thnks fr th mmrs          2007      pop   \n",
       "2550       jelly roll                   only          2017  country   \n",
       "\n",
       "                                                 lyrics  len   valence  \\\n",
       "7735  better believe come better believe better hold...  103  0.258038   \n",
       "2949  whoa believe heaven knock hit listen tell stop...   89  0.335326   \n",
       "9120  wicked enter kingdom zion stand blaze fiyah ri...   97  0.738252   \n",
       "6875  go bend break send wing prayer good time roll ...  137  0.562036   \n",
       "2550  miss finally take control drug finally take to...  105  0.474444   \n",
       "\n",
       "                                              tokenized  \n",
       "7735  [better, believe, come, better, believe, bette...  \n",
       "2949  [whoa, believe, heaven, knock, hit, listen, te...  \n",
       "9120  [wicked, enter, kingdom, zion, stand, blaze, f...  \n",
       "6875  [go, bend, break, send, wing, prayer, good, ti...  \n",
       "2550  [miss, finally, take, control, drug, finally, ...  "
      ]
     },
     "execution_count": 61,
     "metadata": {},
     "output_type": "execute_result"
    }
   ],
   "source": [
    "# Convert all data of lyrics to string type.\n",
    "df_lyrics['lyrics'] = df_lyrics['lyrics'].apply(str)\n",
    "\n",
    "# Convert all string of lyrics to lowercase.\n",
    "df_lyrics['lyrics'] = df_lyrics['lyrics'].str.lower()\n",
    "\n",
    "# Tokenize text from lyrics. \n",
    "df_lyrics['tokenized'] = df_lyrics['lyrics'].apply(word_tokenize)\n",
    "\n",
    "# Remove punctuations.\n",
    "punc_marks = list(string.punctuation)\n",
    "df_lyrics['tokenized'] = df_lyrics['tokenized'].apply(lambda x: [word for word in x if word not in punc_marks])\n",
    "                                                                       \n",
    "# Display smaple data. \n",
    "df_lyrics.sample(5)"
   ]
  },
  {
   "attachments": {},
   "cell_type": "markdown",
   "metadata": {},
   "source": [
    "Remove Stopwords"
   ]
  },
  {
   "cell_type": "code",
   "execution_count": 62,
   "metadata": {},
   "outputs": [
    {
     "data": {
      "text/html": [
       "<div>\n",
       "<style scoped>\n",
       "    .dataframe tbody tr th:only-of-type {\n",
       "        vertical-align: middle;\n",
       "    }\n",
       "\n",
       "    .dataframe tbody tr th {\n",
       "        vertical-align: top;\n",
       "    }\n",
       "\n",
       "    .dataframe thead th {\n",
       "        text-align: right;\n",
       "    }\n",
       "</style>\n",
       "<table border=\"1\" class=\"dataframe\">\n",
       "  <thead>\n",
       "    <tr style=\"text-align: right;\">\n",
       "      <th></th>\n",
       "      <th>artist_name</th>\n",
       "      <th>track_name</th>\n",
       "      <th>release_date</th>\n",
       "      <th>genre</th>\n",
       "      <th>lyrics</th>\n",
       "      <th>len</th>\n",
       "      <th>valence</th>\n",
       "      <th>tokenized</th>\n",
       "      <th>cleaned_stopwords</th>\n",
       "    </tr>\n",
       "  </thead>\n",
       "  <tbody>\n",
       "    <tr>\n",
       "      <th>0</th>\n",
       "      <td>santana</td>\n",
       "      <td>wham!</td>\n",
       "      <td>1978</td>\n",
       "      <td>blues</td>\n",
       "      <td>cold chamber smoke kush gettin higher plane sw...</td>\n",
       "      <td>198</td>\n",
       "      <td>0.857791</td>\n",
       "      <td>[cold, chamber, smoke, kush, gettin, higher, p...</td>\n",
       "      <td>[cold, chamber, smoke, kush, gettin, higher, p...</td>\n",
       "    </tr>\n",
       "    <tr>\n",
       "      <th>1</th>\n",
       "      <td>marvin sease</td>\n",
       "      <td>show me what you got</td>\n",
       "      <td>1991</td>\n",
       "      <td>blues</td>\n",
       "      <td>public service announcement weezy baby best ra...</td>\n",
       "      <td>198</td>\n",
       "      <td>0.794930</td>\n",
       "      <td>[public, service, announcement, weezy, baby, b...</td>\n",
       "      <td>[public, service, announcement, weezy, baby, b...</td>\n",
       "    </tr>\n",
       "    <tr>\n",
       "      <th>2</th>\n",
       "      <td>the robert cray band</td>\n",
       "      <td>1040 blues</td>\n",
       "      <td>1993</td>\n",
       "      <td>blues</td>\n",
       "      <td>gotta rapper today forget fuck smokin brain ce...</td>\n",
       "      <td>198</td>\n",
       "      <td>0.613561</td>\n",
       "      <td>[got, ta, rapper, today, forget, fuck, smokin,...</td>\n",
       "      <td>[got, ta, rapper, today, forget, fuck, smokin,...</td>\n",
       "    </tr>\n",
       "  </tbody>\n",
       "</table>\n",
       "</div>"
      ],
      "text/plain": [
       "            artist_name            track_name  release_date  genre  \\\n",
       "0               santana                 wham!          1978  blues   \n",
       "1          marvin sease  show me what you got          1991  blues   \n",
       "2  the robert cray band            1040 blues          1993  blues   \n",
       "\n",
       "                                              lyrics  len   valence  \\\n",
       "0  cold chamber smoke kush gettin higher plane sw...  198  0.857791   \n",
       "1  public service announcement weezy baby best ra...  198  0.794930   \n",
       "2  gotta rapper today forget fuck smokin brain ce...  198  0.613561   \n",
       "\n",
       "                                           tokenized  \\\n",
       "0  [cold, chamber, smoke, kush, gettin, higher, p...   \n",
       "1  [public, service, announcement, weezy, baby, b...   \n",
       "2  [got, ta, rapper, today, forget, fuck, smokin,...   \n",
       "\n",
       "                                   cleaned_stopwords  \n",
       "0  [cold, chamber, smoke, kush, gettin, higher, p...  \n",
       "1  [public, service, announcement, weezy, baby, b...  \n",
       "2  [got, ta, rapper, today, forget, fuck, smokin,...  "
      ]
     },
     "execution_count": 62,
     "metadata": {},
     "output_type": "execute_result"
    }
   ],
   "source": [
    "# Use stopwords to remove stop words.\n",
    "stopwords = nltk.corpus.stopwords.words('english')\n",
    "\n",
    "# Add personalised list of stop words.\n",
    "stopwords.extend([\"'m\", \"'s\", \"'d\", \"hi\", \"im\", \"wa\", \"n't\", \"'get\", \"'ll\", \"'re\", \"'ve\", \"get\", \"still\", \"mmm\", \"ooh\", \"oooh\", \"yah\", \"yeh\",\"mmm\", \"hmm\"])\n",
    "\n",
    "# Remove the stop words from the dataset. \n",
    "df_lyrics['cleaned_stopwords'] = df_lyrics['tokenized'].apply(lambda x: [word for word in x if word not in stopwords])\n",
    "\n",
    "# Check first few rows. \n",
    "df_lyrics.head(3)"
   ]
  },
  {
   "attachments": {},
   "cell_type": "markdown",
   "metadata": {},
   "source": [
    "Lemmatization"
   ]
  },
  {
   "cell_type": "code",
   "execution_count": 63,
   "metadata": {},
   "outputs": [
    {
     "data": {
      "text/html": [
       "<div>\n",
       "<style scoped>\n",
       "    .dataframe tbody tr th:only-of-type {\n",
       "        vertical-align: middle;\n",
       "    }\n",
       "\n",
       "    .dataframe tbody tr th {\n",
       "        vertical-align: top;\n",
       "    }\n",
       "\n",
       "    .dataframe thead th {\n",
       "        text-align: right;\n",
       "    }\n",
       "</style>\n",
       "<table border=\"1\" class=\"dataframe\">\n",
       "  <thead>\n",
       "    <tr style=\"text-align: right;\">\n",
       "      <th></th>\n",
       "      <th>artist_name</th>\n",
       "      <th>track_name</th>\n",
       "      <th>release_date</th>\n",
       "      <th>genre</th>\n",
       "      <th>lyrics</th>\n",
       "      <th>len</th>\n",
       "      <th>valence</th>\n",
       "      <th>tokenized</th>\n",
       "      <th>cleaned_stopwords</th>\n",
       "      <th>pos_tags</th>\n",
       "      <th>lyrics_lemmatized</th>\n",
       "    </tr>\n",
       "  </thead>\n",
       "  <tbody>\n",
       "    <tr>\n",
       "      <th>0</th>\n",
       "      <td>santana</td>\n",
       "      <td>wham!</td>\n",
       "      <td>1978</td>\n",
       "      <td>blues</td>\n",
       "      <td>cold chamber smoke kush gettin higher plane sw...</td>\n",
       "      <td>198</td>\n",
       "      <td>0.857791</td>\n",
       "      <td>[cold, chamber, smoke, kush, gettin, higher, p...</td>\n",
       "      <td>[cold, chamber, smoke, kush, gettin, higher, p...</td>\n",
       "      <td>[(cold, a), (chamber, n), (smoke, v), (kush, n...</td>\n",
       "      <td>cold chamber smoke kush gettin high plane swan...</td>\n",
       "    </tr>\n",
       "    <tr>\n",
       "      <th>1</th>\n",
       "      <td>marvin sease</td>\n",
       "      <td>show me what you got</td>\n",
       "      <td>1991</td>\n",
       "      <td>blues</td>\n",
       "      <td>public service announcement weezy baby best ra...</td>\n",
       "      <td>198</td>\n",
       "      <td>0.794930</td>\n",
       "      <td>[public, service, announcement, weezy, baby, b...</td>\n",
       "      <td>[public, service, announcement, weezy, baby, b...</td>\n",
       "      <td>[(public, a), (service, n), (announcement, n),...</td>\n",
       "      <td>public service announcement weezy baby best ra...</td>\n",
       "    </tr>\n",
       "    <tr>\n",
       "      <th>2</th>\n",
       "      <td>the robert cray band</td>\n",
       "      <td>1040 blues</td>\n",
       "      <td>1993</td>\n",
       "      <td>blues</td>\n",
       "      <td>gotta rapper today forget fuck smokin brain ce...</td>\n",
       "      <td>198</td>\n",
       "      <td>0.613561</td>\n",
       "      <td>[got, ta, rapper, today, forget, fuck, smokin,...</td>\n",
       "      <td>[got, ta, rapper, today, forget, fuck, smokin,...</td>\n",
       "      <td>[(got, v), (ta, a), (rapper, n), (today, n), (...</td>\n",
       "      <td>get ta rapper today forget fuck smokin brain c...</td>\n",
       "    </tr>\n",
       "  </tbody>\n",
       "</table>\n",
       "</div>"
      ],
      "text/plain": [
       "            artist_name            track_name  release_date  genre  \\\n",
       "0               santana                 wham!          1978  blues   \n",
       "1          marvin sease  show me what you got          1991  blues   \n",
       "2  the robert cray band            1040 blues          1993  blues   \n",
       "\n",
       "                                              lyrics  len   valence  \\\n",
       "0  cold chamber smoke kush gettin higher plane sw...  198  0.857791   \n",
       "1  public service announcement weezy baby best ra...  198  0.794930   \n",
       "2  gotta rapper today forget fuck smokin brain ce...  198  0.613561   \n",
       "\n",
       "                                           tokenized  \\\n",
       "0  [cold, chamber, smoke, kush, gettin, higher, p...   \n",
       "1  [public, service, announcement, weezy, baby, b...   \n",
       "2  [got, ta, rapper, today, forget, fuck, smokin,...   \n",
       "\n",
       "                                   cleaned_stopwords  \\\n",
       "0  [cold, chamber, smoke, kush, gettin, higher, p...   \n",
       "1  [public, service, announcement, weezy, baby, b...   \n",
       "2  [got, ta, rapper, today, forget, fuck, smokin,...   \n",
       "\n",
       "                                            pos_tags  \\\n",
       "0  [(cold, a), (chamber, n), (smoke, v), (kush, n...   \n",
       "1  [(public, a), (service, n), (announcement, n),...   \n",
       "2  [(got, v), (ta, a), (rapper, n), (today, n), (...   \n",
       "\n",
       "                                   lyrics_lemmatized  \n",
       "0  cold chamber smoke kush gettin high plane swan...  \n",
       "1  public service announcement weezy baby best ra...  \n",
       "2  get ta rapper today forget fuck smokin brain c...  "
      ]
     },
     "execution_count": 63,
     "metadata": {},
     "output_type": "execute_result"
    }
   ],
   "source": [
    "# Function to attain part of speech of words.\n",
    "def determine_wordnet_speech(word_tag):\n",
    "    if word_tag.startswith('J'):\n",
    "        return wordnet.ADJ\n",
    "    elif word_tag.startswith('V'):\n",
    "        return wordnet.VERB\n",
    "    elif word_tag.startswith('N'):\n",
    "        return wordnet.NOUN\n",
    "    elif word_tag.startswith('R'):\n",
    "        return wordnet.ADV\n",
    "    else:\n",
    "        return wordnet.NOUN\n",
    "    \n",
    "# Add part of speech tags.\n",
    "df_lyrics['pos_tags'] = df_lyrics['cleaned_stopwords'].apply(nltk.tag.pos_tag)\n",
    "\n",
    "# Function to get part of speech in WordNet format.\n",
    "df_lyrics['pos_tags'] = df_lyrics['pos_tags'].apply(lambda x: [(word, determine_wordnet_speech(pos_tag)) for (word, pos_tag) in x])\n",
    "\n",
    "# Lemmatize words.\n",
    "word_lemmatizer = WordNetLemmatizer()\n",
    "df_lyrics['lyrics_lemmatized'] = df_lyrics['pos_tags'].apply(lambda x: [word_lemmatizer.lemmatize(word, tag) for word, tag in x])\n",
    "\n",
    "# Convert list to string datatype. \n",
    "df_lyrics['lyrics_lemmatized'] = [' '.join(map(str,l)) for l in df_lyrics['lyrics_lemmatized']]\n",
    "\n",
    "# Check few rows.\n",
    "df_lyrics.head(3)"
   ]
  },
  {
   "cell_type": "code",
   "execution_count": 64,
   "metadata": {},
   "outputs": [
    {
     "data": {
      "text/plain": [
       "blues      2000\n",
       "country    2000\n",
       "jazz       2000\n",
       "pop        2000\n",
       "rock       2000\n",
       "reggae     1978\n",
       "Name: genre, dtype: int64"
      ]
     },
     "execution_count": 64,
     "metadata": {},
     "output_type": "execute_result"
    }
   ],
   "source": [
    "# Check counts per genre\n",
    "df_lyrics['genre'].value_counts()"
   ]
  },
  {
   "cell_type": "code",
   "execution_count": 65,
   "metadata": {},
   "outputs": [
    {
     "data": {
      "image/png": "[encoded data removed]",
      "text/plain": [
       "<Figure size 640x480 with 1 Axes>"
      ]
     },
     "metadata": {},
     "output_type": "display_data"
    },
    {
     "data": {
      "text/plain": [
       "<Figure size 600x400 with 0 Axes>"
      ]
     },
     "metadata": {},
     "output_type": "display_data"
    }
   ],
   "source": [
    "sns.countplot(data=df_lyrics, x='genre')\n",
    "plt.ylabel('Total Lyrics')\n",
    "plt.xlabel('Genres')\n",
    "plt.figure(figsize=(6,4))\n",
    "plt.show()"
   ]
  },
  {
   "cell_type": "code",
   "execution_count": 66,
   "metadata": {},
   "outputs": [],
   "source": [
    "# Extract unique genres\n",
    "x = df_lyrics.genre.unique()\n",
    "\n",
    "# Create dictionary to map each genre to a unique index and its corresponding genre name.\n",
    "lyrics_genre_idx = {}\n",
    "idx_to_lyrics = {}\n",
    "j = 0\n",
    "for i in x:\n",
    "    lyrics_genre_idx[i] = j\n",
    "    idx_to_lyrics[j] = i\n",
    "    j += 1\n",
    "lyrics_genre_idx\n",
    "\n",
    "# Map genre labels to category IDs\n",
    "genre_labels = df_lyrics.genre.map(lyrics_genre_idx)\n",
    "df_lyrics['category_id'] = genre_labels\n",
    "\n",
    "# Create a dataframe with genre and category ID pairs\n",
    "df_category_id = df_lyrics[['genre', 'category_id']].drop_duplicates()\n"
   ]
  },
  {
   "attachments": {},
   "cell_type": "markdown",
   "metadata": {},
   "source": [
    "### 3. Split the data"
   ]
  },
  {
   "cell_type": "code",
   "execution_count": 99,
   "metadata": {},
   "outputs": [],
   "source": [
    "# Split the data into training and testing sets\n",
    "X_train, X_test, y_train, y_test = train_test_split(df_lyrics['lyrics_lemmatized'], df_lyrics['genre'], test_size=0.2, random_state=42)"
   ]
  },
  {
   "attachments": {},
   "cell_type": "markdown",
   "metadata": {},
   "source": [
    "### 4.1 Genre Classification - Multinomial Naive Bayes Model"
   ]
  },
  {
   "attachments": {},
   "cell_type": "markdown",
   "metadata": {},
   "source": [
    "TF-IDF text representation"
   ]
  },
  {
   "cell_type": "code",
   "execution_count": 100,
   "metadata": {},
   "outputs": [],
   "source": [
    "# Transform lyrics text using TF-IDF\n",
    "vectorizer = TfidfVectorizer(stop_words='english')\n",
    "X_train_features = vectorizer.fit_transform(X_train)\n",
    "X_test_features = vectorizer.transform(X_test)"
   ]
  },
  {
   "attachments": {},
   "cell_type": "markdown",
   "metadata": {},
   "source": [
    "Modelling"
   ]
  },
  {
   "cell_type": "code",
   "execution_count": 101,
   "metadata": {},
   "outputs": [
    {
     "data": {
      "text/html": [
       "<style>#sk-container-id-6 {color: black;background-color: white;}#sk-container-id-6 pre{padding: 0;}#sk-container-id-6 div.sk-toggleable {background-color: white;}#sk-container-id-6 label.sk-toggleable__label {cursor: pointer;display: block;width: 100%;margin-bottom: 0;padding: 0.3em;box-sizing: border-box;text-align: center;}#sk-container-id-6 label.sk-toggleable__label-arrow:before {content: \"▸\";float: left;margin-right: 0.25em;color: #696969;}#sk-container-id-6 label.sk-toggleable__label-arrow:hover:before {color: black;}#sk-container-id-6 div.sk-estimator:hover label.sk-toggleable__label-arrow:before {color: black;}#sk-container-id-6 div.sk-toggleable__content {max-height: 0;max-width: 0;overflow: hidden;text-align: left;background-color: #f0f8ff;}#sk-container-id-6 div.sk-toggleable__content pre {margin: 0.2em;color: black;border-radius: 0.25em;background-color: #f0f8ff;}#sk-container-id-6 input.sk-toggleable__control:checked~div.sk-toggleable__content {max-height: 200px;max-width: 100%;overflow: auto;}#sk-container-id-6 input.sk-toggleable__control:checked~label.sk-toggleable__label-arrow:before {content: \"▾\";}#sk-container-id-6 div.sk-estimator input.sk-toggleable__control:checked~label.sk-toggleable__label {background-color: #d4ebff;}#sk-container-id-6 div.sk-label input.sk-toggleable__control:checked~label.sk-toggleable__label {background-color: #d4ebff;}#sk-container-id-6 input.sk-hidden--visually {border: 0;clip: rect(1px 1px 1px 1px);clip: rect(1px, 1px, 1px, 1px);height: 1px;margin: -1px;overflow: hidden;padding: 0;position: absolute;width: 1px;}#sk-container-id-6 div.sk-estimator {font-family: monospace;background-color: #f0f8ff;border: 1px dotted black;border-radius: 0.25em;box-sizing: border-box;margin-bottom: 0.5em;}#sk-container-id-6 div.sk-estimator:hover {background-color: #d4ebff;}#sk-container-id-6 div.sk-parallel-item::after {content: \"\";width: 100%;border-bottom: 1px solid gray;flex-grow: 1;}#sk-container-id-6 div.sk-label:hover label.sk-toggleable__label {background-color: #d4ebff;}#sk-container-id-6 div.sk-serial::before {content: \"\";position: absolute;border-left: 1px solid gray;box-sizing: border-box;top: 0;bottom: 0;left: 50%;z-index: 0;}#sk-container-id-6 div.sk-serial {display: flex;flex-direction: column;align-items: center;background-color: white;padding-right: 0.2em;padding-left: 0.2em;position: relative;}#sk-container-id-6 div.sk-item {position: relative;z-index: 1;}#sk-container-id-6 div.sk-parallel {display: flex;align-items: stretch;justify-content: center;background-color: white;position: relative;}#sk-container-id-6 div.sk-item::before, #sk-container-id-6 div.sk-parallel-item::before {content: \"\";position: absolute;border-left: 1px solid gray;box-sizing: border-box;top: 0;bottom: 0;left: 50%;z-index: -1;}#sk-container-id-6 div.sk-parallel-item {display: flex;flex-direction: column;z-index: 1;position: relative;background-color: white;}#sk-container-id-6 div.sk-parallel-item:first-child::after {align-self: flex-end;width: 50%;}#sk-container-id-6 div.sk-parallel-item:last-child::after {align-self: flex-start;width: 50%;}#sk-container-id-6 div.sk-parallel-item:only-child::after {width: 0;}#sk-container-id-6 div.sk-dashed-wrapped {border: 1px dashed gray;margin: 0 0.4em 0.5em 0.4em;box-sizing: border-box;padding-bottom: 0.4em;background-color: white;}#sk-container-id-6 div.sk-label label {font-family: monospace;font-weight: bold;display: inline-block;line-height: 1.2em;}#sk-container-id-6 div.sk-label-container {text-align: center;}#sk-container-id-6 div.sk-container {/* jupyter's `normalize.less` sets `[hidden] { display: none; }` but bootstrap.min.css set `[hidden] { display: none !important; }` so we also need the `!important` here to be able to override the default hidden behavior on the sphinx rendered scikit-learn.org. See: https://github.com/scikit-learn/scikit-learn/issues/21755 */display: inline-block !important;position: relative;}#sk-container-id-6 div.sk-text-repr-fallback {display: none;}</style><div id=\"sk-container-id-6\" class=\"sk-top-container\"><div class=\"sk-text-repr-fallback\"><pre>MultinomialNB()</pre><b>In a Jupyter environment, please rerun this cell to show the HTML representation or trust the notebook. <br />On GitHub, the HTML representation is unable to render, please try loading this page with nbviewer.org.</b></div><div class=\"sk-container\" hidden><div class=\"sk-item\"><div class=\"sk-estimator sk-toggleable\"><input class=\"sk-toggleable__control sk-hidden--visually\" id=\"sk-estimator-id-14\" type=\"checkbox\" checked><label for=\"sk-estimator-id-14\" class=\"sk-toggleable__label sk-toggleable__label-arrow\">MultinomialNB</label><div class=\"sk-toggleable__content\"><pre>MultinomialNB()</pre></div></div></div></div></div>"
      ],
      "text/plain": [
       "MultinomialNB()"
      ]
     },
     "execution_count": 101,
     "metadata": {},
     "output_type": "execute_result"
    }
   ],
   "source": [
    "# Train the model using Multinomial Naive Bayes algorithm\n",
    "nb_classifier = MultinomialNB()\n",
    "nb_classifier.fit(X_train_features, y_train)"
   ]
  },
  {
   "cell_type": "code",
   "execution_count": 102,
   "metadata": {},
   "outputs": [
    {
     "name": "stdout",
     "output_type": "stream",
     "text": [
      "Accuracy Training: 0.63055729492799\n"
     ]
    }
   ],
   "source": [
    "# Predict using training set\n",
    "y_train_pred = nb_classifier.predict(X_train_features)\n",
    "\n",
    "# Calculate performance of the model on the training set\n",
    "print('Accuracy Training:', accuracy_score(y_train, y_train_pred))\n"
   ]
  },
  {
   "attachments": {},
   "cell_type": "markdown",
   "metadata": {},
   "source": [
    "### 5. Model Evaluation"
   ]
  },
  {
   "cell_type": "code",
   "execution_count": 103,
   "metadata": {},
   "outputs": [
    {
     "name": "stdout",
     "output_type": "stream",
     "text": [
      "Accuracy Testing: 0.38898163606010017\n"
     ]
    }
   ],
   "source": [
    "# Predict on the testing set\n",
    "y_test_pred = nb_classifier.predict(X_test_features)\n",
    "\n",
    "# Calculate performance of the model on the testing set\n",
    "print('Accuracy Testing:', accuracy_score(y_test, y_test_pred))"
   ]
  },
  {
   "cell_type": "code",
   "execution_count": 104,
   "metadata": {},
   "outputs": [
    {
     "name": "stdout",
     "output_type": "stream",
     "text": [
      "\n",
      "Classification Report:\n",
      "               precision    recall  f1-score   support\n",
      "\n",
      "       blues       0.81      0.43      0.56      1600\n",
      "     country       0.51      0.85      0.64      1590\n",
      "        jazz       0.84      0.51      0.64      1572\n",
      "         pop       0.54      0.68      0.60      1609\n",
      "      reggae       0.85      0.62      0.71      1587\n",
      "        rock       0.57      0.69      0.63      1624\n",
      "\n",
      "    accuracy                           0.63      9582\n",
      "   macro avg       0.69      0.63      0.63      9582\n",
      "weighted avg       0.69      0.63      0.63      9582\n",
      "\n"
     ]
    }
   ],
   "source": [
    "# Calculate the confusion matrix and classification report - Training\n",
    "cm_training = confusion_matrix(y_train, y_train_pred)\n",
    "cr_training = classification_report(y_train, y_train_pred)\n",
    "\n",
    "# Print the classification report\n",
    "print('Classification Report:', cr_training)"
   ]
  },
  {
   "cell_type": "code",
   "execution_count": 105,
   "metadata": {},
   "outputs": [
    {
     "name": "stdout",
     "output_type": "stream",
     "text": [
      "\n",
      "Classification Report:\n",
      "               precision    recall  f1-score   support\n",
      "\n",
      "       blues       0.39      0.13      0.19       400\n",
      "     country       0.41      0.70      0.52       410\n",
      "        jazz       0.42      0.20      0.27       428\n",
      "         pop       0.33      0.45      0.38       391\n",
      "      reggae       0.63      0.42      0.50       391\n",
      "        rock       0.30      0.44      0.36       376\n",
      "\n",
      "    accuracy                           0.39      2396\n",
      "   macro avg       0.41      0.39      0.37      2396\n",
      "weighted avg       0.41      0.39      0.37      2396\n",
      "\n"
     ]
    }
   ],
   "source": [
    "# Calculate the confusion matrix and classification report - Testing\n",
    "cm_testing = confusion_matrix(y_test, y_test_pred)\n",
    "cr_testing = classification_report(y_test, y_test_pred)\n",
    "\n",
    "# Print the classification report\n",
    "print('Classification Report:', cr_testing)\n"
   ]
  },
  {
   "cell_type": "code",
   "execution_count": 106,
   "metadata": {},
   "outputs": [
    {
     "data": {
      "image/png": "[encoded data removed]",
      "text/plain": [
       "<Figure size 600x600 with 2 Axes>"
      ]
     },
     "metadata": {},
     "output_type": "display_data"
    }
   ],
   "source": [
    "# Confusion matrix - Training\n",
    "fig, ax = plt.subplots(figsize=(6,6))\n",
    "sns.heatmap(cm_training, annot=True, cmap='Blues', fmt='d', xticklabels=df_category_id.genre.values, yticklabels=df_category_id.genre.values)\n",
    "plt.ylabel('Actual')\n",
    "plt.xlabel('Predicted')\n",
    "plt.title('Confusion matrix - Multinomial Naive Bayes', size=11);"
   ]
  },
  {
   "cell_type": "code",
   "execution_count": 107,
   "metadata": {},
   "outputs": [
    {
     "data": {
      "image/png": "[encoded data removed]",
      "text/plain": [
       "<Figure size 600x600 with 2 Axes>"
      ]
     },
     "metadata": {},
     "output_type": "display_data"
    }
   ],
   "source": [
    "# Confusion matrix - Testing\n",
    "fig, ax = plt.subplots(figsize=(6,6))\n",
    "sns.heatmap(cm_testing, annot=True, cmap='Blues', fmt='d', xticklabels=df_category_id.genre.values, yticklabels=df_category_id.genre.values)\n",
    "plt.ylabel('Actual')\n",
    "plt.xlabel('Predicted')\n",
    "plt.title('Confusion matrix - Multinomial Naive Bayes', size=11);"
   ]
  },
  {
   "attachments": {},
   "cell_type": "markdown",
   "metadata": {},
   "source": [
    "Tuning Hyperparameters"
   ]
  },
  {
   "cell_type": "code",
   "execution_count": 108,
   "metadata": {},
   "outputs": [],
   "source": [
    "# Define the pipeline\n",
    "pipeline = Pipeline([('tfidf', TfidfVectorizer()),  ('nb', MultinomialNB()),])"
   ]
  },
  {
   "cell_type": "code",
   "execution_count": 109,
   "metadata": {},
   "outputs": [],
   "source": [
    "# Define the parameter grid for GridSearchCV\n",
    "# The grid consist of Unigrams or bigrams and smoothing parameter\n",
    "param_grid = {\n",
    "    'tfidf__ngram_range': [(1, 1), (1, 2)],     \n",
    "    'nb__alpha': [0.1, 0.5, 1.0],}"
   ]
  },
  {
   "attachments": {},
   "cell_type": "markdown",
   "metadata": {},
   "source": [
    "Grid search"
   ]
  },
  {
   "cell_type": "code",
   "execution_count": 110,
   "metadata": {},
   "outputs": [
    {
     "data": {
      "text/html": [
       "<style>#sk-container-id-7 {color: black;background-color: white;}#sk-container-id-7 pre{padding: 0;}#sk-container-id-7 div.sk-toggleable {background-color: white;}#sk-container-id-7 label.sk-toggleable__label {cursor: pointer;display: block;width: 100%;margin-bottom: 0;padding: 0.3em;box-sizing: border-box;text-align: center;}#sk-container-id-7 label.sk-toggleable__label-arrow:before {content: \"▸\";float: left;margin-right: 0.25em;color: #696969;}#sk-container-id-7 label.sk-toggleable__label-arrow:hover:before {color: black;}#sk-container-id-7 div.sk-estimator:hover label.sk-toggleable__label-arrow:before {color: black;}#sk-container-id-7 div.sk-toggleable__content {max-height: 0;max-width: 0;overflow: hidden;text-align: left;background-color: #f0f8ff;}#sk-container-id-7 div.sk-toggleable__content pre {margin: 0.2em;color: black;border-radius: 0.25em;background-color: #f0f8ff;}#sk-container-id-7 input.sk-toggleable__control:checked~div.sk-toggleable__content {max-height: 200px;max-width: 100%;overflow: auto;}#sk-container-id-7 input.sk-toggleable__control:checked~label.sk-toggleable__label-arrow:before {content: \"▾\";}#sk-container-id-7 div.sk-estimator input.sk-toggleable__control:checked~label.sk-toggleable__label {background-color: #d4ebff;}#sk-container-id-7 div.sk-label input.sk-toggleable__control:checked~label.sk-toggleable__label {background-color: #d4ebff;}#sk-container-id-7 input.sk-hidden--visually {border: 0;clip: rect(1px 1px 1px 1px);clip: rect(1px, 1px, 1px, 1px);height: 1px;margin: -1px;overflow: hidden;padding: 0;position: absolute;width: 1px;}#sk-container-id-7 div.sk-estimator {font-family: monospace;background-color: #f0f8ff;border: 1px dotted black;border-radius: 0.25em;box-sizing: border-box;margin-bottom: 0.5em;}#sk-container-id-7 div.sk-estimator:hover {background-color: #d4ebff;}#sk-container-id-7 div.sk-parallel-item::after {content: \"\";width: 100%;border-bottom: 1px solid gray;flex-grow: 1;}#sk-container-id-7 div.sk-label:hover label.sk-toggleable__label {background-color: #d4ebff;}#sk-container-id-7 div.sk-serial::before {content: \"\";position: absolute;border-left: 1px solid gray;box-sizing: border-box;top: 0;bottom: 0;left: 50%;z-index: 0;}#sk-container-id-7 div.sk-serial {display: flex;flex-direction: column;align-items: center;background-color: white;padding-right: 0.2em;padding-left: 0.2em;position: relative;}#sk-container-id-7 div.sk-item {position: relative;z-index: 1;}#sk-container-id-7 div.sk-parallel {display: flex;align-items: stretch;justify-content: center;background-color: white;position: relative;}#sk-container-id-7 div.sk-item::before, #sk-container-id-7 div.sk-parallel-item::before {content: \"\";position: absolute;border-left: 1px solid gray;box-sizing: border-box;top: 0;bottom: 0;left: 50%;z-index: -1;}#sk-container-id-7 div.sk-parallel-item {display: flex;flex-direction: column;z-index: 1;position: relative;background-color: white;}#sk-container-id-7 div.sk-parallel-item:first-child::after {align-self: flex-end;width: 50%;}#sk-container-id-7 div.sk-parallel-item:last-child::after {align-self: flex-start;width: 50%;}#sk-container-id-7 div.sk-parallel-item:only-child::after {width: 0;}#sk-container-id-7 div.sk-dashed-wrapped {border: 1px dashed gray;margin: 0 0.4em 0.5em 0.4em;box-sizing: border-box;padding-bottom: 0.4em;background-color: white;}#sk-container-id-7 div.sk-label label {font-family: monospace;font-weight: bold;display: inline-block;line-height: 1.2em;}#sk-container-id-7 div.sk-label-container {text-align: center;}#sk-container-id-7 div.sk-container {/* jupyter's `normalize.less` sets `[hidden] { display: none; }` but bootstrap.min.css set `[hidden] { display: none !important; }` so we also need the `!important` here to be able to override the default hidden behavior on the sphinx rendered scikit-learn.org. See: https://github.com/scikit-learn/scikit-learn/issues/21755 */display: inline-block !important;position: relative;}#sk-container-id-7 div.sk-text-repr-fallback {display: none;}</style><div id=\"sk-container-id-7\" class=\"sk-top-container\"><div class=\"sk-text-repr-fallback\"><pre>GridSearchCV(cv=5,\n",
       "             estimator=Pipeline(steps=[(&#x27;tfidf&#x27;, TfidfVectorizer()),\n",
       "                                       (&#x27;nb&#x27;, MultinomialNB())]),\n",
       "             param_grid={&#x27;nb__alpha&#x27;: [0.1, 0.5, 1.0],\n",
       "                         &#x27;tfidf__ngram_range&#x27;: [(1, 1), (1, 2)]})</pre><b>In a Jupyter environment, please rerun this cell to show the HTML representation or trust the notebook. <br />On GitHub, the HTML representation is unable to render, please try loading this page with nbviewer.org.</b></div><div class=\"sk-container\" hidden><div class=\"sk-item sk-dashed-wrapped\"><div class=\"sk-label-container\"><div class=\"sk-label sk-toggleable\"><input class=\"sk-toggleable__control sk-hidden--visually\" id=\"sk-estimator-id-15\" type=\"checkbox\" ><label for=\"sk-estimator-id-15\" class=\"sk-toggleable__label sk-toggleable__label-arrow\">GridSearchCV</label><div class=\"sk-toggleable__content\"><pre>GridSearchCV(cv=5,\n",
       "             estimator=Pipeline(steps=[(&#x27;tfidf&#x27;, TfidfVectorizer()),\n",
       "                                       (&#x27;nb&#x27;, MultinomialNB())]),\n",
       "             param_grid={&#x27;nb__alpha&#x27;: [0.1, 0.5, 1.0],\n",
       "                         &#x27;tfidf__ngram_range&#x27;: [(1, 1), (1, 2)]})</pre></div></div></div><div class=\"sk-parallel\"><div class=\"sk-parallel-item\"><div class=\"sk-item\"><div class=\"sk-label-container\"><div class=\"sk-label sk-toggleable\"><input class=\"sk-toggleable__control sk-hidden--visually\" id=\"sk-estimator-id-16\" type=\"checkbox\" ><label for=\"sk-estimator-id-16\" class=\"sk-toggleable__label sk-toggleable__label-arrow\">estimator: Pipeline</label><div class=\"sk-toggleable__content\"><pre>Pipeline(steps=[(&#x27;tfidf&#x27;, TfidfVectorizer()), (&#x27;nb&#x27;, MultinomialNB())])</pre></div></div></div><div class=\"sk-serial\"><div class=\"sk-item\"><div class=\"sk-serial\"><div class=\"sk-item\"><div class=\"sk-estimator sk-toggleable\"><input class=\"sk-toggleable__control sk-hidden--visually\" id=\"sk-estimator-id-17\" type=\"checkbox\" ><label for=\"sk-estimator-id-17\" class=\"sk-toggleable__label sk-toggleable__label-arrow\">TfidfVectorizer</label><div class=\"sk-toggleable__content\"><pre>TfidfVectorizer()</pre></div></div></div><div class=\"sk-item\"><div class=\"sk-estimator sk-toggleable\"><input class=\"sk-toggleable__control sk-hidden--visually\" id=\"sk-estimator-id-18\" type=\"checkbox\" ><label for=\"sk-estimator-id-18\" class=\"sk-toggleable__label sk-toggleable__label-arrow\">MultinomialNB</label><div class=\"sk-toggleable__content\"><pre>MultinomialNB()</pre></div></div></div></div></div></div></div></div></div></div></div></div>"
      ],
      "text/plain": [
       "GridSearchCV(cv=5,\n",
       "             estimator=Pipeline(steps=[('tfidf', TfidfVectorizer()),\n",
       "                                       ('nb', MultinomialNB())]),\n",
       "             param_grid={'nb__alpha': [0.1, 0.5, 1.0],\n",
       "                         'tfidf__ngram_range': [(1, 1), (1, 2)]})"
      ]
     },
     "execution_count": 110,
     "metadata": {},
     "output_type": "execute_result"
    }
   ],
   "source": [
    "# Perform grid search to find the best hyperparameters\n",
    "grid_search = GridSearchCV(pipeline, param_grid, cv=5)\n",
    "grid_search.fit(X_train, y_train)"
   ]
  },
  {
   "cell_type": "code",
   "execution_count": 111,
   "metadata": {},
   "outputs": [
    {
     "name": "stdout",
     "output_type": "stream",
     "text": [
      "Best Hyperparameters:  {'nb__alpha': 0.1, 'tfidf__ngram_range': (1, 1)}\n",
      "Best Score:  0.3939685900137545\n"
     ]
    }
   ],
   "source": [
    "# Print the best hyperparameters and best score\n",
    "print('Best Hyperparameters: ', grid_search.best_params_)\n",
    "print('Best Score: ', grid_search.best_score_)"
   ]
  },
  {
   "cell_type": "code",
   "execution_count": 112,
   "metadata": {},
   "outputs": [
    {
     "name": "stdout",
     "output_type": "stream",
     "text": [
      "Accuracy on Testing Set:  0.4031719532554257\n"
     ]
    }
   ],
   "source": [
    "# Evaluate the model performance on the testing set\n",
    "accuracy = grid_search.score(X_test, y_test)\n",
    "print('Accuracy on Testing Set: ', accuracy)"
   ]
  },
  {
   "cell_type": "code",
   "execution_count": 113,
   "metadata": {},
   "outputs": [
    {
     "name": "stdout",
     "output_type": "stream",
     "text": [
      "\n",
      "Classification Report:\n",
      "               precision    recall  f1-score   support\n",
      "\n",
      "       blues       0.33      0.20      0.24       400\n",
      "     country       0.45      0.64      0.53       410\n",
      "        jazz       0.43      0.24      0.30       428\n",
      "         pop       0.38      0.43      0.41       391\n",
      "      reggae       0.61      0.44      0.51       391\n",
      "        rock       0.30      0.49      0.37       376\n",
      "\n",
      "    accuracy                           0.40      2396\n",
      "   macro avg       0.42      0.41      0.39      2396\n",
      "weighted avg       0.42      0.40      0.39      2396\n",
      "\n"
     ]
    }
   ],
   "source": [
    "# Calculate the confusion matrix and classification report - Testing\n",
    "y_test_pred = grid_search.predict(X_test)\n",
    "cm_testing = confusion_matrix(y_test, y_test_pred)\n",
    "cr_testing = classification_report(y_test, y_test_pred)\n",
    "\n",
    "# Print the classification report\n",
    "print('Classification Report:', cr_testing)"
   ]
  },
  {
   "cell_type": "code",
   "execution_count": 114,
   "metadata": {},
   "outputs": [
    {
     "data": {
      "image/png": "[encoded data removed]",
      "text/plain": [
       "<Figure size 600x600 with 2 Axes>"
      ]
     },
     "metadata": {},
     "output_type": "display_data"
    }
   ],
   "source": [
    "# Confusion matrix - Testing\n",
    "fig, ax = plt.subplots(figsize=(6,6))\n",
    "sns.heatmap(cm_testing, annot=True, cmap='Blues', fmt='d', xticklabels=df_category_id.genre.values, yticklabels=df_category_id.genre.values)\n",
    "plt.ylabel('Actual')\n",
    "plt.xlabel('Predicted')\n",
    "plt.title('Confusion matrix - Multinomial Naive Bayes', size=11);"
   ]
  },
  {
   "attachments": {},
   "cell_type": "markdown",
   "metadata": {},
   "source": [
    "### 4.2 Genre Classification - CatBoost Classifier Model"
   ]
  },
  {
   "attachments": {},
   "cell_type": "markdown",
   "metadata": {},
   "source": [
    "Vectorisation text representation"
   ]
  },
  {
   "cell_type": "code",
   "execution_count": 81,
   "metadata": {},
   "outputs": [],
   "source": [
    "# Transform lyrics text using CountVectorizer\n",
    "vectorizer = CountVectorizer()\n",
    "X_train_vectorized = vectorizer.fit_transform(X_train)\n",
    "X_test_vectorized = vectorizer.transform(X_test)"
   ]
  },
  {
   "attachments": {},
   "cell_type": "markdown",
   "metadata": {},
   "source": [
    "Modelling"
   ]
  },
  {
   "cell_type": "code",
   "execution_count": 82,
   "metadata": {},
   "outputs": [
    {
     "name": "stdout",
     "output_type": "stream",
     "text": [
      "0:\tlearn: 1.7559595\ttotal: 116ms\tremaining: 11.5s\n",
      "1:\tlearn: 1.7324245\ttotal: 246ms\tremaining: 12.1s\n",
      "2:\tlearn: 1.7235301\ttotal: 375ms\tremaining: 12.1s\n",
      "3:\tlearn: 1.7106259\ttotal: 519ms\tremaining: 12.4s\n",
      "4:\tlearn: 1.7025810\ttotal: 670ms\tremaining: 12.7s\n",
      "5:\tlearn: 1.6936405\ttotal: 835ms\tremaining: 13.1s\n",
      "6:\tlearn: 1.6853456\ttotal: 1.01s\tremaining: 13.4s\n",
      "7:\tlearn: 1.6728257\ttotal: 1.22s\tremaining: 14s\n",
      "8:\tlearn: 1.6631220\ttotal: 1.38s\tremaining: 13.9s\n",
      "9:\tlearn: 1.6512058\ttotal: 1.52s\tremaining: 13.7s\n",
      "10:\tlearn: 1.6329298\ttotal: 1.66s\tremaining: 13.4s\n",
      "11:\tlearn: 1.6182771\ttotal: 1.81s\tremaining: 13.3s\n",
      "12:\tlearn: 1.6015676\ttotal: 1.93s\tremaining: 12.9s\n",
      "13:\tlearn: 1.5880222\ttotal: 2.07s\tremaining: 12.7s\n",
      "14:\tlearn: 1.5771828\ttotal: 2.2s\tremaining: 12.5s\n",
      "15:\tlearn: 1.5666399\ttotal: 2.33s\tremaining: 12.2s\n",
      "16:\tlearn: 1.5564982\ttotal: 2.46s\tremaining: 12s\n",
      "17:\tlearn: 1.5498673\ttotal: 2.59s\tremaining: 11.8s\n",
      "18:\tlearn: 1.5444527\ttotal: 2.72s\tremaining: 11.6s\n",
      "19:\tlearn: 1.5391083\ttotal: 2.85s\tremaining: 11.4s\n",
      "20:\tlearn: 1.5302984\ttotal: 2.98s\tremaining: 11.2s\n",
      "21:\tlearn: 1.5273552\ttotal: 3.1s\tremaining: 11s\n",
      "22:\tlearn: 1.5214056\ttotal: 3.23s\tremaining: 10.8s\n",
      "23:\tlearn: 1.5185805\ttotal: 3.36s\tremaining: 10.6s\n",
      "24:\tlearn: 1.5153796\ttotal: 3.49s\tremaining: 10.5s\n",
      "25:\tlearn: 1.5107346\ttotal: 3.62s\tremaining: 10.3s\n",
      "26:\tlearn: 1.5073420\ttotal: 3.74s\tremaining: 10.1s\n",
      "27:\tlearn: 1.5007651\ttotal: 3.87s\tremaining: 9.95s\n",
      "28:\tlearn: 1.4957675\ttotal: 4s\tremaining: 9.78s\n",
      "29:\tlearn: 1.4926301\ttotal: 4.12s\tremaining: 9.62s\n",
      "30:\tlearn: 1.4905098\ttotal: 4.25s\tremaining: 9.46s\n",
      "31:\tlearn: 1.4868201\ttotal: 4.38s\tremaining: 9.32s\n",
      "32:\tlearn: 1.4825746\ttotal: 4.51s\tremaining: 9.16s\n",
      "33:\tlearn: 1.4804937\ttotal: 4.64s\tremaining: 9s\n",
      "34:\tlearn: 1.4732108\ttotal: 4.77s\tremaining: 8.86s\n",
      "35:\tlearn: 1.4686328\ttotal: 4.89s\tremaining: 8.7s\n",
      "36:\tlearn: 1.4644571\ttotal: 5.01s\tremaining: 8.54s\n",
      "37:\tlearn: 1.4629200\ttotal: 5.15s\tremaining: 8.4s\n",
      "38:\tlearn: 1.4618043\ttotal: 5.3s\tremaining: 8.29s\n",
      "39:\tlearn: 1.4577804\ttotal: 5.49s\tremaining: 8.24s\n",
      "40:\tlearn: 1.4569994\ttotal: 5.68s\tremaining: 8.17s\n",
      "41:\tlearn: 1.4553717\ttotal: 5.87s\tremaining: 8.11s\n",
      "42:\tlearn: 1.4528934\ttotal: 6.04s\tremaining: 8.01s\n",
      "43:\tlearn: 1.4507051\ttotal: 6.27s\tremaining: 7.99s\n",
      "44:\tlearn: 1.4480139\ttotal: 6.43s\tremaining: 7.86s\n",
      "45:\tlearn: 1.4462658\ttotal: 6.55s\tremaining: 7.69s\n",
      "46:\tlearn: 1.4437532\ttotal: 6.67s\tremaining: 7.52s\n",
      "47:\tlearn: 1.4426855\ttotal: 6.79s\tremaining: 7.35s\n",
      "48:\tlearn: 1.4397891\ttotal: 6.91s\tremaining: 7.19s\n",
      "49:\tlearn: 1.4383519\ttotal: 7.03s\tremaining: 7.03s\n",
      "50:\tlearn: 1.4350922\ttotal: 7.15s\tremaining: 6.87s\n",
      "51:\tlearn: 1.4336542\ttotal: 7.28s\tremaining: 6.72s\n",
      "52:\tlearn: 1.4324153\ttotal: 7.4s\tremaining: 6.57s\n",
      "53:\tlearn: 1.4274390\ttotal: 7.53s\tremaining: 6.41s\n",
      "54:\tlearn: 1.4225627\ttotal: 7.65s\tremaining: 6.25s\n",
      "55:\tlearn: 1.4209605\ttotal: 7.76s\tremaining: 6.1s\n",
      "56:\tlearn: 1.4173567\ttotal: 7.88s\tremaining: 5.95s\n",
      "57:\tlearn: 1.4139810\ttotal: 8.01s\tremaining: 5.8s\n",
      "58:\tlearn: 1.4111628\ttotal: 8.13s\tremaining: 5.65s\n",
      "59:\tlearn: 1.4090047\ttotal: 8.24s\tremaining: 5.5s\n",
      "60:\tlearn: 1.4082423\ttotal: 8.36s\tremaining: 5.35s\n",
      "61:\tlearn: 1.4073321\ttotal: 8.48s\tremaining: 5.2s\n",
      "62:\tlearn: 1.4045919\ttotal: 8.6s\tremaining: 5.05s\n",
      "63:\tlearn: 1.4033627\ttotal: 8.73s\tremaining: 4.91s\n",
      "64:\tlearn: 1.3985896\ttotal: 8.86s\tremaining: 4.77s\n",
      "65:\tlearn: 1.3967914\ttotal: 8.97s\tremaining: 4.62s\n",
      "66:\tlearn: 1.3932030\ttotal: 9.1s\tremaining: 4.48s\n",
      "67:\tlearn: 1.3906574\ttotal: 9.22s\tremaining: 4.34s\n",
      "68:\tlearn: 1.3896158\ttotal: 9.34s\tremaining: 4.19s\n",
      "69:\tlearn: 1.3869924\ttotal: 9.46s\tremaining: 4.05s\n",
      "70:\tlearn: 1.3853382\ttotal: 9.58s\tremaining: 3.91s\n",
      "71:\tlearn: 1.3839884\ttotal: 9.7s\tremaining: 3.77s\n",
      "72:\tlearn: 1.3815617\ttotal: 9.82s\tremaining: 3.63s\n",
      "73:\tlearn: 1.3797589\ttotal: 9.94s\tremaining: 3.49s\n",
      "74:\tlearn: 1.3790821\ttotal: 10.1s\tremaining: 3.37s\n",
      "75:\tlearn: 1.3763709\ttotal: 10.2s\tremaining: 3.23s\n",
      "76:\tlearn: 1.3755546\ttotal: 10.4s\tremaining: 3.09s\n",
      "77:\tlearn: 1.3745656\ttotal: 10.5s\tremaining: 2.95s\n",
      "78:\tlearn: 1.3717425\ttotal: 10.6s\tremaining: 2.81s\n",
      "79:\tlearn: 1.3689646\ttotal: 10.7s\tremaining: 2.68s\n",
      "80:\tlearn: 1.3679097\ttotal: 10.8s\tremaining: 2.54s\n",
      "81:\tlearn: 1.3673507\ttotal: 11s\tremaining: 2.4s\n",
      "82:\tlearn: 1.3664880\ttotal: 11.1s\tremaining: 2.27s\n",
      "83:\tlearn: 1.3641156\ttotal: 11.2s\tremaining: 2.13s\n",
      "84:\tlearn: 1.3633551\ttotal: 11.3s\tremaining: 2s\n",
      "85:\tlearn: 1.3610200\ttotal: 11.4s\tremaining: 1.86s\n",
      "86:\tlearn: 1.3585939\ttotal: 11.6s\tremaining: 1.73s\n",
      "87:\tlearn: 1.3574759\ttotal: 11.7s\tremaining: 1.59s\n",
      "88:\tlearn: 1.3557419\ttotal: 11.8s\tremaining: 1.46s\n",
      "89:\tlearn: 1.3545359\ttotal: 11.9s\tremaining: 1.32s\n",
      "90:\tlearn: 1.3485429\ttotal: 12s\tremaining: 1.19s\n",
      "91:\tlearn: 1.3455658\ttotal: 12.2s\tremaining: 1.06s\n",
      "92:\tlearn: 1.3450665\ttotal: 12.3s\tremaining: 924ms\n",
      "93:\tlearn: 1.3436716\ttotal: 12.4s\tremaining: 791ms\n",
      "94:\tlearn: 1.3419794\ttotal: 12.5s\tremaining: 658ms\n",
      "95:\tlearn: 1.3413256\ttotal: 12.6s\tremaining: 526ms\n",
      "96:\tlearn: 1.3392192\ttotal: 12.7s\tremaining: 394ms\n",
      "97:\tlearn: 1.3363281\ttotal: 12.9s\tremaining: 262ms\n",
      "98:\tlearn: 1.3353269\ttotal: 13s\tremaining: 131ms\n",
      "99:\tlearn: 1.3335375\ttotal: 13.1s\tremaining: 0us\n"
     ]
    },
    {
     "data": {
      "text/plain": [
       "<catboost.core.CatBoostClassifier at 0x147ebd900>"
      ]
     },
     "execution_count": 82,
     "metadata": {},
     "output_type": "execute_result"
    }
   ],
   "source": [
    "# Build and train a classifier\n",
    "cat_features = None\n",
    "train_dataset = Pool(data=X_train_vectorized, label=y_train, cat_features = cat_features)\n",
    "cat_boot_model1 = CatBoostClassifier(iterations=100, learning_rate=1, depth=5, loss_function='MultiClass')\n",
    "cat_boot_model1.fit(train_dataset)"
   ]
  },
  {
   "cell_type": "code",
   "execution_count": 83,
   "metadata": {},
   "outputs": [
    {
     "name": "stdout",
     "output_type": "stream",
     "text": [
      "Accuracy Training: 0.48925067835524944\n"
     ]
    }
   ],
   "source": [
    "# Predict using training set \n",
    "y_train_pred = cat_boot_model1.predict(X_train_vectorized)\n",
    "\n",
    "# Calculate performance of the model on the training set\n",
    "print('Accuracy Training:', accuracy_score(y_train, y_train_pred))"
   ]
  },
  {
   "attachments": {},
   "cell_type": "markdown",
   "metadata": {},
   "source": [
    "### 5. Model Evaluation"
   ]
  },
  {
   "cell_type": "code",
   "execution_count": 85,
   "metadata": {},
   "outputs": [
    {
     "name": "stdout",
     "output_type": "stream",
     "text": [
      "Accuracy Testing: 0.3555926544240401\n"
     ]
    }
   ],
   "source": [
    "# Predict using testing set\n",
    "y_test_pred = cat_boot_model1.predict(X_test_vectorized)\n",
    "\n",
    "# Calculate performance of the model on the testing set\n",
    "print('Accuracy Testing:', accuracy_score(y_test, y_test_pred))"
   ]
  },
  {
   "attachments": {},
   "cell_type": "markdown",
   "metadata": {},
   "source": [
    "Tuning Hyperparameters"
   ]
  },
  {
   "cell_type": "code",
   "execution_count": 86,
   "metadata": {},
   "outputs": [],
   "source": [
    "# Build a classifier\n",
    "catboost_model2 = CatBoostClassifier(random_seed=9, eval_metric='Accuracy')"
   ]
  },
  {
   "cell_type": "code",
   "execution_count": 87,
   "metadata": {},
   "outputs": [],
   "source": [
    "# Define the hyperparameter search grid for RandomizedSearchCV\n",
    "param_dist = {'iterations': sp_randint(50, 200),         # Number of iterations (epochs)\n",
    "    'learning_rate': [0.1, 0.01, 0.001],                 # Learning rate\n",
    "    'depth': sp_randint(4, 9),                           # Tree depth (random integer between 4 and 9)\n",
    "    'l2_leaf_reg': sp_randint(1, 6),                     # L2 regularization (random integer between 1 and 6)\n",
    "    'border_count': sp_randint(32, 128),                 # Border count\n",
    "    'bagging_temperature': [0.2, 0.5, 1],                # Bagging temperature\n",
    "    'random_strength': [0.2, 0.5, 1],                    # Random strength\n",
    "    'grow_policy': ['SymmetricTree', 'Depthwise', 'Lossguide'],  # Grow policy\n",
    "    'loss_function': ['MultiClass', 'MultiClassOneVsAll', 'CrossEntropy'] # Loss functions for classification\n",
    "}"
   ]
  },
  {
   "cell_type": "code",
   "execution_count": 47,
   "metadata": {},
   "outputs": [
    {
     "name": "stderr",
     "output_type": "stream",
     "text": [
      "/usr/local/lib/python3.10/site-packages/sklearn/model_selection/_validation.py:378: FitFailedWarning: \n",
      "65 fits failed out of a total of 250.\n",
      "The score on these train-test partitions for these parameters will be set to nan.\n",
      "If these failures are not expected, you can try to debug them by setting error_score='raise'.\n",
      "\n",
      "Below are more details about the failures:\n",
      "--------------------------------------------------------------------------------\n",
      "13 fits failed with the following error:\n",
      "Traceback (most recent call last):\n",
      "  File \"/usr/local/lib/python3.10/site-packages/sklearn/model_selection/_validation.py\", line 686, in _fit_and_score\n",
      "    estimator.fit(X_train, y_train, **fit_params)\n",
      "  File \"/Users/monalipatil/Library/Python/3.10/lib/python/site-packages/catboost/core.py\", line 5128, in fit\n",
      "    self._fit(X, y, cat_features, text_features, embedding_features, None, sample_weight, None, None, None, None, baseline, use_best_model,\n",
      "  File \"/Users/monalipatil/Library/Python/3.10/lib/python/site-packages/catboost/core.py\", line 2355, in _fit\n",
      "    self._train(\n",
      "  File \"/Users/monalipatil/Library/Python/3.10/lib/python/site-packages/catboost/core.py\", line 1759, in _train\n",
      "    self._object._train(train_pool, test_pool, params, allow_clear_pool, init_model._object if init_model else None)\n",
      "  File \"_catboost.pyx\", line 4623, in _catboost._CatBoost._train\n",
      "  File \"_catboost.pyx\", line 4672, in _catboost._CatBoost._train\n",
      "_catboost.CatBoostError: catboost/private/libs/target/target_converter.cpp:35: Target value \"reggae\" cannot be parsed as float\n",
      "\n",
      "--------------------------------------------------------------------------------\n",
      "52 fits failed with the following error:\n",
      "Traceback (most recent call last):\n",
      "  File \"/usr/local/lib/python3.10/site-packages/sklearn/model_selection/_validation.py\", line 686, in _fit_and_score\n",
      "    estimator.fit(X_train, y_train, **fit_params)\n",
      "  File \"/Users/monalipatil/Library/Python/3.10/lib/python/site-packages/catboost/core.py\", line 5128, in fit\n",
      "    self._fit(X, y, cat_features, text_features, embedding_features, None, sample_weight, None, None, None, None, baseline, use_best_model,\n",
      "  File \"/Users/monalipatil/Library/Python/3.10/lib/python/site-packages/catboost/core.py\", line 2355, in _fit\n",
      "    self._train(\n",
      "  File \"/Users/monalipatil/Library/Python/3.10/lib/python/site-packages/catboost/core.py\", line 1759, in _train\n",
      "    self._object._train(train_pool, test_pool, params, allow_clear_pool, init_model._object if init_model else None)\n",
      "  File \"_catboost.pyx\", line 4623, in _catboost._CatBoost._train\n",
      "  File \"_catboost.pyx\", line 4672, in _catboost._CatBoost._train\n",
      "_catboost.CatBoostError: catboost/private/libs/target/target_converter.cpp:35: Target value \"blues\" cannot be parsed as float\n",
      "\n",
      "  warnings.warn(some_fits_failed_message, FitFailedWarning)\n",
      "/usr/local/lib/python3.10/site-packages/sklearn/model_selection/_search.py:952: UserWarning: One or more of the test scores are non-finite: [0.26716583 0.35263923 0.21290154 0.36589421 0.16948444 0.26841909\n",
      " 0.16948444 0.32258367 0.24504053        nan        nan 0.16948444\n",
      "        nan        nan        nan 0.35733537 0.16948444        nan\n",
      " 0.26998333 0.3768521  0.36505958        nan 0.27259353 0.21446442\n",
      " 0.37194697 0.32498342 0.36046847 0.30494526        nan 0.23731888\n",
      " 0.22166349 0.35222196 0.37111233 0.27791549 0.35931796 0.30056211\n",
      " 0.26987976 0.23418812 0.36171912        nan 0.37852126 0.37779199\n",
      "        nan        nan        nan 0.27457623        nan 0.35013428\n",
      " 0.37340644 0.25495604]\n",
      "  warnings.warn(\n"
     ]
    },
    {
     "data": {
      "text/html": [
       "<style>#sk-container-id-3 {color: black;background-color: white;}#sk-container-id-3 pre{padding: 0;}#sk-container-id-3 div.sk-toggleable {background-color: white;}#sk-container-id-3 label.sk-toggleable__label {cursor: pointer;display: block;width: 100%;margin-bottom: 0;padding: 0.3em;box-sizing: border-box;text-align: center;}#sk-container-id-3 label.sk-toggleable__label-arrow:before {content: \"▸\";float: left;margin-right: 0.25em;color: #696969;}#sk-container-id-3 label.sk-toggleable__label-arrow:hover:before {color: black;}#sk-container-id-3 div.sk-estimator:hover label.sk-toggleable__label-arrow:before {color: black;}#sk-container-id-3 div.sk-toggleable__content {max-height: 0;max-width: 0;overflow: hidden;text-align: left;background-color: #f0f8ff;}#sk-container-id-3 div.sk-toggleable__content pre {margin: 0.2em;color: black;border-radius: 0.25em;background-color: #f0f8ff;}#sk-container-id-3 input.sk-toggleable__control:checked~div.sk-toggleable__content {max-height: 200px;max-width: 100%;overflow: auto;}#sk-container-id-3 input.sk-toggleable__control:checked~label.sk-toggleable__label-arrow:before {content: \"▾\";}#sk-container-id-3 div.sk-estimator input.sk-toggleable__control:checked~label.sk-toggleable__label {background-color: #d4ebff;}#sk-container-id-3 div.sk-label input.sk-toggleable__control:checked~label.sk-toggleable__label {background-color: #d4ebff;}#sk-container-id-3 input.sk-hidden--visually {border: 0;clip: rect(1px 1px 1px 1px);clip: rect(1px, 1px, 1px, 1px);height: 1px;margin: -1px;overflow: hidden;padding: 0;position: absolute;width: 1px;}#sk-container-id-3 div.sk-estimator {font-family: monospace;background-color: #f0f8ff;border: 1px dotted black;border-radius: 0.25em;box-sizing: border-box;margin-bottom: 0.5em;}#sk-container-id-3 div.sk-estimator:hover {background-color: #d4ebff;}#sk-container-id-3 div.sk-parallel-item::after {content: \"\";width: 100%;border-bottom: 1px solid gray;flex-grow: 1;}#sk-container-id-3 div.sk-label:hover label.sk-toggleable__label {background-color: #d4ebff;}#sk-container-id-3 div.sk-serial::before {content: \"\";position: absolute;border-left: 1px solid gray;box-sizing: border-box;top: 0;bottom: 0;left: 50%;z-index: 0;}#sk-container-id-3 div.sk-serial {display: flex;flex-direction: column;align-items: center;background-color: white;padding-right: 0.2em;padding-left: 0.2em;position: relative;}#sk-container-id-3 div.sk-item {position: relative;z-index: 1;}#sk-container-id-3 div.sk-parallel {display: flex;align-items: stretch;justify-content: center;background-color: white;position: relative;}#sk-container-id-3 div.sk-item::before, #sk-container-id-3 div.sk-parallel-item::before {content: \"\";position: absolute;border-left: 1px solid gray;box-sizing: border-box;top: 0;bottom: 0;left: 50%;z-index: -1;}#sk-container-id-3 div.sk-parallel-item {display: flex;flex-direction: column;z-index: 1;position: relative;background-color: white;}#sk-container-id-3 div.sk-parallel-item:first-child::after {align-self: flex-end;width: 50%;}#sk-container-id-3 div.sk-parallel-item:last-child::after {align-self: flex-start;width: 50%;}#sk-container-id-3 div.sk-parallel-item:only-child::after {width: 0;}#sk-container-id-3 div.sk-dashed-wrapped {border: 1px dashed gray;margin: 0 0.4em 0.5em 0.4em;box-sizing: border-box;padding-bottom: 0.4em;background-color: white;}#sk-container-id-3 div.sk-label label {font-family: monospace;font-weight: bold;display: inline-block;line-height: 1.2em;}#sk-container-id-3 div.sk-label-container {text-align: center;}#sk-container-id-3 div.sk-container {/* jupyter's `normalize.less` sets `[hidden] { display: none; }` but bootstrap.min.css set `[hidden] { display: none !important; }` so we also need the `!important` here to be able to override the default hidden behavior on the sphinx rendered scikit-learn.org. See: https://github.com/scikit-learn/scikit-learn/issues/21755 */display: inline-block !important;position: relative;}#sk-container-id-3 div.sk-text-repr-fallback {display: none;}</style><div id=\"sk-container-id-3\" class=\"sk-top-container\"><div class=\"sk-text-repr-fallback\"><pre>RandomizedSearchCV(cv=5,\n",
       "                   estimator=&lt;catboost.core.CatBoostClassifier object at 0x1456b9cf0&gt;,\n",
       "                   n_iter=50,\n",
       "                   param_distributions={&#x27;bagging_temperature&#x27;: [0.2, 0.5, 1],\n",
       "                                        &#x27;border_count&#x27;: &lt;scipy.stats._distn_infrastructure.rv_discrete_frozen object at 0x1456b9ff0&gt;,\n",
       "                                        &#x27;depth&#x27;: &lt;scipy.stats._distn_infrastructure.rv_discrete_frozen object at 0x1456ba800&gt;,\n",
       "                                        &#x27;grow_policy&#x27;: [&#x27;SymmetricTree&#x27;,\n",
       "                                                        &#x27;Depthwise&#x27;,\n",
       "                                                        &#x27;Lossguide&#x27;],\n",
       "                                        &#x27;iterations&#x27;: &lt;scipy.stats._distn_infrastructure.rv_discrete_frozen object at 0x1456b9fc0&gt;,\n",
       "                                        &#x27;l2_leaf_reg&#x27;: &lt;scipy.stats._distn_infrastructure.rv_discrete_frozen object at 0x1456b9c90&gt;,\n",
       "                                        &#x27;learning_rate&#x27;: [0.1, 0.01, 0.001],\n",
       "                                        &#x27;loss_function&#x27;: [&#x27;MultiClass&#x27;,\n",
       "                                                          &#x27;MultiClassOneVsAll&#x27;,\n",
       "                                                          &#x27;CrossEntropy&#x27;],\n",
       "                                        &#x27;random_strength&#x27;: [0.2, 0.5, 1]})</pre><b>In a Jupyter environment, please rerun this cell to show the HTML representation or trust the notebook. <br />On GitHub, the HTML representation is unable to render, please try loading this page with nbviewer.org.</b></div><div class=\"sk-container\" hidden><div class=\"sk-item sk-dashed-wrapped\"><div class=\"sk-label-container\"><div class=\"sk-label sk-toggleable\"><input class=\"sk-toggleable__control sk-hidden--visually\" id=\"sk-estimator-id-6\" type=\"checkbox\" ><label for=\"sk-estimator-id-6\" class=\"sk-toggleable__label sk-toggleable__label-arrow\">RandomizedSearchCV</label><div class=\"sk-toggleable__content\"><pre>RandomizedSearchCV(cv=5,\n",
       "                   estimator=&lt;catboost.core.CatBoostClassifier object at 0x1456b9cf0&gt;,\n",
       "                   n_iter=50,\n",
       "                   param_distributions={&#x27;bagging_temperature&#x27;: [0.2, 0.5, 1],\n",
       "                                        &#x27;border_count&#x27;: &lt;scipy.stats._distn_infrastructure.rv_discrete_frozen object at 0x1456b9ff0&gt;,\n",
       "                                        &#x27;depth&#x27;: &lt;scipy.stats._distn_infrastructure.rv_discrete_frozen object at 0x1456ba800&gt;,\n",
       "                                        &#x27;grow_policy&#x27;: [&#x27;SymmetricTree&#x27;,\n",
       "                                                        &#x27;Depthwise&#x27;,\n",
       "                                                        &#x27;Lossguide&#x27;],\n",
       "                                        &#x27;iterations&#x27;: &lt;scipy.stats._distn_infrastructure.rv_discrete_frozen object at 0x1456b9fc0&gt;,\n",
       "                                        &#x27;l2_leaf_reg&#x27;: &lt;scipy.stats._distn_infrastructure.rv_discrete_frozen object at 0x1456b9c90&gt;,\n",
       "                                        &#x27;learning_rate&#x27;: [0.1, 0.01, 0.001],\n",
       "                                        &#x27;loss_function&#x27;: [&#x27;MultiClass&#x27;,\n",
       "                                                          &#x27;MultiClassOneVsAll&#x27;,\n",
       "                                                          &#x27;CrossEntropy&#x27;],\n",
       "                                        &#x27;random_strength&#x27;: [0.2, 0.5, 1]})</pre></div></div></div><div class=\"sk-parallel\"><div class=\"sk-parallel-item\"><div class=\"sk-item\"><div class=\"sk-label-container\"><div class=\"sk-label sk-toggleable\"><input class=\"sk-toggleable__control sk-hidden--visually\" id=\"sk-estimator-id-7\" type=\"checkbox\" ><label for=\"sk-estimator-id-7\" class=\"sk-toggleable__label sk-toggleable__label-arrow\">estimator: CatBoostClassifier</label><div class=\"sk-toggleable__content\"><pre>&lt;catboost.core.CatBoostClassifier object at 0x1456b9cf0&gt;</pre></div></div></div><div class=\"sk-serial\"><div class=\"sk-item\"><div class=\"sk-estimator sk-toggleable\"><input class=\"sk-toggleable__control sk-hidden--visually\" id=\"sk-estimator-id-8\" type=\"checkbox\" ><label for=\"sk-estimator-id-8\" class=\"sk-toggleable__label sk-toggleable__label-arrow\">CatBoostClassifier</label><div class=\"sk-toggleable__content\"><pre>&lt;catboost.core.CatBoostClassifier object at 0x1456b9cf0&gt;</pre></div></div></div></div></div></div></div></div></div></div>"
      ],
      "text/plain": [
       "RandomizedSearchCV(cv=5,\n",
       "                   estimator=<catboost.core.CatBoostClassifier object at 0x1456b9cf0>,\n",
       "                   n_iter=50,\n",
       "                   param_distributions={'bagging_temperature': [0.2, 0.5, 1],\n",
       "                                        'border_count': <scipy.stats._distn_infrastructure.rv_discrete_frozen object at 0x1456b9ff0>,\n",
       "                                        'depth': <scipy.stats._distn_infrastructure.rv_discrete_frozen object at 0x1456ba800>,\n",
       "                                        'grow_policy': ['SymmetricTree',\n",
       "                                                        'Depthwise',\n",
       "                                                        'Lossguide'],\n",
       "                                        'iterations': <scipy.stats._distn_infrastructure.rv_discrete_frozen object at 0x1456b9fc0>,\n",
       "                                        'l2_leaf_reg': <scipy.stats._distn_infrastructure.rv_discrete_frozen object at 0x1456b9c90>,\n",
       "                                        'learning_rate': [0.1, 0.01, 0.001],\n",
       "                                        'loss_function': ['MultiClass',\n",
       "                                                          'MultiClassOneVsAll',\n",
       "                                                          'CrossEntropy'],\n",
       "                                        'random_strength': [0.2, 0.5, 1]})"
      ]
     },
     "execution_count": 47,
     "metadata": {},
     "output_type": "execute_result"
    }
   ],
   "source": [
    "# Perform randomized search with cross-validation\n",
    "random_search = RandomizedSearchCV(catboost_model2, param_distributions=param_dist, n_iter=50, cv=5)\n",
    "random_search.fit(X_train_vectorized, y_train, verbose=False)"
   ]
  },
  {
   "cell_type": "code",
   "execution_count": 88,
   "metadata": {},
   "outputs": [
    {
     "name": "stdout",
     "output_type": "stream",
     "text": [
      "Best Hyperparameters:  {'bagging_temperature': 0.5, 'border_count': 81, 'depth': 7, 'grow_policy': 'SymmetricTree', 'iterations': 162, 'l2_leaf_reg': 5, 'learning_rate': 0.1, 'loss_function': 'MultiClassOneVsAll', 'random_strength': 0.2}\n",
      "Best Score:  0.37852126289010646\n"
     ]
    }
   ],
   "source": [
    "# Print the best hyperparameters and cross-validation score\n",
    "print('Best Hyperparameters: ', random_search.best_params_)\n",
    "print('Best Score: ', random_search.best_score_)"
   ]
  },
  {
   "attachments": {},
   "cell_type": "markdown",
   "metadata": {},
   "source": [
    "### 5. Model Evaluation"
   ]
  },
  {
   "cell_type": "code",
   "execution_count": 90,
   "metadata": {},
   "outputs": [
    {
     "name": "stdout",
     "output_type": "stream",
     "text": [
      "Accuracy on Testing Set:  0.3797996661101836\n"
     ]
    }
   ],
   "source": [
    "# Evaluate the model performance on the testing set \n",
    "accuracy = random_search.score(X_test_vectorized, y_test)\n",
    "print('Accuracy on Testing Set: ', accuracy)"
   ]
  },
  {
   "cell_type": "code",
   "execution_count": 95,
   "metadata": {},
   "outputs": [
    {
     "name": "stdout",
     "output_type": "stream",
     "text": [
      "\n",
      "Classification Report:\n",
      "               precision    recall  f1-score   support\n",
      "\n",
      "       blues       0.31      0.28      0.30       400\n",
      "     country       0.44      0.49      0.46       410\n",
      "        jazz       0.33      0.18      0.23       428\n",
      "         pop       0.40      0.42      0.41       391\n",
      "      reggae       0.60      0.37      0.46       391\n",
      "        rock       0.31      0.56      0.40       376\n",
      "\n",
      "    accuracy                           0.38      2396\n",
      "   macro avg       0.40      0.38      0.38      2396\n",
      "weighted avg       0.40      0.38      0.37      2396\n",
      "\n"
     ]
    }
   ],
   "source": [
    "# Calculate the confusion matrix and classification report - Testing\n",
    "y_test_pred = random_search.predict(X_test_vectorized)\n",
    "cm_testing = confusion_matrix(y_test, y_test_pred)\n",
    "cr_testing = classification_report(y_test, y_test_pred)\n",
    "\n",
    "# Print the classification report\n",
    "print('Classification Report:', cr_testing)"
   ]
  },
  {
   "cell_type": "code",
   "execution_count": 97,
   "metadata": {},
   "outputs": [
    {
     "data": {
      "image/png": "[encoded data removed]",
      "text/plain": [
       "<Figure size 600x600 with 2 Axes>"
      ]
     },
     "metadata": {},
     "output_type": "display_data"
    }
   ],
   "source": [
    "# Confusion matrix - Testing\n",
    "fig, ax = plt.subplots(figsize=(6,6))\n",
    "sns.heatmap(cm_testing, annot=True, cmap='Blues', fmt='d', xticklabels=df_category_id.genre.values, yticklabels=df_category_id.genre.values)\n",
    "plt.ylabel('Actual')\n",
    "plt.xlabel('Predicted')\n",
    "plt.title('Confusion matrix - CatBoost Classifier', size=11);"
   ]
  }
 ],
 "metadata": {
  "kernelspec": {
   "display_name": "Python 3",
   "language": "python",
   "name": "python3"
  },
  "language_info": {
   "codemirror_mode": {
    "name": "ipython",
    "version": 3
   },
   "file_extension": ".py",
   "mimetype": "text/x-python",
   "name": "python",
   "nbconvert_exporter": "python",
   "pygments_lexer": "ipython3",
   "version": "3.10.10"
  },
  "orig_nbformat": 4,
  "vscode": {
   "interpreter": {
    "hash": "7e1998ff7f8aa20ada591c520b972326324e5ea05489af9e422744c7c09f6dad"
   }
  }
 },
 "nbformat": 4,
 "nbformat_minor": 2
}
