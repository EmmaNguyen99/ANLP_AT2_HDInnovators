{
 "cells": [
  {
   "cell_type": "markdown",
   "metadata": {
    "id": "tlI9QnDVnagQ"
   },
   "source": [
    "# Applied Natural Language Processing - AT2 - HDInnovators\n",
    "__Content:__\n",
    "\n",
    "1. Import packages and create functions\n",
    "2. Load the dataset\n",
    "3. Data preparation\n",
    "4. Sentiment analysis\n",
    "  \n",
    "  4.1. RandomForest \n",
    "  \n",
    "  4.2. LSTM"
   ]
  },
  {
   "cell_type": "markdown",
   "metadata": {
    "id": "GPzq-Phyol5z"
   },
   "source": [
    "## 1. Import packages and create function"
   ]
  },
  {
   "cell_type": "code",
   "execution_count": 1,
   "metadata": {
    "id": "3y_IWgbLbCCc"
   },
   "outputs": [],
   "source": [
    "!pip install -q -U keras-tuner"
   ]
  },
  {
   "cell_type": "code",
   "execution_count": 2,
   "metadata": {
    "colab": {
     "base_uri": "https://localhost:8080/"
    },
    "id": "97eSUJ6XZ_cU",
    "outputId": "c827e839-160d-4cdc-f5cb-1df89fa7726f"
   },
   "outputs": [
    {
     "name": "stderr",
     "output_type": "stream",
     "text": [
      "2023-05-12 23:37:54.207705: I tensorflow/core/platform/cpu_feature_guard.cc:182] This TensorFlow binary is optimized to use available CPU instructions in performance-critical operations.\n",
      "To enable the following instructions: AVX2 FMA, in other operations, rebuild TensorFlow with the appropriate compiler flags.\n"
     ]
    }
   ],
   "source": [
    "import tensorflow as tf\n",
    "###### Set up GPU for colab ######\n",
    "device_name = tf.test.gpu_device_name()\n",
    "if len(device_name) > 0:\n",
    "    print(\"Found GPU at: {}\".format(device_name))\n",
    "else:\n",
    "    device_name = \"/device:CPU:0\"\n",
    "    print(\"No GPU, using {}.\".format(device_name))\n",
    "import locale\n",
    "def getpreferredencoding(do_setlocale = True):\n",
    "    return \"UTF-8\"\n",
    "locale.getpreferredencoding = getpreferredencoding"
   ]
  },
  {
   "cell_type": "code",
   "execution_count": 32,
   "metadata": {
    "colab": {
     "base_uri": "https://localhost:8080/"
    },
    "id": "2GpgXL1FH_8C",
    "outputId": "78cd53ee-8465-486c-f6fa-84a58e0bd8c3"
   },
   "outputs": [
    {
     "name": "stderr",
     "output_type": "stream",
     "text": [
      "[nltk_data] Downloading package wordnet to\n",
      "[nltk_data]     /Users/nguyenthao/nltk_data...\n",
      "[nltk_data]   Package wordnet is already up-to-date!\n",
      "[nltk_data] Downloading package punkt to\n",
      "[nltk_data]     /Users/nguyenthao/nltk_data...\n",
      "[nltk_data]   Package punkt is already up-to-date!\n",
      "[nltk_data] Downloading package stopwords to\n",
      "[nltk_data]     /Users/nguyenthao/nltk_data...\n",
      "[nltk_data]   Package stopwords is already up-to-date!\n",
      "[nltk_data] Downloading package averaged_perceptron_tagger to\n",
      "[nltk_data]     /Users/nguyenthao/nltk_data...\n",
      "[nltk_data]   Package averaged_perceptron_tagger is already up-to-\n",
      "[nltk_data]       date!\n"
     ]
    }
   ],
   "source": [
    "# data processing\n",
    "import pandas as pd\n",
    "import re\n",
    "import spacy\n",
    "import string\n",
    "import numpy as np\n",
    "\n",
    "# nltk\n",
    "import nltk\n",
    "from nltk.tokenize import word_tokenize\n",
    "from nltk.corpus import stopwords, wordnet\n",
    "from nltk.stem import WordNetLemmatizer\n",
    "\n",
    "nltk.download('wordnet')\n",
    "nltk.download('punkt')\n",
    "nltk.download('stopwords')\n",
    "nltk.download('averaged_perceptron_tagger')\n",
    "\n",
    "# # drive\n",
    "# from google.colab import drive\n",
    "# drive.mount('/content/drive')\n",
    "\n",
    "# data splitting\n",
    "from sklearn.model_selection import train_test_split\n",
    "from sklearn.model_selection import StratifiedKFold\n",
    "\n",
    "# hyperparameter tuning\n",
    "from sklearn.model_selection import GridSearchCV\n",
    "import keras_tuner as kt\n",
    "\n",
    "# visualization\n",
    "import seaborn as sns\n",
    "import matplotlib.pyplot as plt\n",
    "from wordcloud import WordCloud\n",
    "\n",
    "# vectorization\n",
    "from sklearn.feature_extraction.text import CountVectorizer\n",
    "from sklearn.feature_extraction.text import TfidfTransformer\n",
    "from tensorflow.keras.preprocessing.text import Tokenizer\n",
    "from tensorflow.keras.preprocessing.sequence import pad_sequences\n",
    "\n",
    "# tensorflow deep learning \n",
    "from tensorflow.keras.layers import Embedding, LSTM, Dense, Dropout, Bidirectional, Flatten, SpatialDropout1D\n",
    "from tensorflow.keras.models import Sequential\n",
    "from tensorflow.keras.optimizers import Adam\n",
    "from tensorflow.keras import regularizers\n",
    "from tensorflow.keras.callbacks import ModelCheckpoint, EarlyStopping\n",
    "\n",
    "# RandomForest classifier\n",
    "from sklearn.ensemble import RandomForestClassifier\n",
    "\n",
    "# evaluation \n",
    "from sklearn.metrics import accuracy_score, recall_score, precision_score\n",
    "from sklearn.metrics import confusion_matrix, ConfusionMatrixDisplay\n",
    "\n",
    "# ignore warnings \n",
    "import warnings\n",
    "with warnings.catch_warnings():\n",
    "    warnings.simplefilter('ignore')"
   ]
  },
  {
   "cell_type": "code",
   "execution_count": 33,
   "metadata": {
    "id": "dm_00T1BQnsz"
   },
   "outputs": [],
   "source": [
    "# Create a function to transform valence sentiment labels\n",
    "def create_sentiment_from_valence(valence):\n",
    "   if valence < 0.45:\n",
    "     return 0\n",
    "   elif valence > 0.55:\n",
    "     return 2\n",
    "   else:\n",
    "     return 1"
   ]
  },
  {
   "cell_type": "markdown",
   "metadata": {
    "id": "FufJTQrwo89L"
   },
   "source": [
    "## 2. Load and explore the dataset"
   ]
  },
  {
   "cell_type": "markdown",
   "metadata": {
    "id": "4zep39NepWLE"
   },
   "source": [
    "__Load dataset__"
   ]
  },
  {
   "cell_type": "code",
   "execution_count": 6,
   "metadata": {
    "id": "cG46E1rbIE2n"
   },
   "outputs": [],
   "source": [
    "# Loading dataset\n",
    "df = pd.read_csv('../data/data_filtered.csv')"
   ]
  },
  {
   "cell_type": "markdown",
   "metadata": {
    "id": "vPLVlvzGqG9t"
   },
   "source": [
    "## 3. Data preparation"
   ]
  },
  {
   "cell_type": "markdown",
   "metadata": {
    "id": "r7xogmO5pY5_"
   },
   "source": [
    "__Lowercase__"
   ]
  },
  {
   "cell_type": "code",
   "execution_count": 7,
   "metadata": {
    "id": "QiDCvtSEJwW3"
   },
   "outputs": [],
   "source": [
    "# Convert all data of lyrics to string type.\n",
    "df['lyrics'] = df['lyrics'].apply(str)\n",
    "\n",
    "# Convert all string of lyrics to lowercase.\n",
    "df['lyrics'] = df['lyrics'].str.lower()"
   ]
  },
  {
   "cell_type": "markdown",
   "metadata": {
    "id": "-YaNEIDSpijq"
   },
   "source": [
    " __Tokenize__"
   ]
  },
  {
   "cell_type": "code",
   "execution_count": 8,
   "metadata": {
    "id": "-Hbewgleps_K"
   },
   "outputs": [],
   "source": [
    "# Tokenize text from lyrics. \n",
    "df['tokenized'] = df['lyrics'].apply(word_tokenize)"
   ]
  },
  {
   "cell_type": "markdown",
   "metadata": {
    "id": "GzzI39TcptxE"
   },
   "source": [
    "__Remove punctuations__"
   ]
  },
  {
   "cell_type": "code",
   "execution_count": 9,
   "metadata": {
    "id": "9-Fnx3CTp1i_"
   },
   "outputs": [],
   "source": [
    "# All punctuations\n",
    "punc_marks = list(string.punctuation)\n",
    "# Remove all punctuations.\n",
    "df['tokenized'] = df['tokenized'].apply(lambda x: [word for word in x if word not in punc_marks])"
   ]
  },
  {
   "cell_type": "markdown",
   "metadata": {
    "id": "mebHZRsrqBkU"
   },
   "source": [
    "__Remove stopwords__"
   ]
  },
  {
   "cell_type": "code",
   "execution_count": 10,
   "metadata": {
    "id": "tbxDo4tVIrYU"
   },
   "outputs": [],
   "source": [
    "# All stopwords of nltk\n",
    "stopwords = nltk.corpus.stopwords.words('english')\n",
    "\n",
    "# Customized list of stop words.\n",
    "stopwords.extend([\"'m\", \"'s\", \"'d\", \"hi\", \"im\", \"wa\", \"n't\", \"'get\", \"'ll\", \"'re\", \"'ve\", \"get\", \"still\", \"mmm\", \"ooh\", \"oooh\", \"yah\", \"yeh\",\"mmm\", \"hmm\"])\n",
    "\n",
    "# Remove the stop words from the dataset and save the result to new column. \n",
    "df['cleaned_stopwords'] = df['tokenized'].apply(lambda x: [word for word in x if word not in stopwords])"
   ]
  },
  {
   "cell_type": "markdown",
   "metadata": {
    "id": "-vGIOfVEqbVB"
   },
   "source": [
    "__Lemmatize__"
   ]
  },
  {
   "cell_type": "code",
   "execution_count": 11,
   "metadata": {
    "colab": {
     "base_uri": "https://localhost:8080/",
     "height": 343
    },
    "id": "iX5UYCkBKnp5",
    "outputId": "5221c2dd-840a-467c-a130-1a728c1967bf"
   },
   "outputs": [
    {
     "data": {
      "text/html": [
       "<div>\n",
       "<style scoped>\n",
       "    .dataframe tbody tr th:only-of-type {\n",
       "        vertical-align: middle;\n",
       "    }\n",
       "\n",
       "    .dataframe tbody tr th {\n",
       "        vertical-align: top;\n",
       "    }\n",
       "\n",
       "    .dataframe thead th {\n",
       "        text-align: right;\n",
       "    }\n",
       "</style>\n",
       "<table border=\"1\" class=\"dataframe\">\n",
       "  <thead>\n",
       "    <tr style=\"text-align: right;\">\n",
       "      <th></th>\n",
       "      <th>Unnamed: 0</th>\n",
       "      <th>artist_name</th>\n",
       "      <th>track_name</th>\n",
       "      <th>release_date</th>\n",
       "      <th>genre</th>\n",
       "      <th>lyrics</th>\n",
       "      <th>len</th>\n",
       "      <th>valence</th>\n",
       "      <th>tokenized</th>\n",
       "      <th>cleaned_stopwords</th>\n",
       "      <th>pos_tags</th>\n",
       "      <th>lyrics_lemmatized</th>\n",
       "      <th>lyrics_cleaned</th>\n",
       "    </tr>\n",
       "  </thead>\n",
       "  <tbody>\n",
       "    <tr>\n",
       "      <th>0</th>\n",
       "      <td>13923</td>\n",
       "      <td>santana</td>\n",
       "      <td>wham!</td>\n",
       "      <td>1978</td>\n",
       "      <td>blues</td>\n",
       "      <td>cold chamber smoke kush gettin higher plane sw...</td>\n",
       "      <td>198</td>\n",
       "      <td>0.857791</td>\n",
       "      <td>[cold, chamber, smoke, kush, gettin, higher, p...</td>\n",
       "      <td>[cold, chamber, smoke, kush, gettin, higher, p...</td>\n",
       "      <td>[(cold, a), (chamber, n), (smoke, v), (kush, n...</td>\n",
       "      <td>[cold, chamber, smoke, kush, gettin, high, pla...</td>\n",
       "      <td>cold chamber smoke kush gettin high plane swan...</td>\n",
       "    </tr>\n",
       "    <tr>\n",
       "      <th>1</th>\n",
       "      <td>14958</td>\n",
       "      <td>marvin sease</td>\n",
       "      <td>show me what you got</td>\n",
       "      <td>1991</td>\n",
       "      <td>blues</td>\n",
       "      <td>public service announcement weezy baby best ra...</td>\n",
       "      <td>198</td>\n",
       "      <td>0.794930</td>\n",
       "      <td>[public, service, announcement, weezy, baby, b...</td>\n",
       "      <td>[public, service, announcement, weezy, baby, b...</td>\n",
       "      <td>[(public, a), (service, n), (announcement, n),...</td>\n",
       "      <td>[public, service, announcement, weezy, baby, b...</td>\n",
       "      <td>public service announcement weezy baby best ra...</td>\n",
       "    </tr>\n",
       "    <tr>\n",
       "      <th>2</th>\n",
       "      <td>15045</td>\n",
       "      <td>the robert cray band</td>\n",
       "      <td>1040 blues</td>\n",
       "      <td>1993</td>\n",
       "      <td>blues</td>\n",
       "      <td>gotta rapper today forget fuck smokin brain ce...</td>\n",
       "      <td>198</td>\n",
       "      <td>0.613561</td>\n",
       "      <td>[got, ta, rapper, today, forget, fuck, smokin,...</td>\n",
       "      <td>[got, ta, rapper, today, forget, fuck, smokin,...</td>\n",
       "      <td>[(got, v), (ta, a), (rapper, n), (today, n), (...</td>\n",
       "      <td>[get, ta, rapper, today, forget, fuck, smokin,...</td>\n",
       "      <td>get ta rapper today forget fuck smokin brain c...</td>\n",
       "    </tr>\n",
       "  </tbody>\n",
       "</table>\n",
       "</div>"
      ],
      "text/plain": [
       "   Unnamed: 0           artist_name            track_name  release_date  \\\n",
       "0       13923               santana                 wham!          1978   \n",
       "1       14958          marvin sease  show me what you got          1991   \n",
       "2       15045  the robert cray band            1040 blues          1993   \n",
       "\n",
       "   genre                                             lyrics  len   valence  \\\n",
       "0  blues  cold chamber smoke kush gettin higher plane sw...  198  0.857791   \n",
       "1  blues  public service announcement weezy baby best ra...  198  0.794930   \n",
       "2  blues  gotta rapper today forget fuck smokin brain ce...  198  0.613561   \n",
       "\n",
       "                                           tokenized  \\\n",
       "0  [cold, chamber, smoke, kush, gettin, higher, p...   \n",
       "1  [public, service, announcement, weezy, baby, b...   \n",
       "2  [got, ta, rapper, today, forget, fuck, smokin,...   \n",
       "\n",
       "                                   cleaned_stopwords  \\\n",
       "0  [cold, chamber, smoke, kush, gettin, higher, p...   \n",
       "1  [public, service, announcement, weezy, baby, b...   \n",
       "2  [got, ta, rapper, today, forget, fuck, smokin,...   \n",
       "\n",
       "                                            pos_tags  \\\n",
       "0  [(cold, a), (chamber, n), (smoke, v), (kush, n...   \n",
       "1  [(public, a), (service, n), (announcement, n),...   \n",
       "2  [(got, v), (ta, a), (rapper, n), (today, n), (...   \n",
       "\n",
       "                                   lyrics_lemmatized  \\\n",
       "0  [cold, chamber, smoke, kush, gettin, high, pla...   \n",
       "1  [public, service, announcement, weezy, baby, b...   \n",
       "2  [get, ta, rapper, today, forget, fuck, smokin,...   \n",
       "\n",
       "                                      lyrics_cleaned  \n",
       "0  cold chamber smoke kush gettin high plane swan...  \n",
       "1  public service announcement weezy baby best ra...  \n",
       "2  get ta rapper today forget fuck smokin brain c...  "
      ]
     },
     "execution_count": 11,
     "metadata": {},
     "output_type": "execute_result"
    }
   ],
   "source": [
    "# Function to attain part of speech of words.\n",
    "def determine_wordnet_speech(word_tag):\n",
    "    if word_tag.startswith('J'):\n",
    "        return wordnet.ADJ\n",
    "    elif word_tag.startswith('V'):\n",
    "        return wordnet.VERB\n",
    "    elif word_tag.startswith('N'):\n",
    "        return wordnet.NOUN\n",
    "    elif word_tag.startswith('R'):\n",
    "        return wordnet.ADV\n",
    "    else:\n",
    "        return wordnet.NOUN\n",
    "    \n",
    "# Add part of speech tags and save the result to new column.\n",
    "df['pos_tags'] = df['cleaned_stopwords'].apply(nltk.tag.pos_tag)\n",
    "\n",
    "# Function to get part of speech in WordNet format.\n",
    "df['pos_tags'] = df['pos_tags'].apply(lambda x: [(word, determine_wordnet_speech(pos_tag)) for (word, pos_tag) in x])\n",
    "\n",
    "# Lemmatize words and save the result to new column.\n",
    "word_lemmatizer = WordNetLemmatizer()\n",
    "df['lyrics_lemmatized'] = df['pos_tags'].apply(lambda x: [word_lemmatizer.lemmatize(word, tag) for word, tag in x])\n",
    "\n",
    "# Convert list to string datatype. \n",
    "df['lyrics_cleaned'] = [' '.join(map(str,l)) for l in df['lyrics_lemmatized']]\n",
    "\n",
    "# Check few rows.\n",
    "df.head(3)"
   ]
  },
  {
   "cell_type": "markdown",
   "metadata": {
    "id": "TgRLqHwsQ-zO"
   },
   "source": [
    "__Encode label__"
   ]
  },
  {
   "cell_type": "code",
   "execution_count": 12,
   "metadata": {
    "id": "4hPu3824Oe5D"
   },
   "outputs": [],
   "source": [
    "# Transform valence to sentiment labels\n",
    "df['sentiment'] = df['valence'].apply(create_sentiment_from_valence)"
   ]
  },
  {
   "cell_type": "markdown",
   "metadata": {
    "id": "OtgZKPCHRJK4"
   },
   "source": [
    "__Data splitting__"
   ]
  },
  {
   "cell_type": "code",
   "execution_count": 13,
   "metadata": {
    "id": "sj9aEs3hRKHg"
   },
   "outputs": [],
   "source": [
    "# Extract labels \n",
    "y = df['sentiment']\n",
    "# Extract independent variables\n",
    "X = df['lyrics_cleaned']\n",
    "# Split data into train and test\n",
    "X_train, X_test, y_train, y_test = train_test_split(X, y, random_state=42, stratify = y)\n",
    "# Create 3 cv for cross-validation \n",
    "cv = StratifiedKFold(n_splits=3, random_state=8, shuffle=True).split(X_train, y_train)"
   ]
  },
  {
   "cell_type": "markdown",
   "metadata": {
    "id": "wVI55z7KtqnR"
   },
   "source": [
    "## 4. Sentiment analysis "
   ]
  },
  {
   "cell_type": "markdown",
   "metadata": {
    "id": "N20gw_aZuAgw"
   },
   "source": [
    "### 4.1 RandomForest"
   ]
  },
  {
   "cell_type": "markdown",
   "metadata": {
    "id": "a_9ZROvn0RPN"
   },
   "source": [
    "__Vectorization__"
   ]
  },
  {
   "cell_type": "code",
   "execution_count": 14,
   "metadata": {
    "id": "T7UruBYv0FOa"
   },
   "outputs": [],
   "source": [
    "# Instantiate CountVectorizer\n",
    "vectorizer = CountVectorizer(stop_words='english', ngram_range=(1,2), min_df=0.2, max_df=0.7, max_features=100)\n",
    "# Learn a vocabulary dictionary of all tokens in the training set.\n",
    "vectorizer.fit(X_train)\n",
    "# Transform training set and testing set to document-term matrix.\n",
    "X_train_count_vectorized = vectorizer.transform(X_train)\n",
    "X_test_count_vectorized = vectorizer.transform(X_test)"
   ]
  },
  {
   "cell_type": "code",
   "execution_count": 15,
   "metadata": {
    "id": "Q5lUVxH30Ox6"
   },
   "outputs": [],
   "source": [
    "# Instantiate TfidfTransformer\n",
    "tfidf_transformer = TfidfTransformer()\n",
    "# Learn vocabulary and idf from training set.\n",
    "tfidf_transformer.fit(X_train_count_vectorized)\n",
    "# Transform a train and set count matrix to a tf-idf representation.\n",
    "X_train_tfidf = tfidf_transformer.transform(X_train_count_vectorized)\n",
    "X_test_tfidf = tfidf_transformer.transform(X_test_count_vectorized)"
   ]
  },
  {
   "cell_type": "markdown",
   "metadata": {
    "id": "g8d0Rs96IGWr"
   },
   "source": [
    "__Hyperparameter tuning (Grid search)__"
   ]
  },
  {
   "cell_type": "code",
   "execution_count": 16,
   "metadata": {
    "id": "MKcd-GXWMT61"
   },
   "outputs": [],
   "source": [
    "# Train a default RandomForest to get average max_depth \n",
    "rf1 = RandomForestClassifier(random_state=8, n_estimators=50).fit(X_train_tfidf, y_train)"
   ]
  },
  {
   "cell_type": "code",
   "execution_count": 17,
   "metadata": {
    "colab": {
     "base_uri": "https://localhost:8080/"
    },
    "id": "ZmJqJjdCMXb8",
    "outputId": "5339df75-9dc7-4f6c-f2d6-8451dba17493"
   },
   "outputs": [
    {
     "data": {
      "text/plain": [
       "54.14"
      ]
     },
     "execution_count": 17,
     "metadata": {},
     "output_type": "execute_result"
    }
   ],
   "source": [
    "np.mean([estimator.tree_.max_depth for estimator in rf1.estimators_])"
   ]
  },
  {
   "cell_type": "code",
   "execution_count": 18,
   "metadata": {
    "colab": {
     "base_uri": "https://localhost:8080/"
    },
    "id": "QKqD1MhzIOBk",
    "outputId": "fc3eaf63-103a-4815-99b7-a59bf8562c5b"
   },
   "outputs": [
    {
     "data": {
      "text/plain": [
       "{'n_estimators': [50, 100, 150],\n",
       " 'max_depth': [40, 55, 60],\n",
       " 'min_samples_split': [2, 4, 8]}"
      ]
     },
     "execution_count": 18,
     "metadata": {},
     "output_type": "execute_result"
    }
   ],
   "source": [
    "# Create a search space\n",
    "hyperparams_grid = {\n",
    "    'n_estimators': [50, 100, 150],\n",
    "    'max_depth': [40, 55, 60],\n",
    "    'min_samples_split': [2, 4, 8]\n",
    "    }\n",
    "hyperparams_grid"
   ]
  },
  {
   "cell_type": "code",
   "execution_count": 18,
   "metadata": {
    "colab": {
     "base_uri": "https://localhost:8080/",
     "height": 1000
    },
    "id": "PPGlINPTKnGf",
    "outputId": "6c0ba1b3-3f78-4058-bd00-df9e8274ecc9"
   },
   "outputs": [
    {
     "name": "stdout",
     "output_type": "stream",
     "text": [
      "Fitting 3 folds for each of 27 candidates, totalling 81 fits\n",
      "[CV] END .max_depth=40, min_samples_split=2, n_estimators=50; total time=   1.9s\n",
      "[CV] END .max_depth=40, min_samples_split=2, n_estimators=50; total time=   2.0s\n",
      "[CV] END .max_depth=40, min_samples_split=2, n_estimators=50; total time=   2.0s\n",
      "[CV] END max_depth=40, min_samples_split=2, n_estimators=100; total time=   4.8s\n",
      "[CV] END max_depth=40, min_samples_split=2, n_estimators=100; total time=   3.9s\n",
      "[CV] END max_depth=40, min_samples_split=2, n_estimators=100; total time=   3.9s\n",
      "[CV] END max_depth=40, min_samples_split=2, n_estimators=150; total time=   6.8s\n",
      "[CV] END max_depth=40, min_samples_split=2, n_estimators=150; total time=   5.9s\n",
      "[CV] END max_depth=40, min_samples_split=2, n_estimators=150; total time=   6.8s\n",
      "[CV] END .max_depth=40, min_samples_split=4, n_estimators=50; total time=   1.9s\n",
      "[CV] END .max_depth=40, min_samples_split=4, n_estimators=50; total time=   1.9s\n",
      "[CV] END .max_depth=40, min_samples_split=4, n_estimators=50; total time=   1.8s\n",
      "[CV] END max_depth=40, min_samples_split=4, n_estimators=100; total time=   3.7s\n",
      "[CV] END max_depth=40, min_samples_split=4, n_estimators=100; total time=   4.6s\n",
      "[CV] END max_depth=40, min_samples_split=4, n_estimators=100; total time=   3.7s\n",
      "[CV] END max_depth=40, min_samples_split=4, n_estimators=150; total time=   5.5s\n",
      "[CV] END max_depth=40, min_samples_split=4, n_estimators=150; total time=   6.5s\n",
      "[CV] END max_depth=40, min_samples_split=4, n_estimators=150; total time=   5.6s\n",
      "[CV] END .max_depth=40, min_samples_split=8, n_estimators=50; total time=   1.8s\n",
      "[CV] END .max_depth=40, min_samples_split=8, n_estimators=50; total time=   2.1s\n",
      "[CV] END .max_depth=40, min_samples_split=8, n_estimators=50; total time=   2.3s\n",
      "[CV] END max_depth=40, min_samples_split=8, n_estimators=100; total time=   3.5s\n",
      "[CV] END max_depth=40, min_samples_split=8, n_estimators=100; total time=   3.5s\n",
      "[CV] END max_depth=40, min_samples_split=8, n_estimators=100; total time=   3.7s\n",
      "[CV] END max_depth=40, min_samples_split=8, n_estimators=150; total time=   6.0s\n",
      "[CV] END max_depth=40, min_samples_split=8, n_estimators=150; total time=   5.4s\n",
      "[CV] END max_depth=40, min_samples_split=8, n_estimators=150; total time=   6.2s\n",
      "[CV] END .max_depth=55, min_samples_split=2, n_estimators=50; total time=   2.0s\n",
      "[CV] END .max_depth=55, min_samples_split=2, n_estimators=50; total time=   2.0s\n",
      "[CV] END .max_depth=55, min_samples_split=2, n_estimators=50; total time=   1.9s\n",
      "[CV] END max_depth=55, min_samples_split=2, n_estimators=100; total time=   3.9s\n",
      "[CV] END max_depth=55, min_samples_split=2, n_estimators=100; total time=   4.9s\n",
      "[CV] END max_depth=55, min_samples_split=2, n_estimators=100; total time=   4.0s\n",
      "[CV] END max_depth=55, min_samples_split=2, n_estimators=150; total time=   6.3s\n",
      "[CV] END max_depth=55, min_samples_split=2, n_estimators=150; total time=   6.6s\n",
      "[CV] END max_depth=55, min_samples_split=2, n_estimators=150; total time=   6.0s\n",
      "[CV] END .max_depth=55, min_samples_split=4, n_estimators=50; total time=   2.4s\n",
      "[CV] END .max_depth=55, min_samples_split=4, n_estimators=50; total time=   2.3s\n",
      "[CV] END .max_depth=55, min_samples_split=4, n_estimators=50; total time=   1.9s\n",
      "[CV] END max_depth=55, min_samples_split=4, n_estimators=100; total time=   3.7s\n",
      "[CV] END max_depth=55, min_samples_split=4, n_estimators=100; total time=   3.9s\n",
      "[CV] END max_depth=55, min_samples_split=4, n_estimators=100; total time=   4.7s\n",
      "[CV] END max_depth=55, min_samples_split=4, n_estimators=150; total time=   5.6s\n",
      "[CV] END max_depth=55, min_samples_split=4, n_estimators=150; total time=   6.4s\n",
      "[CV] END max_depth=55, min_samples_split=4, n_estimators=150; total time=   5.9s\n",
      "[CV] END .max_depth=55, min_samples_split=8, n_estimators=50; total time=   1.8s\n",
      "[CV] END .max_depth=55, min_samples_split=8, n_estimators=50; total time=   1.8s\n",
      "[CV] END .max_depth=55, min_samples_split=8, n_estimators=50; total time=   1.9s\n",
      "[CV] END max_depth=55, min_samples_split=8, n_estimators=100; total time=   4.4s\n",
      "[CV] END max_depth=55, min_samples_split=8, n_estimators=100; total time=   3.7s\n",
      "[CV] END max_depth=55, min_samples_split=8, n_estimators=100; total time=   3.6s\n",
      "[CV] END max_depth=55, min_samples_split=8, n_estimators=150; total time=   6.2s\n",
      "[CV] END max_depth=55, min_samples_split=8, n_estimators=150; total time=   5.5s\n",
      "[CV] END max_depth=55, min_samples_split=8, n_estimators=150; total time=   5.8s\n",
      "[CV] END .max_depth=60, min_samples_split=2, n_estimators=50; total time=   2.5s\n",
      "[CV] END .max_depth=60, min_samples_split=2, n_estimators=50; total time=   2.0s\n",
      "[CV] END .max_depth=60, min_samples_split=2, n_estimators=50; total time=   2.1s\n",
      "[CV] END max_depth=60, min_samples_split=2, n_estimators=100; total time=   3.9s\n",
      "[CV] END max_depth=60, min_samples_split=2, n_estimators=100; total time=   4.7s\n",
      "[CV] END max_depth=60, min_samples_split=2, n_estimators=100; total time=   4.2s\n",
      "[CV] END max_depth=60, min_samples_split=2, n_estimators=150; total time=   5.9s\n",
      "[CV] END max_depth=60, min_samples_split=2, n_estimators=150; total time=   7.0s\n",
      "[CV] END max_depth=60, min_samples_split=2, n_estimators=150; total time=   6.0s\n",
      "[CV] END .max_depth=60, min_samples_split=4, n_estimators=50; total time=   1.9s\n",
      "[CV] END .max_depth=60, min_samples_split=4, n_estimators=50; total time=   2.5s\n",
      "[CV] END .max_depth=60, min_samples_split=4, n_estimators=50; total time=   2.2s\n",
      "[CV] END max_depth=60, min_samples_split=4, n_estimators=100; total time=   3.8s\n",
      "[CV] END max_depth=60, min_samples_split=4, n_estimators=100; total time=   3.8s\n",
      "[CV] END max_depth=60, min_samples_split=4, n_estimators=100; total time=   4.5s\n",
      "[CV] END max_depth=60, min_samples_split=4, n_estimators=150; total time=   5.9s\n",
      "[CV] END max_depth=60, min_samples_split=4, n_estimators=150; total time=   5.8s\n",
      "[CV] END max_depth=60, min_samples_split=4, n_estimators=150; total time=   6.4s\n",
      "[CV] END .max_depth=60, min_samples_split=8, n_estimators=50; total time=   1.8s\n",
      "[CV] END .max_depth=60, min_samples_split=8, n_estimators=50; total time=   1.9s\n",
      "[CV] END .max_depth=60, min_samples_split=8, n_estimators=50; total time=   1.8s\n",
      "[CV] END max_depth=60, min_samples_split=8, n_estimators=100; total time=   4.2s\n",
      "[CV] END max_depth=60, min_samples_split=8, n_estimators=100; total time=   3.9s\n",
      "[CV] END max_depth=60, min_samples_split=8, n_estimators=100; total time=   3.6s\n",
      "[CV] END max_depth=60, min_samples_split=8, n_estimators=150; total time=   5.8s\n",
      "[CV] END max_depth=60, min_samples_split=8, n_estimators=150; total time=   5.9s\n",
      "[CV] END max_depth=60, min_samples_split=8, n_estimators=150; total time=   5.4s\n"
     ]
    },
    {
     "data": {
      "text/html": [
       "<style>#sk-container-id-1 {color: black;background-color: white;}#sk-container-id-1 pre{padding: 0;}#sk-container-id-1 div.sk-toggleable {background-color: white;}#sk-container-id-1 label.sk-toggleable__label {cursor: pointer;display: block;width: 100%;margin-bottom: 0;padding: 0.3em;box-sizing: border-box;text-align: center;}#sk-container-id-1 label.sk-toggleable__label-arrow:before {content: \"▸\";float: left;margin-right: 0.25em;color: #696969;}#sk-container-id-1 label.sk-toggleable__label-arrow:hover:before {color: black;}#sk-container-id-1 div.sk-estimator:hover label.sk-toggleable__label-arrow:before {color: black;}#sk-container-id-1 div.sk-toggleable__content {max-height: 0;max-width: 0;overflow: hidden;text-align: left;background-color: #f0f8ff;}#sk-container-id-1 div.sk-toggleable__content pre {margin: 0.2em;color: black;border-radius: 0.25em;background-color: #f0f8ff;}#sk-container-id-1 input.sk-toggleable__control:checked~div.sk-toggleable__content {max-height: 200px;max-width: 100%;overflow: auto;}#sk-container-id-1 input.sk-toggleable__control:checked~label.sk-toggleable__label-arrow:before {content: \"▾\";}#sk-container-id-1 div.sk-estimator input.sk-toggleable__control:checked~label.sk-toggleable__label {background-color: #d4ebff;}#sk-container-id-1 div.sk-label input.sk-toggleable__control:checked~label.sk-toggleable__label {background-color: #d4ebff;}#sk-container-id-1 input.sk-hidden--visually {border: 0;clip: rect(1px 1px 1px 1px);clip: rect(1px, 1px, 1px, 1px);height: 1px;margin: -1px;overflow: hidden;padding: 0;position: absolute;width: 1px;}#sk-container-id-1 div.sk-estimator {font-family: monospace;background-color: #f0f8ff;border: 1px dotted black;border-radius: 0.25em;box-sizing: border-box;margin-bottom: 0.5em;}#sk-container-id-1 div.sk-estimator:hover {background-color: #d4ebff;}#sk-container-id-1 div.sk-parallel-item::after {content: \"\";width: 100%;border-bottom: 1px solid gray;flex-grow: 1;}#sk-container-id-1 div.sk-label:hover label.sk-toggleable__label {background-color: #d4ebff;}#sk-container-id-1 div.sk-serial::before {content: \"\";position: absolute;border-left: 1px solid gray;box-sizing: border-box;top: 0;bottom: 0;left: 50%;z-index: 0;}#sk-container-id-1 div.sk-serial {display: flex;flex-direction: column;align-items: center;background-color: white;padding-right: 0.2em;padding-left: 0.2em;position: relative;}#sk-container-id-1 div.sk-item {position: relative;z-index: 1;}#sk-container-id-1 div.sk-parallel {display: flex;align-items: stretch;justify-content: center;background-color: white;position: relative;}#sk-container-id-1 div.sk-item::before, #sk-container-id-1 div.sk-parallel-item::before {content: \"\";position: absolute;border-left: 1px solid gray;box-sizing: border-box;top: 0;bottom: 0;left: 50%;z-index: -1;}#sk-container-id-1 div.sk-parallel-item {display: flex;flex-direction: column;z-index: 1;position: relative;background-color: white;}#sk-container-id-1 div.sk-parallel-item:first-child::after {align-self: flex-end;width: 50%;}#sk-container-id-1 div.sk-parallel-item:last-child::after {align-self: flex-start;width: 50%;}#sk-container-id-1 div.sk-parallel-item:only-child::after {width: 0;}#sk-container-id-1 div.sk-dashed-wrapped {border: 1px dashed gray;margin: 0 0.4em 0.5em 0.4em;box-sizing: border-box;padding-bottom: 0.4em;background-color: white;}#sk-container-id-1 div.sk-label label {font-family: monospace;font-weight: bold;display: inline-block;line-height: 1.2em;}#sk-container-id-1 div.sk-label-container {text-align: center;}#sk-container-id-1 div.sk-container {/* jupyter's `normalize.less` sets `[hidden] { display: none; }` but bootstrap.min.css set `[hidden] { display: none !important; }` so we also need the `!important` here to be able to override the default hidden behavior on the sphinx rendered scikit-learn.org. See: https://github.com/scikit-learn/scikit-learn/issues/21755 */display: inline-block !important;position: relative;}#sk-container-id-1 div.sk-text-repr-fallback {display: none;}</style><div id=\"sk-container-id-1\" class=\"sk-top-container\"><div class=\"sk-text-repr-fallback\"><pre>GridSearchCV(cv=3, estimator=RandomForestClassifier(random_state=8),\n",
       "             param_grid={&#x27;max_depth&#x27;: [40, 55, 60],\n",
       "                         &#x27;min_samples_split&#x27;: [2, 4, 8],\n",
       "                         &#x27;n_estimators&#x27;: [50, 100, 150]},\n",
       "             scoring=&#x27;accuracy&#x27;, verbose=2)</pre><b>In a Jupyter environment, please rerun this cell to show the HTML representation or trust the notebook. <br />On GitHub, the HTML representation is unable to render, please try loading this page with nbviewer.org.</b></div><div class=\"sk-container\" hidden><div class=\"sk-item sk-dashed-wrapped\"><div class=\"sk-label-container\"><div class=\"sk-label sk-toggleable\"><input class=\"sk-toggleable__control sk-hidden--visually\" id=\"sk-estimator-id-1\" type=\"checkbox\" ><label for=\"sk-estimator-id-1\" class=\"sk-toggleable__label sk-toggleable__label-arrow\">GridSearchCV</label><div class=\"sk-toggleable__content\"><pre>GridSearchCV(cv=3, estimator=RandomForestClassifier(random_state=8),\n",
       "             param_grid={&#x27;max_depth&#x27;: [40, 55, 60],\n",
       "                         &#x27;min_samples_split&#x27;: [2, 4, 8],\n",
       "                         &#x27;n_estimators&#x27;: [50, 100, 150]},\n",
       "             scoring=&#x27;accuracy&#x27;, verbose=2)</pre></div></div></div><div class=\"sk-parallel\"><div class=\"sk-parallel-item\"><div class=\"sk-item\"><div class=\"sk-label-container\"><div class=\"sk-label sk-toggleable\"><input class=\"sk-toggleable__control sk-hidden--visually\" id=\"sk-estimator-id-2\" type=\"checkbox\" ><label for=\"sk-estimator-id-2\" class=\"sk-toggleable__label sk-toggleable__label-arrow\">estimator: RandomForestClassifier</label><div class=\"sk-toggleable__content\"><pre>RandomForestClassifier(random_state=8)</pre></div></div></div><div class=\"sk-serial\"><div class=\"sk-item\"><div class=\"sk-estimator sk-toggleable\"><input class=\"sk-toggleable__control sk-hidden--visually\" id=\"sk-estimator-id-3\" type=\"checkbox\" ><label for=\"sk-estimator-id-3\" class=\"sk-toggleable__label sk-toggleable__label-arrow\">RandomForestClassifier</label><div class=\"sk-toggleable__content\"><pre>RandomForestClassifier(random_state=8)</pre></div></div></div></div></div></div></div></div></div></div>"
      ],
      "text/plain": [
       "GridSearchCV(cv=3, estimator=RandomForestClassifier(random_state=8),\n",
       "             param_grid={'max_depth': [40, 55, 60],\n",
       "                         'min_samples_split': [2, 4, 8],\n",
       "                         'n_estimators': [50, 100, 150]},\n",
       "             scoring='accuracy', verbose=2)"
      ]
     },
     "execution_count": 18,
     "metadata": {},
     "output_type": "execute_result"
    }
   ],
   "source": [
    "# GridSearch with 3 fold cross-validation\n",
    "grid_search_rf = GridSearchCV(RandomForestClassifier(random_state=8), hyperparams_grid, cv=3, verbose=2, scoring='accuracy')\n",
    "grid_search_rf.fit(X_train_tfidf, y_train)"
   ]
  },
  {
   "cell_type": "code",
   "execution_count": 19,
   "metadata": {
    "colab": {
     "base_uri": "https://localhost:8080/"
    },
    "id": "6z7SwrN4IOMV",
    "outputId": "5921d374-261d-425f-944a-6a0708f52f68"
   },
   "outputs": [
    {
     "data": {
      "text/plain": [
       "{'max_depth': 55, 'min_samples_split': 8, 'n_estimators': 150}"
      ]
     },
     "execution_count": 19,
     "metadata": {},
     "output_type": "execute_result"
    }
   ],
   "source": [
    "# Get the best set of hyperparameters\n",
    "best_params = grid_search_rf.best_params_\n",
    "best_params"
   ]
  },
  {
   "cell_type": "code",
   "execution_count": 20,
   "metadata": {
    "colab": {
     "base_uri": "https://localhost:8080/"
    },
    "id": "N2T0Uvg8S99t",
    "outputId": "099ed0d7-e2be-4a1e-ea1e-81bd7aeef58d"
   },
   "outputs": [
    {
     "data": {
      "text/plain": [
       "0.544696330148704"
      ]
     },
     "execution_count": 20,
     "metadata": {},
     "output_type": "execute_result"
    }
   ],
   "source": [
    "# Get the best validation score\n",
    "grid_search_rf.best_score_"
   ]
  },
  {
   "cell_type": "markdown",
   "metadata": {
    "id": "VNldb7rcIGap"
   },
   "source": [
    "__Assessment on test set__"
   ]
  },
  {
   "cell_type": "code",
   "execution_count": 21,
   "metadata": {
    "id": "me3-csSeIO1Y"
   },
   "outputs": [],
   "source": [
    "# Train Random Forest model with the best hyperparameter found \n",
    "rf_best = RandomForestClassifier(random_state=8, max_depth=best_params['max_depth'], min_samples_split=best_params['min_samples_split'], n_estimators=best_params['n_estimators']).fit(X_train_tfidf, y_train)"
   ]
  },
  {
   "cell_type": "code",
   "execution_count": 21,
   "metadata": {
    "id": "hbv0N-dTIO4g"
   },
   "outputs": [],
   "source": [
    "# Predict sentiment of testing set \n",
    "y_test_preds = rf_best.predict(X_test_tfidf)"
   ]
  },
  {
   "cell_type": "code",
   "execution_count": 22,
   "metadata": {
    "colab": {
     "base_uri": "https://localhost:8080/"
    },
    "id": "1e5vqEaPIO7L",
    "outputId": "51bfe938-0c9a-412b-985b-b5bb5c97198e"
   },
   "outputs": [
    {
     "data": {
      "text/plain": [
       "0.547245409015025"
      ]
     },
     "execution_count": 22,
     "metadata": {},
     "output_type": "execute_result"
    }
   ],
   "source": [
    "# Accuracy on testing set\n",
    "accuracy_score(y_test_preds, y_test)"
   ]
  },
  {
   "cell_type": "code",
   "execution_count": 23,
   "metadata": {},
   "outputs": [
    {
     "data": {
      "text/plain": [
       "<sklearn.metrics._plot.confusion_matrix.ConfusionMatrixDisplay at 0x7fcd050d9df0>"
      ]
     },
     "execution_count": 23,
     "metadata": {},
     "output_type": "execute_result"
    },
    {
     "data": {
      "image/png": "[encoded data removed]",
      "text/plain": [
       "<Figure size 640x480 with 2 Axes>"
      ]
     },
     "metadata": {},
     "output_type": "display_data"
    }
   ],
   "source": [
    "# Confusion matrix on testing set\n",
    "ConfusionMatrixDisplay.from_predictions(y_test, y_test_preds, normalize = 'true')"
   ]
  },
  {
   "cell_type": "markdown",
   "metadata": {
    "id": "tl8Vwoy9uV1m"
   },
   "source": [
    "### 5.2 LTSM"
   ]
  },
  {
   "cell_type": "markdown",
   "metadata": {
    "id": "qzjwMA8JK65g"
   },
   "source": [
    "__Split training set into another training set and validation set__"
   ]
  },
  {
   "cell_type": "code",
   "execution_count": 26,
   "metadata": {
    "id": "KJlbMAu8ZQTG"
   },
   "outputs": [],
   "source": [
    "X_train_2, X_val, y_train_2, y_val = train_test_split(X_train, y_train, random_state=42, stratify = y_train)"
   ]
  },
  {
   "cell_type": "markdown",
   "metadata": {
    "id": "Dwymy2e_psXO"
   },
   "source": [
    "__Vectorization__"
   ]
  },
  {
   "cell_type": "code",
   "execution_count": 27,
   "metadata": {
    "colab": {
     "base_uri": "https://localhost:8080/"
    },
    "id": "uumF0TgiVbsD",
    "outputId": "d4cba64a-0486-4353-bf08-402329e42c38"
   },
   "outputs": [
    {
     "data": {
      "text/plain": [
       "29711"
      ]
     },
     "execution_count": 27,
     "metadata": {},
     "output_type": "execute_result"
    }
   ],
   "source": [
    "# Calculate the length of our vocabulary\n",
    "word_tokenizer = Tokenizer()\n",
    "\n",
    "# Create a dict of word and index from the list of sentences. Required before texts_to_sequences\n",
    "word_tokenizer.fit_on_texts(X_train_2)\n",
    "\n",
    "vocab_length = len(word_tokenizer.word_index) + 1\n",
    "vocab_length"
   ]
  },
  {
   "cell_type": "code",
   "execution_count": 28,
   "metadata": {
    "id": "WfDNNjvMVbzT"
   },
   "outputs": [],
   "source": [
    "# Pad sequences\n",
    "longest_train_lyrics = max(X_train_2, key=lambda sentence: len(word_tokenize(sentence)))\n",
    "length_long_sentence = len(word_tokenize(longest_train_lyrics))\n",
    "\n",
    "# texts_to_sequences: Transforms each text in texts to a sequence of integers (integers = index of word by fit_on_texts)\n",
    "padded_train_lyrics = pad_sequences(\n",
    "    word_tokenizer.texts_to_sequences(X_train_2),\n",
    "    length_long_sentence, \n",
    "    padding='post'\n",
    ")\n",
    "\n",
    "padded_val_lyrics = pad_sequences(\n",
    "    word_tokenizer.texts_to_sequences(X_val),\n",
    "    length_long_sentence, \n",
    "    padding='post'\n",
    ")\n",
    "\n",
    "padded_test_lyrics = pad_sequences(\n",
    "    word_tokenizer.texts_to_sequences(X_test),\n",
    "    length_long_sentence, \n",
    "    padding='post'\n",
    ")"
   ]
  },
  {
   "cell_type": "markdown",
   "metadata": {
    "id": "j06Wo7TTNsAm"
   },
   "source": [
    "__RandomSearch Hyperparameter Tuning__"
   ]
  },
  {
   "cell_type": "code",
   "execution_count": 40,
   "metadata": {
    "id": "eafJAMsiTCch"
   },
   "outputs": [],
   "source": [
    "# convert a vector of probabilities to a label (i.e [0.1, 0.4, 0.5] is converted to label 2 because label 2 has the highest prob)\n",
    "def convert_probs_to_labels(prediction):\n",
    "    prediction2 = []\n",
    "    for i in prediction:\n",
    "        max_value = max(i)\n",
    "        prediction2.append(list(i).index(max_value))\n",
    "\n",
    "    return prediction2"
   ]
  },
  {
   "cell_type": "code",
   "execution_count": 18,
   "metadata": {
    "id": "wmJZystdgNWa"
   },
   "outputs": [],
   "source": [
    "# Create class that is used to tune hyperparameter\n",
    "class MyHyperModel(kt.HyperModel):\n",
    "    def build(self, hp):\n",
    "      with tf.device(device_name):\n",
    "        model = Sequential()\n",
    "        # embedding\n",
    "        hp_vector_size = hp.Int('vector_size', \n",
    "                                min_value=100, \n",
    "                                max_value=200, \n",
    "                                step=50)\n",
    "        model.add(\n",
    "            Embedding(input_dim=vocab_length,\n",
    "                      output_dim=hp_vector_size,\n",
    "                      input_length=length_long_sentence))\n",
    "\n",
    "        # first lstm\n",
    "        hp_lstm_units1 = hp.Int('lstm_units1', \n",
    "                                min_value=32, \n",
    "                                max_value=128, \n",
    "                                step=32)\n",
    "        model.add(LSTM(hp_lstm_units1, return_sequences=True, kernel_initializer=\"glorot_uniform\"))\n",
    "\n",
    "        # drop out\n",
    "        hp_dropout_rate = hp.Float('dropout_rate', \n",
    "                                  min_value=0.0, \n",
    "                                  max_value=0.4, \n",
    "                                  step=0.1)\n",
    "        model.add(Dropout(hp_dropout_rate))\n",
    "\n",
    "        # second lstm\n",
    "        hp_lstm_units2 = hp.Int('lstm_units2', \n",
    "                                min_value=32, \n",
    "                                max_value=128, \n",
    "                                step=32)\n",
    "        model.add(LSTM(hp_lstm_units2, kernel_regularizer=regularizers.l2(0.01), kernel_initializer=\"glorot_uniform\"))\n",
    "\n",
    "        # dense layer\n",
    "        model.add(Dense(3,activation='softmax'))\n",
    "        \n",
    "        # compile\n",
    "        hp_learning_rate = hp.Choice('learning_rate', \n",
    "                                    values=[1e-3, 1e-4])\n",
    "        model.compile(optimizer=Adam(learning_rate=hp_learning_rate),\n",
    "                      loss='sparse_categorical_crossentropy',\n",
    "                      metrics=['accuracy'])\n",
    "        return model\n",
    "\n",
    "    # tune batch-size\n",
    "    def fit(self, hp, model, *args, **kwargs):\n",
    "        return model.fit(\n",
    "            *args,\n",
    "            batch_size=hp.Choice(\"batch_size\", [256, 512]),\n",
    "            **kwargs,\n",
    "        )"
   ]
  },
  {
   "cell_type": "code",
   "execution_count": 20,
   "metadata": {
    "id": "wysHhasjgPdV"
   },
   "outputs": [],
   "source": [
    "# Random search the best hyperparameters 20 times to get highest val_accuracy\n",
    "tuner = kt.RandomSearch(\n",
    "    MyHyperModel(),\n",
    "    objective=kt.Objective(\"val_accuracy\", direction=\"max\"),\n",
    "    max_trials=20,\n",
    "    # overwrite=True,\n",
    "    project_name=\"tune_hypermodel\",\n",
    "    seed=42\n",
    ")"
   ]
  },
  {
   "cell_type": "code",
   "execution_count": 21,
   "metadata": {
    "colab": {
     "base_uri": "https://localhost:8080/"
    },
    "id": "CxoOXOyYgTkt",
    "outputId": "b054f2d9-f1d2-45ad-f250-e88a6748c752"
   },
   "outputs": [
    {
     "name": "stdout",
     "output_type": "stream",
     "text": [
      "Trial 20 Complete [00h 03m 26s]\n",
      "val_accuracy: 0.5458592772483826\n",
      "\n",
      "Best val_accuracy So Far: 0.5463045239448547\n",
      "Total elapsed time: 00h 31m 26s\n"
     ]
    }
   ],
   "source": [
    "# Random search \n",
    "tuner.search(padded_train_lyrics, \n",
    "             y_train_2, \n",
    "             verbose = 2,\n",
    "             epochs=40,\n",
    "             validation_data=(padded_val_lyrics, y_val)\n",
    "            #  callbacks=[stop_early]       \n",
    "             )\n",
    "\n",
    "# Get the optimal hyperparameters\n",
    "best_hps=tuner.get_best_hyperparameters(num_trials=1)[0]"
   ]
  },
  {
   "cell_type": "code",
   "execution_count": 22,
   "metadata": {
    "colab": {
     "base_uri": "https://localhost:8080/"
    },
    "id": "dzUs9GpDyDST",
    "outputId": "2460e3f3-62ac-4317-9e2c-f7739a803d71"
   },
   "outputs": [
    {
     "name": "stdout",
     "output_type": "stream",
     "text": [
      "150\n",
      "128\n",
      "0.0\n",
      "128\n",
      "0.001\n",
      "512\n"
     ]
    }
   ],
   "source": [
    "# Best hyperparameters \n",
    "print(best_hps.get('vector_size'))\n",
    "print(best_hps.get('lstm_units1'))\n",
    "print(best_hps.get('dropout_rate'))\n",
    "print(best_hps.get('lstm_units2'))\n",
    "print(best_hps.get('learning_rate'))\n",
    "print(best_hps.get('batch_size'))"
   ]
  },
  {
   "cell_type": "code",
   "execution_count": 24,
   "metadata": {
    "colab": {
     "base_uri": "https://localhost:8080/"
    },
    "id": "IA-K7jxWjP7x",
    "outputId": "a7fc7e57-ed27-4e6a-badb-68d5111135d1"
   },
   "outputs": [
    {
     "name": "stdout",
     "output_type": "stream",
     "text": [
      "Epoch 1/100\n",
      "14/14 [==============================] - 8s 293ms/step - loss: 2.7105 - accuracy: 0.5274 - val_loss: 2.2885 - val_accuracy: 0.5459\n",
      "Epoch 2/100\n",
      "14/14 [==============================] - 4s 261ms/step - loss: 2.0416 - accuracy: 0.5456 - val_loss: 1.7661 - val_accuracy: 0.5459\n",
      "Epoch 3/100\n",
      "14/14 [==============================] - 3s 217ms/step - loss: 1.6076 - accuracy: 0.5456 - val_loss: 1.4328 - val_accuracy: 0.5459\n",
      "Epoch 4/100\n",
      "14/14 [==============================] - 3s 217ms/step - loss: 1.3347 - accuracy: 0.5456 - val_loss: 1.2268 - val_accuracy: 0.5459\n",
      "Epoch 5/100\n",
      "14/14 [==============================] - 3s 222ms/step - loss: 1.1667 - accuracy: 0.5456 - val_loss: 1.1027 - val_accuracy: 0.5459\n",
      "Epoch 6/100\n",
      "14/14 [==============================] - 4s 263ms/step - loss: 1.0694 - accuracy: 0.5456 - val_loss: 1.0335 - val_accuracy: 0.5459\n",
      "Epoch 7/100\n",
      "14/14 [==============================] - 3s 201ms/step - loss: 1.0170 - accuracy: 0.5456 - val_loss: 0.9966 - val_accuracy: 0.5459\n",
      "Epoch 8/100\n",
      "14/14 [==============================] - 3s 204ms/step - loss: 0.9866 - accuracy: 0.5456 - val_loss: 0.9771 - val_accuracy: 0.5459\n",
      "Epoch 9/100\n",
      "14/14 [==============================] - 3s 194ms/step - loss: 0.9716 - accuracy: 0.5456 - val_loss: 0.9724 - val_accuracy: 0.5459\n",
      "Epoch 10/100\n",
      "14/14 [==============================] - 4s 276ms/step - loss: 0.9650 - accuracy: 0.5456 - val_loss: 0.9603 - val_accuracy: 0.5459\n",
      "Epoch 11/100\n",
      "14/14 [==============================] - 3s 225ms/step - loss: 0.9616 - accuracy: 0.5456 - val_loss: 0.9573 - val_accuracy: 0.5459\n",
      "Epoch 12/100\n",
      "14/14 [==============================] - 3s 213ms/step - loss: 0.9592 - accuracy: 0.5456 - val_loss: 0.9578 - val_accuracy: 0.5459\n",
      "Epoch 13/100\n",
      "14/14 [==============================] - 3s 221ms/step - loss: 0.9563 - accuracy: 0.5456 - val_loss: 0.9551 - val_accuracy: 0.5459\n",
      "Epoch 14/100\n",
      "14/14 [==============================] - 3s 218ms/step - loss: 0.9568 - accuracy: 0.5456 - val_loss: 0.9572 - val_accuracy: 0.5459\n",
      "Epoch 15/100\n",
      "14/14 [==============================] - 4s 268ms/step - loss: 0.9551 - accuracy: 0.5456 - val_loss: 0.9546 - val_accuracy: 0.5459\n",
      "Epoch 16/100\n",
      "14/14 [==============================] - 3s 212ms/step - loss: 0.9552 - accuracy: 0.5456 - val_loss: 0.9547 - val_accuracy: 0.5459\n",
      "Epoch 17/100\n",
      "14/14 [==============================] - 3s 199ms/step - loss: 0.9548 - accuracy: 0.5456 - val_loss: 0.9544 - val_accuracy: 0.5459\n",
      "Epoch 18/100\n",
      "14/14 [==============================] - 3s 213ms/step - loss: 0.9543 - accuracy: 0.5456 - val_loss: 0.9541 - val_accuracy: 0.5459\n",
      "Epoch 19/100\n",
      "14/14 [==============================] - 4s 271ms/step - loss: 0.9545 - accuracy: 0.5456 - val_loss: 0.9544 - val_accuracy: 0.5459\n",
      "Epoch 20/100\n",
      "14/14 [==============================] - 3s 179ms/step - loss: 0.9539 - accuracy: 0.5456 - val_loss: 0.9543 - val_accuracy: 0.5459\n",
      "Epoch 21/100\n",
      "14/14 [==============================] - 3s 198ms/step - loss: 0.9545 - accuracy: 0.5456 - val_loss: 0.9538 - val_accuracy: 0.5459\n",
      "Epoch 22/100\n",
      "14/14 [==============================] - 3s 194ms/step - loss: 0.9542 - accuracy: 0.5456 - val_loss: 0.9555 - val_accuracy: 0.5459\n",
      "Epoch 23/100\n",
      "14/14 [==============================] - 3s 242ms/step - loss: 0.9552 - accuracy: 0.5456 - val_loss: 0.9560 - val_accuracy: 0.5459\n",
      "Epoch 24/100\n",
      "14/14 [==============================] - 3s 216ms/step - loss: 0.9547 - accuracy: 0.5456 - val_loss: 0.9538 - val_accuracy: 0.5459\n",
      "Epoch 25/100\n",
      "14/14 [==============================] - 2s 149ms/step - loss: 0.9548 - accuracy: 0.5456 - val_loss: 0.9547 - val_accuracy: 0.5459\n",
      "Epoch 26/100\n",
      "14/14 [==============================] - 2s 178ms/step - loss: 0.9547 - accuracy: 0.5456 - val_loss: 0.9541 - val_accuracy: 0.5459\n",
      "Epoch 27/100\n",
      "14/14 [==============================] - 2s 169ms/step - loss: 0.9542 - accuracy: 0.5456 - val_loss: 0.9539 - val_accuracy: 0.5459\n",
      "Epoch 28/100\n",
      "14/14 [==============================] - 3s 234ms/step - loss: 0.9545 - accuracy: 0.5456 - val_loss: 0.9542 - val_accuracy: 0.5459\n",
      "Epoch 29/100\n",
      "14/14 [==============================] - 4s 285ms/step - loss: 0.9567 - accuracy: 0.5456 - val_loss: 0.9585 - val_accuracy: 0.5459\n",
      "Epoch 30/100\n",
      "14/14 [==============================] - 3s 192ms/step - loss: 0.9552 - accuracy: 0.5456 - val_loss: 0.9543 - val_accuracy: 0.5459\n",
      "Epoch 31/100\n",
      "14/14 [==============================] - 2s 185ms/step - loss: 0.9540 - accuracy: 0.5456 - val_loss: 0.9539 - val_accuracy: 0.5459\n",
      "Epoch 32/100\n",
      "14/14 [==============================] - 3s 188ms/step - loss: 0.9546 - accuracy: 0.5456 - val_loss: 0.9546 - val_accuracy: 0.5459\n",
      "Epoch 33/100\n",
      "14/14 [==============================] - 4s 267ms/step - loss: 0.9542 - accuracy: 0.5456 - val_loss: 0.9538 - val_accuracy: 0.5459\n",
      "Epoch 34/100\n",
      "14/14 [==============================] - 3s 238ms/step - loss: 0.9541 - accuracy: 0.5456 - val_loss: 0.9537 - val_accuracy: 0.5459\n",
      "Epoch 35/100\n",
      "14/14 [==============================] - 2s 183ms/step - loss: 0.9541 - accuracy: 0.5456 - val_loss: 0.9540 - val_accuracy: 0.5459\n",
      "Epoch 36/100\n",
      "14/14 [==============================] - 2s 145ms/step - loss: 0.9544 - accuracy: 0.5456 - val_loss: 0.9538 - val_accuracy: 0.5459\n",
      "Epoch 37/100\n",
      "14/14 [==============================] - 2s 171ms/step - loss: 0.9539 - accuracy: 0.5456 - val_loss: 0.9537 - val_accuracy: 0.5459\n",
      "Epoch 38/100\n",
      "14/14 [==============================] - 3s 240ms/step - loss: 0.9539 - accuracy: 0.5456 - val_loss: 0.9544 - val_accuracy: 0.5459\n",
      "Epoch 39/100\n",
      "14/14 [==============================] - 3s 237ms/step - loss: 0.9546 - accuracy: 0.5456 - val_loss: 0.9539 - val_accuracy: 0.5459\n",
      "Epoch 40/100\n",
      "14/14 [==============================] - 3s 186ms/step - loss: 0.9548 - accuracy: 0.5456 - val_loss: 0.9552 - val_accuracy: 0.5459\n",
      "Epoch 41/100\n",
      "14/14 [==============================] - 2s 173ms/step - loss: 0.9542 - accuracy: 0.5456 - val_loss: 0.9541 - val_accuracy: 0.5459\n",
      "Epoch 42/100\n",
      "14/14 [==============================] - 2s 155ms/step - loss: 0.9539 - accuracy: 0.5456 - val_loss: 0.9539 - val_accuracy: 0.5459\n",
      "Epoch 43/100\n",
      "14/14 [==============================] - 2s 162ms/step - loss: 0.9544 - accuracy: 0.5456 - val_loss: 0.9544 - val_accuracy: 0.5459\n",
      "Epoch 44/100\n",
      "14/14 [==============================] - 3s 186ms/step - loss: 0.9557 - accuracy: 0.5456 - val_loss: 0.9539 - val_accuracy: 0.5459\n",
      "Epoch 45/100\n",
      "14/14 [==============================] - 2s 155ms/step - loss: 0.9540 - accuracy: 0.5456 - val_loss: 0.9539 - val_accuracy: 0.5459\n",
      "Epoch 46/100\n",
      "14/14 [==============================] - 2s 137ms/step - loss: 0.9543 - accuracy: 0.5456 - val_loss: 0.9537 - val_accuracy: 0.5459\n",
      "Epoch 47/100\n",
      "14/14 [==============================] - 2s 167ms/step - loss: 0.9546 - accuracy: 0.5456 - val_loss: 0.9539 - val_accuracy: 0.5459\n",
      "Epoch 48/100\n",
      "14/14 [==============================] - 2s 161ms/step - loss: 0.9539 - accuracy: 0.5456 - val_loss: 0.9541 - val_accuracy: 0.5459\n",
      "Epoch 49/100\n",
      "14/14 [==============================] - 3s 261ms/step - loss: 0.9540 - accuracy: 0.5456 - val_loss: 0.9539 - val_accuracy: 0.5459\n",
      "Epoch 50/100\n",
      "14/14 [==============================] - 3s 191ms/step - loss: 0.9544 - accuracy: 0.5456 - val_loss: 0.9538 - val_accuracy: 0.5459\n",
      "Epoch 51/100\n",
      "14/14 [==============================] - 2s 172ms/step - loss: 0.9540 - accuracy: 0.5456 - val_loss: 0.9543 - val_accuracy: 0.5459\n",
      "Epoch 52/100\n",
      "14/14 [==============================] - 2s 170ms/step - loss: 0.9544 - accuracy: 0.5456 - val_loss: 0.9541 - val_accuracy: 0.5459\n",
      "Epoch 53/100\n",
      "14/14 [==============================] - 2s 185ms/step - loss: 0.9537 - accuracy: 0.5456 - val_loss: 0.9568 - val_accuracy: 0.5459\n",
      "Epoch 54/100\n",
      "14/14 [==============================] - 3s 226ms/step - loss: 0.9549 - accuracy: 0.5456 - val_loss: 0.9543 - val_accuracy: 0.5459\n",
      "Epoch 55/100\n",
      "14/14 [==============================] - 3s 204ms/step - loss: 0.9550 - accuracy: 0.5456 - val_loss: 0.9545 - val_accuracy: 0.5459\n",
      "Epoch 56/100\n",
      "14/14 [==============================] - 2s 158ms/step - loss: 0.9538 - accuracy: 0.5456 - val_loss: 0.9539 - val_accuracy: 0.5459\n",
      "Epoch 57/100\n",
      "14/14 [==============================] - 2s 128ms/step - loss: 0.9539 - accuracy: 0.5456 - val_loss: 0.9538 - val_accuracy: 0.5459\n",
      "Epoch 58/100\n",
      "14/14 [==============================] - 2s 160ms/step - loss: 0.9539 - accuracy: 0.5456 - val_loss: 0.9539 - val_accuracy: 0.5459\n",
      "Epoch 59/100\n",
      "14/14 [==============================] - 2s 150ms/step - loss: 0.9547 - accuracy: 0.5456 - val_loss: 0.9540 - val_accuracy: 0.5459\n",
      "Epoch 60/100\n",
      "14/14 [==============================] - 2s 160ms/step - loss: 0.9541 - accuracy: 0.5456 - val_loss: 0.9537 - val_accuracy: 0.5459\n",
      "Epoch 61/100\n",
      "14/14 [==============================] - 3s 216ms/step - loss: 0.9541 - accuracy: 0.5456 - val_loss: 0.9537 - val_accuracy: 0.5459\n",
      "Epoch 62/100\n",
      "14/14 [==============================] - 2s 144ms/step - loss: 0.9538 - accuracy: 0.5456 - val_loss: 0.9536 - val_accuracy: 0.5459\n",
      "Epoch 63/100\n",
      "14/14 [==============================] - 2s 166ms/step - loss: 0.9537 - accuracy: 0.5456 - val_loss: 0.9538 - val_accuracy: 0.5459\n",
      "Epoch 64/100\n",
      "14/14 [==============================] - 2s 144ms/step - loss: 0.9546 - accuracy: 0.5456 - val_loss: 0.9538 - val_accuracy: 0.5459\n",
      "Epoch 65/100\n",
      "14/14 [==============================] - 2s 163ms/step - loss: 0.9539 - accuracy: 0.5456 - val_loss: 0.9536 - val_accuracy: 0.5459\n",
      "Epoch 66/100\n",
      "14/14 [==============================] - 4s 264ms/step - loss: 0.9540 - accuracy: 0.5456 - val_loss: 0.9538 - val_accuracy: 0.5459\n",
      "Epoch 67/100\n",
      "14/14 [==============================] - 2s 137ms/step - loss: 0.9540 - accuracy: 0.5456 - val_loss: 0.9541 - val_accuracy: 0.5459\n",
      "Epoch 68/100\n",
      "14/14 [==============================] - 2s 139ms/step - loss: 0.9541 - accuracy: 0.5456 - val_loss: 0.9541 - val_accuracy: 0.5459\n",
      "Epoch 69/100\n",
      "14/14 [==============================] - 2s 130ms/step - loss: 0.9540 - accuracy: 0.5456 - val_loss: 0.9537 - val_accuracy: 0.5459\n",
      "Epoch 70/100\n",
      "14/14 [==============================] - 2s 168ms/step - loss: 0.9545 - accuracy: 0.5456 - val_loss: 0.9540 - val_accuracy: 0.5459\n",
      "Epoch 71/100\n",
      "14/14 [==============================] - 2s 147ms/step - loss: 0.9537 - accuracy: 0.5456 - val_loss: 0.9539 - val_accuracy: 0.5459\n",
      "Epoch 72/100\n",
      "14/14 [==============================] - 2s 168ms/step - loss: 0.9543 - accuracy: 0.5456 - val_loss: 0.9540 - val_accuracy: 0.5459\n",
      "Epoch 73/100\n",
      "14/14 [==============================] - 2s 180ms/step - loss: 0.9544 - accuracy: 0.5456 - val_loss: 0.9538 - val_accuracy: 0.5459\n",
      "Epoch 74/100\n",
      "14/14 [==============================] - 2s 137ms/step - loss: 0.9537 - accuracy: 0.5456 - val_loss: 0.9537 - val_accuracy: 0.5459\n",
      "Epoch 75/100\n",
      "14/14 [==============================] - 2s 144ms/step - loss: 0.9539 - accuracy: 0.5456 - val_loss: 0.9537 - val_accuracy: 0.5459\n",
      "Epoch 76/100\n",
      "14/14 [==============================] - 2s 145ms/step - loss: 0.9539 - accuracy: 0.5456 - val_loss: 0.9537 - val_accuracy: 0.5459\n",
      "Epoch 77/100\n",
      "14/14 [==============================] - 2s 143ms/step - loss: 0.9540 - accuracy: 0.5456 - val_loss: 0.9537 - val_accuracy: 0.5459\n",
      "Epoch 78/100\n",
      "14/14 [==============================] - 2s 161ms/step - loss: 0.9537 - accuracy: 0.5456 - val_loss: 0.9537 - val_accuracy: 0.5459\n",
      "Epoch 79/100\n",
      "14/14 [==============================] - 3s 191ms/step - loss: 0.9539 - accuracy: 0.5456 - val_loss: 0.9537 - val_accuracy: 0.5459\n",
      "Epoch 80/100\n",
      "14/14 [==============================] - 2s 163ms/step - loss: 0.9539 - accuracy: 0.5456 - val_loss: 0.9537 - val_accuracy: 0.5459\n",
      "Epoch 81/100\n",
      "14/14 [==============================] - 2s 126ms/step - loss: 0.9538 - accuracy: 0.5456 - val_loss: 0.9537 - val_accuracy: 0.5459\n",
      "Epoch 82/100\n",
      "14/14 [==============================] - 2s 133ms/step - loss: 0.9538 - accuracy: 0.5456 - val_loss: 0.9538 - val_accuracy: 0.5459\n",
      "Epoch 83/100\n",
      "14/14 [==============================] - 2s 124ms/step - loss: 1.0171 - accuracy: 0.5402 - val_loss: 1.0045 - val_accuracy: 0.5459\n",
      "Epoch 84/100\n",
      "14/14 [==============================] - 2s 128ms/step - loss: 1.0190 - accuracy: 0.5456 - val_loss: 1.0292 - val_accuracy: 0.5459\n",
      "Epoch 85/100\n",
      "14/14 [==============================] - 2s 149ms/step - loss: 1.0228 - accuracy: 0.5456 - val_loss: 1.0141 - val_accuracy: 0.5459\n",
      "Epoch 86/100\n",
      "14/14 [==============================] - 3s 223ms/step - loss: 1.0097 - accuracy: 0.5461 - val_loss: 1.0051 - val_accuracy: 0.5454\n",
      "Epoch 87/100\n",
      "14/14 [==============================] - 2s 121ms/step - loss: 0.9984 - accuracy: 0.5461 - val_loss: 0.9959 - val_accuracy: 0.5459\n",
      "Epoch 88/100\n",
      "14/14 [==============================] - 2s 117ms/step - loss: 0.9920 - accuracy: 0.5456 - val_loss: 0.9876 - val_accuracy: 0.5459\n",
      "Epoch 89/100\n",
      "14/14 [==============================] - 2s 128ms/step - loss: 0.9852 - accuracy: 0.5456 - val_loss: 0.9820 - val_accuracy: 0.5459\n",
      "Epoch 90/100\n",
      "14/14 [==============================] - 2s 158ms/step - loss: 0.9805 - accuracy: 0.5456 - val_loss: 0.9784 - val_accuracy: 0.5459\n",
      "Epoch 91/100\n",
      "14/14 [==============================] - 2s 144ms/step - loss: 0.9777 - accuracy: 0.5456 - val_loss: 0.9770 - val_accuracy: 0.5459\n",
      "Epoch 92/100\n",
      "14/14 [==============================] - 2s 154ms/step - loss: 0.9759 - accuracy: 0.5456 - val_loss: 0.9734 - val_accuracy: 0.5459\n",
      "Epoch 93/100\n",
      "14/14 [==============================] - 2s 152ms/step - loss: 0.9724 - accuracy: 0.5456 - val_loss: 0.9708 - val_accuracy: 0.5459\n",
      "Epoch 94/100\n",
      "14/14 [==============================] - 2s 136ms/step - loss: 0.9699 - accuracy: 0.5456 - val_loss: 0.9692 - val_accuracy: 0.5459\n",
      "Epoch 95/100\n",
      "14/14 [==============================] - 2s 172ms/step - loss: 0.9694 - accuracy: 0.5456 - val_loss: 0.9678 - val_accuracy: 0.5459\n",
      "Epoch 96/100\n",
      "14/14 [==============================] - 2s 138ms/step - loss: 0.9671 - accuracy: 0.5456 - val_loss: 0.9662 - val_accuracy: 0.5459\n",
      "Epoch 97/100\n",
      "14/14 [==============================] - 2s 143ms/step - loss: 0.9660 - accuracy: 0.5456 - val_loss: 0.9650 - val_accuracy: 0.5459\n",
      "Epoch 98/100\n",
      "14/14 [==============================] - 2s 140ms/step - loss: 0.9645 - accuracy: 0.5456 - val_loss: 0.9638 - val_accuracy: 0.5459\n",
      "Epoch 99/100\n",
      "14/14 [==============================] - 3s 166ms/step - loss: 0.9635 - accuracy: 0.5456 - val_loss: 0.9629 - val_accuracy: 0.5459\n",
      "Epoch 100/100\n",
      "14/14 [==============================] - 2s 169ms/step - loss: 0.9629 - accuracy: 0.5456 - val_loss: 0.9621 - val_accuracy: 0.5459\n"
     ]
    }
   ],
   "source": [
    "# Train a new LSTM model with the best hyperparaters\n",
    "model_best = tuner.hypermodel.build(best_hps)\n",
    "history = model_best.fit(padded_train_lyrics, y_train_2, epochs=100, batch_size=best_hps.get('batch_size'), validation_data=(padded_val_lyrics, y_val))"
   ]
  },
  {
   "cell_type": "code",
   "execution_count": 25,
   "metadata": {
    "colab": {
     "base_uri": "https://localhost:8080/"
    },
    "id": "PGaZtLCypo8H",
    "outputId": "2973afc2-d6a7-4c34-e7e1-a36839f21288"
   },
   "outputs": [
    {
     "name": "stdout",
     "output_type": "stream",
     "text": [
      "Best epoch: 1\n"
     ]
    }
   ],
   "source": [
    "# Find the optimal epoch to get the highest val_accuracy\n",
    "val_acc_per_epoch = history.history['val_accuracy']\n",
    "best_epoch = val_acc_per_epoch.index(max(val_acc_per_epoch)) + 1\n",
    "print('Best epoch: %d' % (best_epoch,))"
   ]
  },
  {
   "cell_type": "code",
   "execution_count": 26,
   "metadata": {
    "colab": {
     "base_uri": "https://localhost:8080/"
    },
    "id": "2Fd22W9vp2hu",
    "outputId": "78c23270-fbde-4ec4-c32c-0265ad8dcc5c"
   },
   "outputs": [
    {
     "name": "stdout",
     "output_type": "stream",
     "text": [
      "14/14 [==============================] - 6s 191ms/step - loss: 2.6988 - accuracy: 0.5301\n"
     ]
    },
    {
     "data": {
      "text/plain": [
       "<keras.callbacks.History at 0x7f5e8994a7d0>"
      ]
     },
     "execution_count": 26,
     "metadata": {},
     "output_type": "execute_result"
    }
   ],
   "source": [
    "# Train a new LSTM model with the optimal epoch\n",
    "model_best_epoch = tuner.hypermodel.build(best_hps)\n",
    "model_best_epoch.fit(padded_train_lyrics, y_train_2, epochs=best_epoch, batch_size=best_hps.get('batch_size'))"
   ]
  },
  {
   "cell_type": "code",
   "execution_count": 27,
   "metadata": {
    "colab": {
     "base_uri": "https://localhost:8080/"
    },
    "id": "jt3pdSMQkHQS",
    "outputId": "e4b5e13a-22fe-4518-a48f-1a415793b254"
   },
   "outputs": [
    {
     "name": "stdout",
     "output_type": "stream",
     "text": [
      "94/94 [==============================] - 2s 10ms/step - loss: 2.2727 - accuracy: 0.5459\n"
     ]
    },
    {
     "data": {
      "text/plain": [
       "[2.27274751663208, 0.5459098219871521]"
      ]
     },
     "execution_count": 27,
     "metadata": {},
     "output_type": "execute_result"
    }
   ],
   "source": [
    "# Accuracy on testing set\n",
    "accuracy_best_epoch = model_best_epoch.evaluate(padded_test_lyrics, y_test)\n",
    "accuracy_best_epoch"
   ]
  },
  {
   "cell_type": "markdown",
   "metadata": {
    "id": "KKLXrbkBwbdB"
   },
   "source": [
    "__Glove embedding__\n",
    "\n",
    "glove.6B.100d.txt can be downloaded here: https://drive.google.com/file/d/10Vo74kbAj-xXWEg00o184OIu5tj4LtwH/view?usp=share_link"
   ]
  },
  {
   "cell_type": "code",
   "execution_count": 29,
   "metadata": {
    "id": "7r9Th4jOuopE"
   },
   "outputs": [],
   "source": [
    "embeddings_dictionary = dict()\n",
    "embedding_dim = 100\n",
    "\n",
    "# Load GloVe 100D embeddings\n",
    "with open('../data/glove.6B.100d.txt', encoding='utf-8') as fp:\n",
    "    for line in fp.readlines():\n",
    "        records = line.split()\n",
    "        word = records[0]\n",
    "        vector_dimensions = np.asarray(records[1:], dtype='float32')\n",
    "        embeddings_dictionary [word] = vector_dimensions"
   ]
  },
  {
   "cell_type": "code",
   "execution_count": 30,
   "metadata": {
    "colab": {
     "base_uri": "https://localhost:8080/"
    },
    "id": "mHTo21PxupXb",
    "outputId": "1a85c9e6-987c-4598-f5d1-b52e67a06e38"
   },
   "outputs": [
    {
     "data": {
      "text/plain": [
       "array([[ 0.        ,  0.        ,  0.        , ...,  0.        ,\n",
       "         0.        ,  0.        ],\n",
       "       [-0.2687    ,  0.81708002,  0.69896001, ..., -0.40110001,\n",
       "         0.74656999,  0.31121999],\n",
       "       [ 0.19073001,  0.56863999,  0.72026998, ..., -0.33460999,\n",
       "         0.044349  ,  0.57541001],\n",
       "       ...,\n",
       "       [ 0.        ,  0.        ,  0.        , ...,  0.        ,\n",
       "         0.        ,  0.        ],\n",
       "       [ 0.41383001, -0.063647  ,  0.34494001, ..., -0.20672999,\n",
       "         0.22294   , -0.56507999],\n",
       "       [ 0.        ,  0.        ,  0.        , ...,  0.        ,\n",
       "         0.        ,  0.        ]])"
      ]
     },
     "execution_count": 30,
     "metadata": {},
     "output_type": "execute_result"
    }
   ],
   "source": [
    "# Create a Glove word embedding\n",
    "embedding_matrix = np.zeros((vocab_length, embedding_dim))\n",
    "\n",
    "for word, index in word_tokenizer.word_index.items():\n",
    "    embedding_vector = embeddings_dictionary.get(word)\n",
    "    if embedding_vector is not None:\n",
    "        embedding_matrix[index] = embedding_vector\n",
    "        \n",
    "embedding_matrix"
   ]
  },
  {
   "cell_type": "code",
   "execution_count": 34,
   "metadata": {
    "id": "B9xLBkVcylz4"
   },
   "outputs": [
    {
     "name": "stderr",
     "output_type": "stream",
     "text": [
      "2023-05-12 23:57:59.211767: I tensorflow/core/common_runtime/executor.cc:1197] [/device:CPU:0] (DEBUG INFO) Executor start aborting (this does not indicate an error and you can ignore this message): INVALID_ARGUMENT: You must feed a value for placeholder tensor 'gradients/split_2_grad/concat/split_2/split_dim' with dtype int32\n",
      "\t [[{{node gradients/split_2_grad/concat/split_2/split_dim}}]]\n",
      "2023-05-12 23:57:59.215045: I tensorflow/core/common_runtime/executor.cc:1197] [/device:CPU:0] (DEBUG INFO) Executor start aborting (this does not indicate an error and you can ignore this message): INVALID_ARGUMENT: You must feed a value for placeholder tensor 'gradients/split_grad/concat/split/split_dim' with dtype int32\n",
      "\t [[{{node gradients/split_grad/concat/split/split_dim}}]]\n",
      "2023-05-12 23:57:59.216747: I tensorflow/core/common_runtime/executor.cc:1197] [/device:CPU:0] (DEBUG INFO) Executor start aborting (this does not indicate an error and you can ignore this message): INVALID_ARGUMENT: You must feed a value for placeholder tensor 'gradients/split_1_grad/concat/split_1/split_dim' with dtype int32\n",
      "\t [[{{node gradients/split_1_grad/concat/split_1/split_dim}}]]\n",
      "2023-05-12 23:57:59.431555: I tensorflow/core/common_runtime/executor.cc:1197] [/device:CPU:0] (DEBUG INFO) Executor start aborting (this does not indicate an error and you can ignore this message): INVALID_ARGUMENT: You must feed a value for placeholder tensor 'gradients/split_2_grad/concat/split_2/split_dim' with dtype int32\n",
      "\t [[{{node gradients/split_2_grad/concat/split_2/split_dim}}]]\n",
      "2023-05-12 23:57:59.433222: I tensorflow/core/common_runtime/executor.cc:1197] [/device:CPU:0] (DEBUG INFO) Executor start aborting (this does not indicate an error and you can ignore this message): INVALID_ARGUMENT: You must feed a value for placeholder tensor 'gradients/split_grad/concat/split/split_dim' with dtype int32\n",
      "\t [[{{node gradients/split_grad/concat/split/split_dim}}]]\n",
      "2023-05-12 23:57:59.435047: I tensorflow/core/common_runtime/executor.cc:1197] [/device:CPU:0] (DEBUG INFO) Executor start aborting (this does not indicate an error and you can ignore this message): INVALID_ARGUMENT: You must feed a value for placeholder tensor 'gradients/split_1_grad/concat/split_1/split_dim' with dtype int32\n",
      "\t [[{{node gradients/split_1_grad/concat/split_1/split_dim}}]]\n"
     ]
    }
   ],
   "source": [
    "# Create new sequential model \n",
    "model_glove = Sequential()\n",
    "# add embedding layer\n",
    "model_glove.add(\n",
    "    Embedding(input_dim=embedding_matrix.shape[0],\n",
    "              output_dim=embedding_matrix.shape[1],\n",
    "              weights = [embedding_matrix],\n",
    "              input_length=length_long_sentence))\n",
    "\n",
    "# add first lstm layer\n",
    "model_glove.add(LSTM(128, return_sequences=True, kernel_initializer='glorot_uniform'))\n",
    "\n",
    "# add drop out layer\n",
    "model_glove.add(Dropout(0.1))\n",
    "\n",
    "# add second lstm layer\n",
    "model_glove.add(LSTM(128, kernel_initializer='glorot_uniform'))\n",
    "\n",
    "\n",
    "# add dense layer\n",
    "model_glove.add(Dense(3,activation='softmax'))\n",
    "\n",
    "# compile\n",
    "model_glove.compile(optimizer=Adam(learning_rate=0.001),\n",
    "              loss='sparse_categorical_crossentropy',\n",
    "              metrics=['accuracy'])"
   ]
  },
  {
   "cell_type": "code",
   "execution_count": 36,
   "metadata": {
    "colab": {
     "base_uri": "https://localhost:8080/"
    },
    "id": "9_qBBrUD2R4B",
    "outputId": "e6404f28-867f-4771-d3e7-3bb0e163e472"
   },
   "outputs": [
    {
     "name": "stdout",
     "output_type": "stream",
     "text": [
      "Epoch 1/19\n",
      "14/14 [==============================] - 33s 2s/step - loss: 0.9547 - accuracy: 0.5456 - val_loss: 0.9539 - val_accuracy: 0.5459\n",
      "Epoch 2/19\n",
      "14/14 [==============================] - 55s 4s/step - loss: 0.9537 - accuracy: 0.5456 - val_loss: 0.9539 - val_accuracy: 0.5459\n",
      "Epoch 3/19\n",
      "14/14 [==============================] - 33s 2s/step - loss: 0.9541 - accuracy: 0.5456 - val_loss: 0.9545 - val_accuracy: 0.5459\n",
      "Epoch 4/19\n",
      "14/14 [==============================] - 33s 2s/step - loss: 0.9542 - accuracy: 0.5456 - val_loss: 0.9547 - val_accuracy: 0.5459\n",
      "Epoch 5/19\n",
      "14/14 [==============================] - 34s 2s/step - loss: 0.9546 - accuracy: 0.5456 - val_loss: 0.9541 - val_accuracy: 0.5459\n",
      "Epoch 6/19\n",
      "14/14 [==============================] - 33s 2s/step - loss: 0.9535 - accuracy: 0.5456 - val_loss: 0.9556 - val_accuracy: 0.5459\n",
      "Epoch 7/19\n",
      "14/14 [==============================] - 30s 2s/step - loss: 0.9533 - accuracy: 0.5456 - val_loss: 0.9542 - val_accuracy: 0.5459\n",
      "Epoch 8/19\n",
      "14/14 [==============================] - 29s 2s/step - loss: 0.9489 - accuracy: 0.5456 - val_loss: 0.9581 - val_accuracy: 0.5459\n",
      "Epoch 9/19\n",
      "14/14 [==============================] - 29s 2s/step - loss: 0.9475 - accuracy: 0.5458 - val_loss: 0.9546 - val_accuracy: 0.5459\n",
      "Epoch 10/19\n",
      "14/14 [==============================] - 29s 2s/step - loss: 0.9406 - accuracy: 0.5473 - val_loss: 0.9650 - val_accuracy: 0.5378\n",
      "Epoch 11/19\n",
      "14/14 [==============================] - 29s 2s/step - loss: 0.9347 - accuracy: 0.5480 - val_loss: 0.9756 - val_accuracy: 0.5294\n",
      "Epoch 12/19\n",
      "14/14 [==============================] - 29s 2s/step - loss: 0.9268 - accuracy: 0.5474 - val_loss: 0.9617 - val_accuracy: 0.5459\n",
      "Epoch 13/19\n",
      "14/14 [==============================] - 30s 2s/step - loss: 0.9218 - accuracy: 0.5529 - val_loss: 0.9756 - val_accuracy: 0.5396\n",
      "Epoch 14/19\n",
      "14/14 [==============================] - 29s 2s/step - loss: 0.9176 - accuracy: 0.5571 - val_loss: 0.9768 - val_accuracy: 0.5436\n",
      "Epoch 15/19\n",
      "14/14 [==============================] - 29s 2s/step - loss: 0.8983 - accuracy: 0.5642 - val_loss: 1.0424 - val_accuracy: 0.4065\n",
      "Epoch 16/19\n",
      "14/14 [==============================] - 29s 2s/step - loss: 0.9068 - accuracy: 0.5508 - val_loss: 0.9800 - val_accuracy: 0.5374\n",
      "Epoch 17/19\n",
      "14/14 [==============================] - 29s 2s/step - loss: 0.9374 - accuracy: 0.5645 - val_loss: 0.9787 - val_accuracy: 0.5392\n",
      "Epoch 18/19\n",
      "14/14 [==============================] - 30s 2s/step - loss: 0.9826 - accuracy: 0.5465 - val_loss: 0.9579 - val_accuracy: 0.5454\n",
      "Epoch 19/19\n",
      "14/14 [==============================] - 29s 2s/step - loss: 0.9530 - accuracy: 0.5455 - val_loss: 0.9539 - val_accuracy: 0.5454\n"
     ]
    },
    {
     "data": {
      "text/plain": [
       "<keras.callbacks.History at 0x7fcc65532220>"
      ]
     },
     "execution_count": 36,
     "metadata": {},
     "output_type": "execute_result"
    }
   ],
   "source": [
    "# Train a new LSTM model \n",
    "model_glove.fit(padded_train_lyrics, y_train_2, epochs=19, batch_size = 512, validation_data = (padded_val_lyrics, y_val))"
   ]
  },
  {
   "cell_type": "code",
   "execution_count": 38,
   "metadata": {
    "colab": {
     "base_uri": "https://localhost:8080/"
    },
    "id": "fBUIOpwQ0G53",
    "outputId": "27bd6b8f-2872-4915-f929-bccc6ad87a74"
   },
   "outputs": [
    {
     "name": "stdout",
     "output_type": "stream",
     "text": [
      "94/94 [==============================] - 8s 89ms/step - loss: 0.9549 - accuracy: 0.5462\n"
     ]
    }
   ],
   "source": [
    "# Accuracy on testing set\n",
    "accuracy_glove = model_glove.evaluate(padded_test_lyrics, y_test)"
   ]
  },
  {
   "cell_type": "code",
   "execution_count": 42,
   "metadata": {},
   "outputs": [
    {
     "data": {
      "text/plain": [
       "<sklearn.metrics._plot.confusion_matrix.ConfusionMatrixDisplay at 0x7fcc6523c7f0>"
      ]
     },
     "execution_count": 42,
     "metadata": {},
     "output_type": "execute_result"
    },
    {
     "data": {
      "image/png": "[encoded data removed]",
      "text/plain": [
       "<Figure size 640x480 with 2 Axes>"
      ]
     },
     "metadata": {},
     "output_type": "display_data"
    }
   ],
   "source": [
    "# Predict testing set and get predicted labels\n",
    "y_test_preds_lstm = convert_probs_to_labels(model_glove.predict(padded_test_lyrics))\n",
    "# Confusion matrix\n",
    "ConfusionMatrixDisplay.from_predictions(y_test, y_test_preds_lstm, normalize = 'true')"
   ]
  },
  {
   "cell_type": "code",
   "execution_count": null,
   "metadata": {},
   "outputs": [],
   "source": []
  }
 ],
 "metadata": {
  "accelerator": "GPU",
  "colab": {
   "gpuType": "T4",
   "provenance": []
  },
  "gpuClass": "standard",
  "kernelspec": {
   "display_name": "Python 3 (ipykernel)",
   "language": "python",
   "name": "python3"
  },
  "language_info": {
   "codemirror_mode": {
    "name": "ipython",
    "version": 3
   },
   "file_extension": ".py",
   "mimetype": "text/x-python",
   "name": "python",
   "nbconvert_exporter": "python",
   "pygments_lexer": "ipython3",
   "version": "3.9.13"
  }
 },
 "nbformat": 4,
 "nbformat_minor": 1
}
